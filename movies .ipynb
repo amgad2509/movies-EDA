{
 "cells": [
  {
   "cell_type": "markdown",
   "metadata": {},
   "source": [
    "# 1- import packages and load data"
   ]
  },
  {
   "cell_type": "code",
   "execution_count": 1,
   "metadata": {},
   "outputs": [
    {
     "name": "stdout",
     "output_type": "stream",
     "text": [
      "Requirement already satisfied: plotly in c:\\users\\hpc\\anaconda3\\lib\\site-packages (5.6.0)\n",
      "Requirement already satisfied: tenacity>=6.2.0 in c:\\users\\hpc\\anaconda3\\lib\\site-packages (from plotly) (8.0.1)\n",
      "Requirement already satisfied: six in c:\\users\\hpc\\anaconda3\\lib\\site-packages (from plotly) (1.15.0)\n",
      "Note: you may need to restart the kernel to use updated packages.\n"
     ]
    }
   ],
   "source": [
    "pip install plotly"
   ]
  },
  {
   "cell_type": "code",
   "execution_count": 2,
   "metadata": {},
   "outputs": [],
   "source": [
    "#import packages\n",
    "import pandas as pd\n",
    "import numpy as np\n",
    "import matplotlib.pyplot as plt\n",
    "%matplotlib inline\n",
    "import seaborn as sns\n",
    "sns.set()\n",
    "import plotly.express as px"
   ]
  },
  {
   "cell_type": "code",
   "execution_count": 3,
   "metadata": {},
   "outputs": [
    {
     "data": {
      "text/html": [
       "<div>\n",
       "<style scoped>\n",
       "    .dataframe tbody tr th:only-of-type {\n",
       "        vertical-align: middle;\n",
       "    }\n",
       "\n",
       "    .dataframe tbody tr th {\n",
       "        vertical-align: top;\n",
       "    }\n",
       "\n",
       "    .dataframe thead th {\n",
       "        text-align: right;\n",
       "    }\n",
       "</style>\n",
       "<table border=\"1\" class=\"dataframe\">\n",
       "  <thead>\n",
       "    <tr style=\"text-align: right;\">\n",
       "      <th></th>\n",
       "      <th>Release_Date</th>\n",
       "      <th>Title</th>\n",
       "      <th>Overview</th>\n",
       "      <th>Popularity</th>\n",
       "      <th>Vote_Count</th>\n",
       "      <th>Vote_Average</th>\n",
       "      <th>Original_Language</th>\n",
       "      <th>Genre</th>\n",
       "      <th>Poster_Url</th>\n",
       "    </tr>\n",
       "  </thead>\n",
       "  <tbody>\n",
       "    <tr>\n",
       "      <th>0</th>\n",
       "      <td>2021-12-15</td>\n",
       "      <td>Spider-Man: No Way Home</td>\n",
       "      <td>Peter Parker is unmasked and no longer able to...</td>\n",
       "      <td>5083.954</td>\n",
       "      <td>8940</td>\n",
       "      <td>8.3</td>\n",
       "      <td>en</td>\n",
       "      <td>Action, Adventure, Science Fiction</td>\n",
       "      <td>https://image.tmdb.org/t/p/original/1g0dhYtq4i...</td>\n",
       "    </tr>\n",
       "    <tr>\n",
       "      <th>1</th>\n",
       "      <td>2022-03-01</td>\n",
       "      <td>The Batman</td>\n",
       "      <td>In his second year of fighting crime, Batman u...</td>\n",
       "      <td>3827.658</td>\n",
       "      <td>1151</td>\n",
       "      <td>8.1</td>\n",
       "      <td>en</td>\n",
       "      <td>Crime, Mystery, Thriller</td>\n",
       "      <td>https://image.tmdb.org/t/p/original/74xTEgt7R3...</td>\n",
       "    </tr>\n",
       "    <tr>\n",
       "      <th>2</th>\n",
       "      <td>2022-02-25</td>\n",
       "      <td>No Exit</td>\n",
       "      <td>Stranded at a rest stop in the mountains durin...</td>\n",
       "      <td>2618.087</td>\n",
       "      <td>122</td>\n",
       "      <td>6.3</td>\n",
       "      <td>en</td>\n",
       "      <td>Thriller</td>\n",
       "      <td>https://image.tmdb.org/t/p/original/vDHsLnOWKl...</td>\n",
       "    </tr>\n",
       "    <tr>\n",
       "      <th>3</th>\n",
       "      <td>2021-11-24</td>\n",
       "      <td>Encanto</td>\n",
       "      <td>The tale of an extraordinary family, the Madri...</td>\n",
       "      <td>2402.201</td>\n",
       "      <td>5076</td>\n",
       "      <td>7.7</td>\n",
       "      <td>en</td>\n",
       "      <td>Animation, Comedy, Family, Fantasy</td>\n",
       "      <td>https://image.tmdb.org/t/p/original/4j0PNHkMr5...</td>\n",
       "    </tr>\n",
       "    <tr>\n",
       "      <th>4</th>\n",
       "      <td>2021-12-22</td>\n",
       "      <td>The King's Man</td>\n",
       "      <td>As a collection of history's worst tyrants and...</td>\n",
       "      <td>1895.511</td>\n",
       "      <td>1793</td>\n",
       "      <td>7.0</td>\n",
       "      <td>en</td>\n",
       "      <td>Action, Adventure, Thriller, War</td>\n",
       "      <td>https://image.tmdb.org/t/p/original/aq4Pwv5Xeu...</td>\n",
       "    </tr>\n",
       "    <tr>\n",
       "      <th>...</th>\n",
       "      <td>...</td>\n",
       "      <td>...</td>\n",
       "      <td>...</td>\n",
       "      <td>...</td>\n",
       "      <td>...</td>\n",
       "      <td>...</td>\n",
       "      <td>...</td>\n",
       "      <td>...</td>\n",
       "      <td>...</td>\n",
       "    </tr>\n",
       "    <tr>\n",
       "      <th>9832</th>\n",
       "      <td>1973-10-15</td>\n",
       "      <td>Badlands</td>\n",
       "      <td>A dramatization of the Starkweather-Fugate kil...</td>\n",
       "      <td>13.357</td>\n",
       "      <td>896</td>\n",
       "      <td>7.6</td>\n",
       "      <td>en</td>\n",
       "      <td>Drama, Crime</td>\n",
       "      <td>https://image.tmdb.org/t/p/original/z81rBzHNgi...</td>\n",
       "    </tr>\n",
       "    <tr>\n",
       "      <th>9833</th>\n",
       "      <td>2020-10-01</td>\n",
       "      <td>Violent Delights</td>\n",
       "      <td>A female vampire falls in love with a man she ...</td>\n",
       "      <td>13.356</td>\n",
       "      <td>8</td>\n",
       "      <td>3.5</td>\n",
       "      <td>es</td>\n",
       "      <td>Horror</td>\n",
       "      <td>https://image.tmdb.org/t/p/original/4b6HY7rud6...</td>\n",
       "    </tr>\n",
       "    <tr>\n",
       "      <th>9834</th>\n",
       "      <td>2016-05-06</td>\n",
       "      <td>The Offering</td>\n",
       "      <td>When young and successful reporter Jamie finds...</td>\n",
       "      <td>13.355</td>\n",
       "      <td>94</td>\n",
       "      <td>5.0</td>\n",
       "      <td>en</td>\n",
       "      <td>Mystery, Thriller, Horror</td>\n",
       "      <td>https://image.tmdb.org/t/p/original/h4uMM1wOhz...</td>\n",
       "    </tr>\n",
       "    <tr>\n",
       "      <th>9835</th>\n",
       "      <td>2021-03-31</td>\n",
       "      <td>The United States vs. Billie Holiday</td>\n",
       "      <td>Billie Holiday spent much of her career being ...</td>\n",
       "      <td>13.354</td>\n",
       "      <td>152</td>\n",
       "      <td>6.7</td>\n",
       "      <td>en</td>\n",
       "      <td>Music, Drama, History</td>\n",
       "      <td>https://image.tmdb.org/t/p/original/vEzkxuE2sJ...</td>\n",
       "    </tr>\n",
       "    <tr>\n",
       "      <th>9836</th>\n",
       "      <td>1984-09-23</td>\n",
       "      <td>Threads</td>\n",
       "      <td>Documentary style account of a nuclear holocau...</td>\n",
       "      <td>13.354</td>\n",
       "      <td>186</td>\n",
       "      <td>7.8</td>\n",
       "      <td>en</td>\n",
       "      <td>War, Drama, Science Fiction</td>\n",
       "      <td>https://image.tmdb.org/t/p/original/lBhU4U9Eeh...</td>\n",
       "    </tr>\n",
       "  </tbody>\n",
       "</table>\n",
       "<p>9837 rows × 9 columns</p>\n",
       "</div>"
      ],
      "text/plain": [
       "     Release_Date                                 Title  \\\n",
       "0      2021-12-15               Spider-Man: No Way Home   \n",
       "1      2022-03-01                            The Batman   \n",
       "2      2022-02-25                               No Exit   \n",
       "3      2021-11-24                               Encanto   \n",
       "4      2021-12-22                        The King's Man   \n",
       "...           ...                                   ...   \n",
       "9832   1973-10-15                              Badlands   \n",
       "9833   2020-10-01                      Violent Delights   \n",
       "9834   2016-05-06                          The Offering   \n",
       "9835   2021-03-31  The United States vs. Billie Holiday   \n",
       "9836   1984-09-23                               Threads   \n",
       "\n",
       "                                               Overview  Popularity  \\\n",
       "0     Peter Parker is unmasked and no longer able to...    5083.954   \n",
       "1     In his second year of fighting crime, Batman u...    3827.658   \n",
       "2     Stranded at a rest stop in the mountains durin...    2618.087   \n",
       "3     The tale of an extraordinary family, the Madri...    2402.201   \n",
       "4     As a collection of history's worst tyrants and...    1895.511   \n",
       "...                                                 ...         ...   \n",
       "9832  A dramatization of the Starkweather-Fugate kil...      13.357   \n",
       "9833  A female vampire falls in love with a man she ...      13.356   \n",
       "9834  When young and successful reporter Jamie finds...      13.355   \n",
       "9835  Billie Holiday spent much of her career being ...      13.354   \n",
       "9836  Documentary style account of a nuclear holocau...      13.354   \n",
       "\n",
       "     Vote_Count Vote_Average Original_Language  \\\n",
       "0          8940          8.3                en   \n",
       "1          1151          8.1                en   \n",
       "2           122          6.3                en   \n",
       "3          5076          7.7                en   \n",
       "4          1793          7.0                en   \n",
       "...         ...          ...               ...   \n",
       "9832        896          7.6                en   \n",
       "9833          8          3.5                es   \n",
       "9834         94          5.0                en   \n",
       "9835        152          6.7                en   \n",
       "9836        186          7.8                en   \n",
       "\n",
       "                                   Genre  \\\n",
       "0     Action, Adventure, Science Fiction   \n",
       "1               Crime, Mystery, Thriller   \n",
       "2                               Thriller   \n",
       "3     Animation, Comedy, Family, Fantasy   \n",
       "4       Action, Adventure, Thriller, War   \n",
       "...                                  ...   \n",
       "9832                        Drama, Crime   \n",
       "9833                              Horror   \n",
       "9834           Mystery, Thriller, Horror   \n",
       "9835               Music, Drama, History   \n",
       "9836         War, Drama, Science Fiction   \n",
       "\n",
       "                                             Poster_Url  \n",
       "0     https://image.tmdb.org/t/p/original/1g0dhYtq4i...  \n",
       "1     https://image.tmdb.org/t/p/original/74xTEgt7R3...  \n",
       "2     https://image.tmdb.org/t/p/original/vDHsLnOWKl...  \n",
       "3     https://image.tmdb.org/t/p/original/4j0PNHkMr5...  \n",
       "4     https://image.tmdb.org/t/p/original/aq4Pwv5Xeu...  \n",
       "...                                                 ...  \n",
       "9832  https://image.tmdb.org/t/p/original/z81rBzHNgi...  \n",
       "9833  https://image.tmdb.org/t/p/original/4b6HY7rud6...  \n",
       "9834  https://image.tmdb.org/t/p/original/h4uMM1wOhz...  \n",
       "9835  https://image.tmdb.org/t/p/original/vEzkxuE2sJ...  \n",
       "9836  https://image.tmdb.org/t/p/original/lBhU4U9Eeh...  \n",
       "\n",
       "[9837 rows x 9 columns]"
      ]
     },
     "execution_count": 3,
     "metadata": {},
     "output_type": "execute_result"
    }
   ],
   "source": [
    "df=pd.read_csv('mymoviedb.csv',engine='python')\n",
    "df"
   ]
  },
  {
   "cell_type": "code",
   "execution_count": 4,
   "metadata": {},
   "outputs": [
    {
     "data": {
      "text/html": [
       "<div>\n",
       "<style scoped>\n",
       "    .dataframe tbody tr th:only-of-type {\n",
       "        vertical-align: middle;\n",
       "    }\n",
       "\n",
       "    .dataframe tbody tr th {\n",
       "        vertical-align: top;\n",
       "    }\n",
       "\n",
       "    .dataframe thead th {\n",
       "        text-align: right;\n",
       "    }\n",
       "</style>\n",
       "<table border=\"1\" class=\"dataframe\">\n",
       "  <thead>\n",
       "    <tr style=\"text-align: right;\">\n",
       "      <th></th>\n",
       "      <th>Release_Date</th>\n",
       "      <th>Title</th>\n",
       "      <th>Overview</th>\n",
       "      <th>Popularity</th>\n",
       "      <th>Vote_Count</th>\n",
       "      <th>Vote_Average</th>\n",
       "      <th>Original_Language</th>\n",
       "      <th>Genre</th>\n",
       "      <th>Poster_Url</th>\n",
       "    </tr>\n",
       "  </thead>\n",
       "  <tbody>\n",
       "    <tr>\n",
       "      <th>0</th>\n",
       "      <td>2021-12-15</td>\n",
       "      <td>Spider-Man: No Way Home</td>\n",
       "      <td>Peter Parker is unmasked and no longer able to...</td>\n",
       "      <td>5083.954</td>\n",
       "      <td>8940</td>\n",
       "      <td>8.3</td>\n",
       "      <td>en</td>\n",
       "      <td>Action, Adventure, Science Fiction</td>\n",
       "      <td>https://image.tmdb.org/t/p/original/1g0dhYtq4i...</td>\n",
       "    </tr>\n",
       "    <tr>\n",
       "      <th>1</th>\n",
       "      <td>2022-03-01</td>\n",
       "      <td>The Batman</td>\n",
       "      <td>In his second year of fighting crime, Batman u...</td>\n",
       "      <td>3827.658</td>\n",
       "      <td>1151</td>\n",
       "      <td>8.1</td>\n",
       "      <td>en</td>\n",
       "      <td>Crime, Mystery, Thriller</td>\n",
       "      <td>https://image.tmdb.org/t/p/original/74xTEgt7R3...</td>\n",
       "    </tr>\n",
       "    <tr>\n",
       "      <th>2</th>\n",
       "      <td>2022-02-25</td>\n",
       "      <td>No Exit</td>\n",
       "      <td>Stranded at a rest stop in the mountains durin...</td>\n",
       "      <td>2618.087</td>\n",
       "      <td>122</td>\n",
       "      <td>6.3</td>\n",
       "      <td>en</td>\n",
       "      <td>Thriller</td>\n",
       "      <td>https://image.tmdb.org/t/p/original/vDHsLnOWKl...</td>\n",
       "    </tr>\n",
       "    <tr>\n",
       "      <th>3</th>\n",
       "      <td>2021-11-24</td>\n",
       "      <td>Encanto</td>\n",
       "      <td>The tale of an extraordinary family, the Madri...</td>\n",
       "      <td>2402.201</td>\n",
       "      <td>5076</td>\n",
       "      <td>7.7</td>\n",
       "      <td>en</td>\n",
       "      <td>Animation, Comedy, Family, Fantasy</td>\n",
       "      <td>https://image.tmdb.org/t/p/original/4j0PNHkMr5...</td>\n",
       "    </tr>\n",
       "    <tr>\n",
       "      <th>4</th>\n",
       "      <td>2021-12-22</td>\n",
       "      <td>The King's Man</td>\n",
       "      <td>As a collection of history's worst tyrants and...</td>\n",
       "      <td>1895.511</td>\n",
       "      <td>1793</td>\n",
       "      <td>7.0</td>\n",
       "      <td>en</td>\n",
       "      <td>Action, Adventure, Thriller, War</td>\n",
       "      <td>https://image.tmdb.org/t/p/original/aq4Pwv5Xeu...</td>\n",
       "    </tr>\n",
       "  </tbody>\n",
       "</table>\n",
       "</div>"
      ],
      "text/plain": [
       "  Release_Date                    Title  \\\n",
       "0   2021-12-15  Spider-Man: No Way Home   \n",
       "1   2022-03-01               The Batman   \n",
       "2   2022-02-25                  No Exit   \n",
       "3   2021-11-24                  Encanto   \n",
       "4   2021-12-22           The King's Man   \n",
       "\n",
       "                                            Overview  Popularity Vote_Count  \\\n",
       "0  Peter Parker is unmasked and no longer able to...    5083.954       8940   \n",
       "1  In his second year of fighting crime, Batman u...    3827.658       1151   \n",
       "2  Stranded at a rest stop in the mountains durin...    2618.087        122   \n",
       "3  The tale of an extraordinary family, the Madri...    2402.201       5076   \n",
       "4  As a collection of history's worst tyrants and...    1895.511       1793   \n",
       "\n",
       "  Vote_Average Original_Language                               Genre  \\\n",
       "0          8.3                en  Action, Adventure, Science Fiction   \n",
       "1          8.1                en            Crime, Mystery, Thriller   \n",
       "2          6.3                en                            Thriller   \n",
       "3          7.7                en  Animation, Comedy, Family, Fantasy   \n",
       "4          7.0                en    Action, Adventure, Thriller, War   \n",
       "\n",
       "                                          Poster_Url  \n",
       "0  https://image.tmdb.org/t/p/original/1g0dhYtq4i...  \n",
       "1  https://image.tmdb.org/t/p/original/74xTEgt7R3...  \n",
       "2  https://image.tmdb.org/t/p/original/vDHsLnOWKl...  \n",
       "3  https://image.tmdb.org/t/p/original/4j0PNHkMr5...  \n",
       "4  https://image.tmdb.org/t/p/original/aq4Pwv5Xeu...  "
      ]
     },
     "execution_count": 4,
     "metadata": {},
     "output_type": "execute_result"
    }
   ],
   "source": [
    "df.head()"
   ]
  },
  {
   "cell_type": "markdown",
   "metadata": {},
   "source": [
    "<a id='wrangling'></a>\n",
    "## Data Wrangling\n",
    "\n",
    "\n",
    "\n",
    "### General Properties"
   ]
  },
  {
   "cell_type": "code",
   "execution_count": 5,
   "metadata": {},
   "outputs": [
    {
     "name": "stdout",
     "output_type": "stream",
     "text": [
      "<class 'pandas.core.frame.DataFrame'>\n",
      "RangeIndex: 9837 entries, 0 to 9836\n",
      "Data columns (total 9 columns):\n",
      " #   Column             Non-Null Count  Dtype  \n",
      "---  ------             --------------  -----  \n",
      " 0   Release_Date       9837 non-null   object \n",
      " 1   Title              9828 non-null   object \n",
      " 2   Overview           9828 non-null   object \n",
      " 3   Popularity         9827 non-null   float64\n",
      " 4   Vote_Count         9827 non-null   object \n",
      " 5   Vote_Average       9827 non-null   object \n",
      " 6   Original_Language  9827 non-null   object \n",
      " 7   Genre              9826 non-null   object \n",
      " 8   Poster_Url         9826 non-null   object \n",
      "dtypes: float64(1), object(8)\n",
      "memory usage: 691.8+ KB\n"
     ]
    }
   ],
   "source": [
    "# show some general properties for the data\n",
    "#To know nan values and data type for features\n",
    "df.info()\n",
    "#Some features have missing values and we want to change the data type for release date,Vote_Count and Vote_Average"
   ]
  },
  {
   "cell_type": "code",
   "execution_count": 6,
   "metadata": {},
   "outputs": [
    {
     "data": {
      "text/plain": [
       "Beauty and the Beast    4\n",
       "Alice in Wonderland     4\n",
       "Porno                   3\n",
       "The Jungle Book         3\n",
       "Black Christmas         3\n",
       "                       ..\n",
       "Attack on Titan         1\n",
       "Next Gen                1\n",
       "The Glimmer Man         1\n",
       "The Call of Sex         1\n",
       "Runaway Train           1\n",
       "Name: Title, Length: 9514, dtype: int64"
      ]
     },
     "execution_count": 6,
     "metadata": {},
     "output_type": "execute_result"
    }
   ],
   "source": [
    "df['Title'].value_counts()"
   ]
  },
  {
   "cell_type": "markdown",
   "metadata": {},
   "source": [
    "# 3-This summary about what I get form the above functions\n",
    "> #### 1- We want to change data type for Release_Date from object to date_time , and Vote_Count,Vote_Average from object to int64 ,float64 recpectivily\n",
    "> #### 2- dealing with NAN values\n",
    "> #### 3- change data type for Original_Language and Genre to categorical\n",
    "> #### 4-see why Title column has duplicates "
   ]
  },
  {
   "cell_type": "code",
   "execution_count": 7,
   "metadata": {},
   "outputs": [
    {
     "name": "stdout",
     "output_type": "stream",
     "text": [
      "<class 'pandas.core.frame.DataFrame'>\n",
      "RangeIndex: 9837 entries, 0 to 9836\n",
      "Data columns (total 9 columns):\n",
      " #   Column             Non-Null Count  Dtype         \n",
      "---  ------             --------------  -----         \n",
      " 0   Release_Date       9827 non-null   datetime64[ns]\n",
      " 1   Title              9828 non-null   object        \n",
      " 2   Overview           9828 non-null   object        \n",
      " 3   Popularity         9827 non-null   float64       \n",
      " 4   Vote_Count         9827 non-null   object        \n",
      " 5   Vote_Average       9827 non-null   object        \n",
      " 6   Original_Language  9827 non-null   object        \n",
      " 7   Genre              9826 non-null   object        \n",
      " 8   Poster_Url         9826 non-null   object        \n",
      "dtypes: datetime64[ns](1), float64(1), object(7)\n",
      "memory usage: 691.8+ KB\n"
     ]
    }
   ],
   "source": [
    "#change dt for 'Release_Date' to_datetime\n",
    "df['Release_Date']=pd.to_datetime(df['Release_Date'], errors='coerce')\n",
    "#assert that\n",
    "df.info()"
   ]
  },
  {
   "cell_type": "code",
   "execution_count": 8,
   "metadata": {},
   "outputs": [
    {
     "data": {
      "text/html": [
       "<div>\n",
       "<style scoped>\n",
       "    .dataframe tbody tr th:only-of-type {\n",
       "        vertical-align: middle;\n",
       "    }\n",
       "\n",
       "    .dataframe tbody tr th {\n",
       "        vertical-align: top;\n",
       "    }\n",
       "\n",
       "    .dataframe thead th {\n",
       "        text-align: right;\n",
       "    }\n",
       "</style>\n",
       "<table border=\"1\" class=\"dataframe\">\n",
       "  <thead>\n",
       "    <tr style=\"text-align: right;\">\n",
       "      <th></th>\n",
       "      <th>Release_Date</th>\n",
       "      <th>Title</th>\n",
       "      <th>Overview</th>\n",
       "      <th>Popularity</th>\n",
       "      <th>Vote_Count</th>\n",
       "      <th>Vote_Average</th>\n",
       "      <th>Original_Language</th>\n",
       "      <th>Genre</th>\n",
       "      <th>Poster_Url</th>\n",
       "    </tr>\n",
       "  </thead>\n",
       "  <tbody>\n",
       "    <tr>\n",
       "      <th>1106</th>\n",
       "      <td>NaT</td>\n",
       "      <td>None</td>\n",
       "      <td>None</td>\n",
       "      <td>NaN</td>\n",
       "      <td>None</td>\n",
       "      <td>None</td>\n",
       "      <td>None</td>\n",
       "      <td>None</td>\n",
       "      <td>None</td>\n",
       "    </tr>\n",
       "    <tr>\n",
       "      <th>1107</th>\n",
       "      <td>NaT</td>\n",
       "      <td>None</td>\n",
       "      <td>None</td>\n",
       "      <td>NaN</td>\n",
       "      <td>None</td>\n",
       "      <td>None</td>\n",
       "      <td>None</td>\n",
       "      <td>None</td>\n",
       "      <td>None</td>\n",
       "    </tr>\n",
       "    <tr>\n",
       "      <th>1108</th>\n",
       "      <td>NaT</td>\n",
       "      <td>None</td>\n",
       "      <td>None</td>\n",
       "      <td>NaN</td>\n",
       "      <td>None</td>\n",
       "      <td>None</td>\n",
       "      <td>None</td>\n",
       "      <td>None</td>\n",
       "      <td>None</td>\n",
       "    </tr>\n",
       "    <tr>\n",
       "      <th>1109</th>\n",
       "      <td>NaT</td>\n",
       "      <td>None</td>\n",
       "      <td>None</td>\n",
       "      <td>NaN</td>\n",
       "      <td>None</td>\n",
       "      <td>None</td>\n",
       "      <td>None</td>\n",
       "      <td>None</td>\n",
       "      <td>None</td>\n",
       "    </tr>\n",
       "    <tr>\n",
       "      <th>1110</th>\n",
       "      <td>NaT</td>\n",
       "      <td>None</td>\n",
       "      <td>None</td>\n",
       "      <td>NaN</td>\n",
       "      <td>None</td>\n",
       "      <td>None</td>\n",
       "      <td>None</td>\n",
       "      <td>None</td>\n",
       "      <td>None</td>\n",
       "    </tr>\n",
       "    <tr>\n",
       "      <th>1111</th>\n",
       "      <td>NaT</td>\n",
       "      <td>None</td>\n",
       "      <td>None</td>\n",
       "      <td>NaN</td>\n",
       "      <td>None</td>\n",
       "      <td>None</td>\n",
       "      <td>None</td>\n",
       "      <td>None</td>\n",
       "      <td>None</td>\n",
       "    </tr>\n",
       "    <tr>\n",
       "      <th>1112</th>\n",
       "      <td>NaT</td>\n",
       "      <td>None</td>\n",
       "      <td>None</td>\n",
       "      <td>NaN</td>\n",
       "      <td>None</td>\n",
       "      <td>None</td>\n",
       "      <td>None</td>\n",
       "      <td>None</td>\n",
       "      <td>None</td>\n",
       "    </tr>\n",
       "    <tr>\n",
       "      <th>1113</th>\n",
       "      <td>NaT</td>\n",
       "      <td>None</td>\n",
       "      <td>None</td>\n",
       "      <td>NaN</td>\n",
       "      <td>None</td>\n",
       "      <td>None</td>\n",
       "      <td>None</td>\n",
       "      <td>None</td>\n",
       "      <td>None</td>\n",
       "    </tr>\n",
       "    <tr>\n",
       "      <th>1114</th>\n",
       "      <td>NaT</td>\n",
       "      <td>None</td>\n",
       "      <td>None</td>\n",
       "      <td>NaN</td>\n",
       "      <td>None</td>\n",
       "      <td>None</td>\n",
       "      <td>None</td>\n",
       "      <td>None</td>\n",
       "      <td>None</td>\n",
       "    </tr>\n",
       "    <tr>\n",
       "      <th>1115</th>\n",
       "      <td>NaT</td>\n",
       "      <td>61.328</td>\n",
       "      <td>35</td>\n",
       "      <td>7.1</td>\n",
       "      <td>en</td>\n",
       "      <td>Animation</td>\n",
       "      <td>https://image.tmdb.org/t/p/original/6iXYe7AkQ1...</td>\n",
       "      <td>None</td>\n",
       "      <td>None</td>\n",
       "    </tr>\n",
       "  </tbody>\n",
       "</table>\n",
       "</div>"
      ],
      "text/plain": [
       "     Release_Date   Title Overview  Popularity Vote_Count Vote_Average  \\\n",
       "1106          NaT    None     None         NaN       None         None   \n",
       "1107          NaT    None     None         NaN       None         None   \n",
       "1108          NaT    None     None         NaN       None         None   \n",
       "1109          NaT    None     None         NaN       None         None   \n",
       "1110          NaT    None     None         NaN       None         None   \n",
       "1111          NaT    None     None         NaN       None         None   \n",
       "1112          NaT    None     None         NaN       None         None   \n",
       "1113          NaT    None     None         NaN       None         None   \n",
       "1114          NaT    None     None         NaN       None         None   \n",
       "1115          NaT  61.328       35         7.1         en    Animation   \n",
       "\n",
       "                                      Original_Language Genre Poster_Url  \n",
       "1106                                               None  None       None  \n",
       "1107                                               None  None       None  \n",
       "1108                                               None  None       None  \n",
       "1109                                               None  None       None  \n",
       "1110                                               None  None       None  \n",
       "1111                                               None  None       None  \n",
       "1112                                               None  None       None  \n",
       "1113                                               None  None       None  \n",
       "1114                                               None  None       None  \n",
       "1115  https://image.tmdb.org/t/p/original/6iXYe7AkQ1...  None       None  "
      ]
     },
     "execution_count": 8,
     "metadata": {},
     "output_type": "execute_result"
    }
   ],
   "source": [
    "#To show the columns that have nat values\n",
    "df[df['Release_Date'].isna()]\n",
    "#Release_Date have NAT values also anther columns have NAN values so will drop these rows"
   ]
  },
  {
   "cell_type": "code",
   "execution_count": 9,
   "metadata": {},
   "outputs": [],
   "source": [
    "#drop rows that have NAT&NAN Values\n",
    "df.drop(index=[1106,1107,1108,1109,1110,1111,1112,1113,1114,1115],axis=0,inplace=True)"
   ]
  },
  {
   "cell_type": "code",
   "execution_count": 10,
   "metadata": {},
   "outputs": [
    {
     "name": "stdout",
     "output_type": "stream",
     "text": [
      "<class 'pandas.core.frame.DataFrame'>\n",
      "Int64Index: 9827 entries, 0 to 9836\n",
      "Data columns (total 9 columns):\n",
      " #   Column             Non-Null Count  Dtype         \n",
      "---  ------             --------------  -----         \n",
      " 0   Release_Date       9827 non-null   datetime64[ns]\n",
      " 1   Title              9827 non-null   object        \n",
      " 2   Overview           9827 non-null   object        \n",
      " 3   Popularity         9826 non-null   float64       \n",
      " 4   Vote_Count         9826 non-null   object        \n",
      " 5   Vote_Average       9826 non-null   object        \n",
      " 6   Original_Language  9826 non-null   object        \n",
      " 7   Genre              9826 non-null   object        \n",
      " 8   Poster_Url         9826 non-null   object        \n",
      "dtypes: datetime64[ns](1), float64(1), object(7)\n",
      "memory usage: 767.7+ KB\n"
     ]
    }
   ],
   "source": [
    "#check again \n",
    "df.info()\n",
    "#now Release_Date has no nan values"
   ]
  },
  {
   "cell_type": "code",
   "execution_count": 11,
   "metadata": {},
   "outputs": [
    {
     "data": {
      "text/html": [
       "<div>\n",
       "<style scoped>\n",
       "    .dataframe tbody tr th:only-of-type {\n",
       "        vertical-align: middle;\n",
       "    }\n",
       "\n",
       "    .dataframe tbody tr th {\n",
       "        vertical-align: top;\n",
       "    }\n",
       "\n",
       "    .dataframe thead th {\n",
       "        text-align: right;\n",
       "    }\n",
       "</style>\n",
       "<table border=\"1\" class=\"dataframe\">\n",
       "  <thead>\n",
       "    <tr style=\"text-align: right;\">\n",
       "      <th></th>\n",
       "      <th>Release_Date</th>\n",
       "      <th>Title</th>\n",
       "      <th>Overview</th>\n",
       "      <th>Popularity</th>\n",
       "      <th>Vote_Count</th>\n",
       "      <th>Vote_Average</th>\n",
       "      <th>Original_Language</th>\n",
       "      <th>Genre</th>\n",
       "      <th>Poster_Url</th>\n",
       "    </tr>\n",
       "  </thead>\n",
       "  <tbody>\n",
       "    <tr>\n",
       "      <th>1105</th>\n",
       "      <td>2013-10-20</td>\n",
       "      <td>Pixie Hollow Bake Off</td>\n",
       "      <td>Tink challenges Gelata to see who can bake the...</td>\n",
       "      <td>NaN</td>\n",
       "      <td>None</td>\n",
       "      <td>None</td>\n",
       "      <td>None</td>\n",
       "      <td>None</td>\n",
       "      <td>None</td>\n",
       "    </tr>\n",
       "  </tbody>\n",
       "</table>\n",
       "</div>"
      ],
      "text/plain": [
       "     Release_Date                  Title  \\\n",
       "1105   2013-10-20  Pixie Hollow Bake Off   \n",
       "\n",
       "                                               Overview  Popularity  \\\n",
       "1105  Tink challenges Gelata to see who can bake the...         NaN   \n",
       "\n",
       "     Vote_Count Vote_Average Original_Language Genre Poster_Url  \n",
       "1105       None         None              None  None       None  "
      ]
     },
     "execution_count": 11,
     "metadata": {},
     "output_type": "execute_result"
    }
   ],
   "source": [
    "df[df['Vote_Count'].isna()]\n",
    "#only one row ,Not useful for data analysis so I will drop this row"
   ]
  },
  {
   "cell_type": "code",
   "execution_count": 12,
   "metadata": {},
   "outputs": [],
   "source": [
    "#drop this row \n",
    "df.drop(index=1105,axis=0,inplace=True)"
   ]
  },
  {
   "cell_type": "code",
   "execution_count": 13,
   "metadata": {},
   "outputs": [],
   "source": [
    "#convert data type for 'Vote_Count' and Vote_Average\n",
    "df['Vote_Count']=pd.to_numeric(df['Vote_Count'])\n",
    "df['Vote_Average']=pd.to_numeric(df['Vote_Average'])"
   ]
  },
  {
   "cell_type": "code",
   "execution_count": 14,
   "metadata": {},
   "outputs": [],
   "source": [
    "df['Genre']=df['Genre'].astype('category')"
   ]
  },
  {
   "cell_type": "code",
   "execution_count": 15,
   "metadata": {},
   "outputs": [],
   "source": [
    "df['Original_Language']=df['Original_Language'].astype('category')"
   ]
  },
  {
   "cell_type": "code",
   "execution_count": 16,
   "metadata": {},
   "outputs": [
    {
     "data": {
      "text/plain": [
       "Drama                                        466\n",
       "Comedy                                       403\n",
       "Drama, Romance                               248\n",
       "Horror                                       238\n",
       "Horror, Thriller                             199\n",
       "                                            ... \n",
       "Comedy, Horror, Science Fiction, Thriller      1\n",
       "Horror, Science Fiction, Action, Thriller      1\n",
       "Comedy, Horror, War                            1\n",
       "Horror, Science Fiction, Action, Fantasy       1\n",
       "Crime, Thriller, Animation                     1\n",
       "Name: Genre, Length: 2337, dtype: int64"
      ]
     },
     "execution_count": 16,
     "metadata": {},
     "output_type": "execute_result"
    }
   ],
   "source": [
    "df['Genre'].value_counts()"
   ]
  },
  {
   "cell_type": "code",
   "execution_count": 17,
   "metadata": {},
   "outputs": [
    {
     "name": "stdout",
     "output_type": "stream",
     "text": [
      "<class 'pandas.core.frame.DataFrame'>\n",
      "Int64Index: 9826 entries, 0 to 9836\n",
      "Data columns (total 9 columns):\n",
      " #   Column             Non-Null Count  Dtype         \n",
      "---  ------             --------------  -----         \n",
      " 0   Release_Date       9826 non-null   datetime64[ns]\n",
      " 1   Title              9826 non-null   object        \n",
      " 2   Overview           9826 non-null   object        \n",
      " 3   Popularity         9826 non-null   float64       \n",
      " 4   Vote_Count         9826 non-null   int64         \n",
      " 5   Vote_Average       9826 non-null   float64       \n",
      " 6   Original_Language  9826 non-null   category      \n",
      " 7   Genre              9826 non-null   category      \n",
      " 8   Poster_Url         9826 non-null   object        \n",
      "dtypes: category(2), datetime64[ns](1), float64(2), int64(1), object(3)\n",
      "memory usage: 742.8+ KB\n"
     ]
    }
   ],
   "source": [
    "#check again \n",
    "df.info()\n",
    "#our data now not have any NAN values also, correct data type\n",
    "#all the column are cleaing and ready for the next step `EDA`"
   ]
  },
  {
   "cell_type": "code",
   "execution_count": 18,
   "metadata": {},
   "outputs": [
    {
     "data": {
      "text/html": [
       "<div>\n",
       "<style scoped>\n",
       "    .dataframe tbody tr th:only-of-type {\n",
       "        vertical-align: middle;\n",
       "    }\n",
       "\n",
       "    .dataframe tbody tr th {\n",
       "        vertical-align: top;\n",
       "    }\n",
       "\n",
       "    .dataframe thead th {\n",
       "        text-align: right;\n",
       "    }\n",
       "</style>\n",
       "<table border=\"1\" class=\"dataframe\">\n",
       "  <thead>\n",
       "    <tr style=\"text-align: right;\">\n",
       "      <th></th>\n",
       "      <th>Popularity</th>\n",
       "      <th>Vote_Count</th>\n",
       "      <th>Vote_Average</th>\n",
       "    </tr>\n",
       "  </thead>\n",
       "  <tbody>\n",
       "    <tr>\n",
       "      <th>count</th>\n",
       "      <td>9826.00</td>\n",
       "      <td>9826.00</td>\n",
       "      <td>9826.00</td>\n",
       "    </tr>\n",
       "    <tr>\n",
       "      <th>mean</th>\n",
       "      <td>40.32</td>\n",
       "      <td>1392.94</td>\n",
       "      <td>6.44</td>\n",
       "    </tr>\n",
       "    <tr>\n",
       "      <th>std</th>\n",
       "      <td>108.88</td>\n",
       "      <td>2611.30</td>\n",
       "      <td>1.13</td>\n",
       "    </tr>\n",
       "    <tr>\n",
       "      <th>min</th>\n",
       "      <td>13.35</td>\n",
       "      <td>0.00</td>\n",
       "      <td>0.00</td>\n",
       "    </tr>\n",
       "    <tr>\n",
       "      <th>25%</th>\n",
       "      <td>16.13</td>\n",
       "      <td>146.00</td>\n",
       "      <td>5.90</td>\n",
       "    </tr>\n",
       "    <tr>\n",
       "      <th>50%</th>\n",
       "      <td>21.20</td>\n",
       "      <td>444.00</td>\n",
       "      <td>6.50</td>\n",
       "    </tr>\n",
       "    <tr>\n",
       "      <th>75%</th>\n",
       "      <td>35.18</td>\n",
       "      <td>1376.00</td>\n",
       "      <td>7.10</td>\n",
       "    </tr>\n",
       "    <tr>\n",
       "      <th>max</th>\n",
       "      <td>5083.95</td>\n",
       "      <td>31077.00</td>\n",
       "      <td>10.00</td>\n",
       "    </tr>\n",
       "  </tbody>\n",
       "</table>\n",
       "</div>"
      ],
      "text/plain": [
       "       Popularity  Vote_Count  Vote_Average\n",
       "count     9826.00     9826.00       9826.00\n",
       "mean        40.32     1392.94          6.44\n",
       "std        108.88     2611.30          1.13\n",
       "min         13.35        0.00          0.00\n",
       "25%         16.13      146.00          5.90\n",
       "50%         21.20      444.00          6.50\n",
       "75%         35.18     1376.00          7.10\n",
       "max       5083.95    31077.00         10.00"
      ]
     },
     "execution_count": 18,
     "metadata": {},
     "output_type": "execute_result"
    }
   ],
   "source": [
    "#TO KNOW OUTLIERS\n",
    "df.describe().round(2)\n",
    "#we have outlier at Popularity,Vote_Count,Vote_Average and we will dealing with that when arrive to Machine learning model by z-score(standrization) or IQR"
   ]
  },
  {
   "cell_type": "markdown",
   "metadata": {},
   "source": [
    "# Outlier detection & Handling"
   ]
  },
  {
   "cell_type": "code",
   "execution_count": 19,
   "metadata": {},
   "outputs": [
    {
     "data": {
      "text/plain": [
       "array([<matplotlib.axes._subplots.AxesSubplot object at 0x000001F55CA16370>,\n",
       "       <matplotlib.axes._subplots.AxesSubplot object at 0x000001F55D0DD820>,\n",
       "       <matplotlib.axes._subplots.AxesSubplot object at 0x000001F55D0F0A60>,\n",
       "       <matplotlib.axes._subplots.AxesSubplot object at 0x000001F55D106C10>],\n",
       "      dtype=object)"
      ]
     },
     "execution_count": 19,
     "metadata": {},
     "output_type": "execute_result"
    },
    {
     "data": {
      "image/png": "[encoded data removed]",
      "text/plain": [
       "<Figure size 1440x720 with 4 Axes>"
      ]
     },
     "metadata": {},
     "output_type": "display_data"
    }
   ],
   "source": [
    "df.plot(subplots=True,figsize=(20,10))\n",
    "#we have outlier at Popularity,Vote_Count,Vote_Average.... Also we can detect outliers by boxblot"
   ]
  },
  {
   "cell_type": "code",
   "execution_count": null,
   "metadata": {},
   "outputs": [],
   "source": []
  },
  {
   "cell_type": "code",
   "execution_count": null,
   "metadata": {},
   "outputs": [],
   "source": []
  },
  {
   "cell_type": "code",
   "execution_count": 20,
   "metadata": {},
   "outputs": [],
   "source": [
    "#df['Popularity']=((df['Popularity']-df['Popularity'].mean())/df['Popularity'].std()).round(2)"
   ]
  },
  {
   "cell_type": "code",
   "execution_count": 21,
   "metadata": {},
   "outputs": [],
   "source": [
    "#df.describe()"
   ]
  },
  {
   "cell_type": "code",
   "execution_count": 65,
   "metadata": {},
   "outputs": [
    {
     "data": {
      "text/plain": [
       "Alice in Wonderland     4\n",
       "Beauty and the Beast    4\n",
       "Inferno                 3\n",
       "Black Christmas         3\n",
       "Godzilla                3\n",
       "                       ..\n",
       "Attack on Titan         1\n",
       "Next Gen                1\n",
       "The Glimmer Man         1\n",
       "The Call of Sex         1\n",
       "Runaway Train           1\n",
       "Name: Title, Length: 9512, dtype: int64"
      ]
     },
     "execution_count": 65,
     "metadata": {},
     "output_type": "execute_result"
    }
   ],
   "source": [
    "df['Title'].value_counts()"
   ]
  },
  {
   "cell_type": "code",
   "execution_count": 73,
   "metadata": {},
   "outputs": [
    {
     "ename": "NameError",
     "evalue": "name 'Pd' is not defined",
     "output_type": "error",
     "traceback": [
      "\u001b[1;31m---------------------------------------------------------------------------\u001b[0m",
      "\u001b[1;31mNameError\u001b[0m                                 Traceback (most recent call last)",
      "\u001b[1;32m<ipython-input-73-371e0e449b78>\u001b[0m in \u001b[0;36m<module>\u001b[1;34m\u001b[0m\n\u001b[0;32m      3\u001b[0m \u001b[0mb\u001b[0m\u001b[1;33m=\u001b[0m\u001b[0ma\u001b[0m\u001b[1;33m[\u001b[0m\u001b[1;33m:\u001b[0m\u001b[1;33m]\u001b[0m\u001b[1;33m\u001b[0m\u001b[1;33m\u001b[0m\u001b[0m\n\u001b[0;32m      4\u001b[0m \u001b[1;32mfor\u001b[0m \u001b[0mi\u001b[0m \u001b[1;32min\u001b[0m \u001b[0mrange\u001b[0m\u001b[1;33m(\u001b[0m\u001b[0mdf\u001b[0m\u001b[1;33m[\u001b[0m\u001b[1;34m'Title'\u001b[0m\u001b[1;33m]\u001b[0m\u001b[1;33m.\u001b[0m\u001b[0mshape\u001b[0m\u001b[1;33m[\u001b[0m\u001b[1;36m0\u001b[0m\u001b[1;33m]\u001b[0m\u001b[1;33m)\u001b[0m\u001b[1;33m:\u001b[0m\u001b[1;33m\u001b[0m\u001b[1;33m\u001b[0m\u001b[0m\n\u001b[1;32m----> 5\u001b[1;33m     \u001b[0midx\u001b[0m\u001b[1;33m=\u001b[0m\u001b[0mPd\u001b[0m\u001b[1;33m.\u001b[0m\u001b[0mIndex\u001b[0m\u001b[1;33m(\u001b[0m\u001b[0ma\u001b[0m\u001b[1;33m)\u001b[0m\u001b[1;33m.\u001b[0m\u001b[0mget_loc\u001b[0m\u001b[1;33m(\u001b[0m\u001b[0mdf\u001b[0m\u001b[1;33m[\u001b[0m\u001b[0mtitle\u001b[0m\u001b[1;33m]\u001b[0m\u001b[1;33m[\u001b[0m\u001b[0mi\u001b[0m\u001b[1;33m]\u001b[0m\u001b[1;33m)\u001b[0m\u001b[1;33m\u001b[0m\u001b[1;33m\u001b[0m\u001b[0m\n\u001b[0m\u001b[0;32m      6\u001b[0m     \u001b[0mdf\u001b[0m\u001b[1;33m[\u001b[0m\u001b[1;34m'Title'\u001b[0m\u001b[1;33m]\u001b[0m\u001b[1;33m[\u001b[0m\u001b[0mi\u001b[0m\u001b[1;33m]\u001b[0m\u001b[1;33m=\u001b[0m\u001b[0mdf\u001b[0m\u001b[1;33m[\u001b[0m\u001b[1;34m'Title'\u001b[0m\u001b[1;33m]\u001b[0m\u001b[1;33m[\u001b[0m\u001b[0mi\u001b[0m\u001b[1;33m]\u001b[0m\u001b[1;33m+\u001b[0m\u001b[1;34m'part'\u001b[0m\u001b[1;33m+\u001b[0m\u001b[0mstr\u001b[0m\u001b[1;33m(\u001b[0m\u001b[1;33m(\u001b[0m\u001b[0mb\u001b[0m\u001b[1;33m[\u001b[0m\u001b[0midx\u001b[0m\u001b[1;33m]\u001b[0m\u001b[1;33m-\u001b[0m\u001b[0ma\u001b[0m\u001b[1;33m[\u001b[0m\u001b[0midx\u001b[0m\u001b[1;33m]\u001b[0m\u001b[1;33m)\u001b[0m\u001b[1;33m+\u001b[0m\u001b[1;36m1\u001b[0m\u001b[1;33m)\u001b[0m\u001b[1;33m\u001b[0m\u001b[1;33m\u001b[0m\u001b[0m\n\u001b[0;32m      7\u001b[0m     \u001b[0ma\u001b[0m\u001b[1;33m[\u001b[0m\u001b[0midx\u001b[0m\u001b[1;33m]\u001b[0m\u001b[1;33m-=\u001b[0m\u001b[1;36m1\u001b[0m\u001b[1;33m\u001b[0m\u001b[1;33m\u001b[0m\u001b[0m\n",
      "\u001b[1;31mNameError\u001b[0m: name 'Pd' is not defined"
     ]
    }
   ],
   "source": [
    "#dealing with duplicated title\n",
    "a=df['Title'].value_counts().values\n",
    "b=a[:]\n",
    "for i in range(df['Title'].shape[0]):\n",
    "    idx=Pd.Index(a).get_loc(df[title][i])\n",
    "    df['Title'][i]=df['Title'][i]+'part'+str((b[idx]-a[idx])+1)\n",
    "    a[idx]-=1"
   ]
  },
  {
   "cell_type": "markdown",
   "metadata": {},
   "source": [
    "# Explor Data\n",
    "## Questions to answers\n",
    "#### 1- What is the most popular type of movie?\n",
    "#### 2-What kind of movies have the highest rating?\n",
    "#### 3-What is the most watched movie?\n",
    "#### 4-What is the year that many films have been produced?"
   ]
  },
  {
   "cell_type": "code",
   "execution_count": 22,
   "metadata": {},
   "outputs": [
    {
     "data": {
      "text/html": [
       "<div>\n",
       "<style scoped>\n",
       "    .dataframe tbody tr th:only-of-type {\n",
       "        vertical-align: middle;\n",
       "    }\n",
       "\n",
       "    .dataframe tbody tr th {\n",
       "        vertical-align: top;\n",
       "    }\n",
       "\n",
       "    .dataframe thead th {\n",
       "        text-align: right;\n",
       "    }\n",
       "</style>\n",
       "<table border=\"1\" class=\"dataframe\">\n",
       "  <thead>\n",
       "    <tr style=\"text-align: right;\">\n",
       "      <th></th>\n",
       "      <th>Release_Date</th>\n",
       "      <th>Title</th>\n",
       "      <th>Overview</th>\n",
       "      <th>Popularity</th>\n",
       "      <th>Vote_Count</th>\n",
       "      <th>Vote_Average</th>\n",
       "      <th>Original_Language</th>\n",
       "      <th>Genre</th>\n",
       "      <th>Poster_Url</th>\n",
       "    </tr>\n",
       "  </thead>\n",
       "  <tbody>\n",
       "    <tr>\n",
       "      <th>0</th>\n",
       "      <td>2021-12-15</td>\n",
       "      <td>Spider-Man: No Way Home</td>\n",
       "      <td>Peter Parker is unmasked and no longer able to...</td>\n",
       "      <td>5083.954</td>\n",
       "      <td>8940</td>\n",
       "      <td>8.3</td>\n",
       "      <td>en</td>\n",
       "      <td>Action, Adventure, Science Fiction</td>\n",
       "      <td>https://image.tmdb.org/t/p/original/1g0dhYtq4i...</td>\n",
       "    </tr>\n",
       "    <tr>\n",
       "      <th>1</th>\n",
       "      <td>2022-03-01</td>\n",
       "      <td>The Batman</td>\n",
       "      <td>In his second year of fighting crime, Batman u...</td>\n",
       "      <td>3827.658</td>\n",
       "      <td>1151</td>\n",
       "      <td>8.1</td>\n",
       "      <td>en</td>\n",
       "      <td>Crime, Mystery, Thriller</td>\n",
       "      <td>https://image.tmdb.org/t/p/original/74xTEgt7R3...</td>\n",
       "    </tr>\n",
       "    <tr>\n",
       "      <th>2</th>\n",
       "      <td>2022-02-25</td>\n",
       "      <td>No Exit</td>\n",
       "      <td>Stranded at a rest stop in the mountains durin...</td>\n",
       "      <td>2618.087</td>\n",
       "      <td>122</td>\n",
       "      <td>6.3</td>\n",
       "      <td>en</td>\n",
       "      <td>Thriller</td>\n",
       "      <td>https://image.tmdb.org/t/p/original/vDHsLnOWKl...</td>\n",
       "    </tr>\n",
       "    <tr>\n",
       "      <th>3</th>\n",
       "      <td>2021-11-24</td>\n",
       "      <td>Encanto</td>\n",
       "      <td>The tale of an extraordinary family, the Madri...</td>\n",
       "      <td>2402.201</td>\n",
       "      <td>5076</td>\n",
       "      <td>7.7</td>\n",
       "      <td>en</td>\n",
       "      <td>Animation, Comedy, Family, Fantasy</td>\n",
       "      <td>https://image.tmdb.org/t/p/original/4j0PNHkMr5...</td>\n",
       "    </tr>\n",
       "    <tr>\n",
       "      <th>4</th>\n",
       "      <td>2021-12-22</td>\n",
       "      <td>The King's Man</td>\n",
       "      <td>As a collection of history's worst tyrants and...</td>\n",
       "      <td>1895.511</td>\n",
       "      <td>1793</td>\n",
       "      <td>7.0</td>\n",
       "      <td>en</td>\n",
       "      <td>Action, Adventure, Thriller, War</td>\n",
       "      <td>https://image.tmdb.org/t/p/original/aq4Pwv5Xeu...</td>\n",
       "    </tr>\n",
       "    <tr>\n",
       "      <th>5</th>\n",
       "      <td>2022-01-07</td>\n",
       "      <td>The Commando</td>\n",
       "      <td>An elite DEA agent returns home after a failed...</td>\n",
       "      <td>1750.484</td>\n",
       "      <td>33</td>\n",
       "      <td>6.6</td>\n",
       "      <td>en</td>\n",
       "      <td>Action, Crime, Thriller</td>\n",
       "      <td>https://image.tmdb.org/t/p/original/pSh8MyYu5C...</td>\n",
       "    </tr>\n",
       "    <tr>\n",
       "      <th>6</th>\n",
       "      <td>2022-01-12</td>\n",
       "      <td>Scream</td>\n",
       "      <td>Twenty-five years after a streak of brutal mur...</td>\n",
       "      <td>1675.161</td>\n",
       "      <td>821</td>\n",
       "      <td>6.8</td>\n",
       "      <td>en</td>\n",
       "      <td>Horror, Mystery, Thriller</td>\n",
       "      <td>https://image.tmdb.org/t/p/original/kZNHR1upJK...</td>\n",
       "    </tr>\n",
       "    <tr>\n",
       "      <th>7</th>\n",
       "      <td>2022-02-10</td>\n",
       "      <td>Kimi</td>\n",
       "      <td>A tech worker with agoraphobia discovers recor...</td>\n",
       "      <td>1601.782</td>\n",
       "      <td>206</td>\n",
       "      <td>6.3</td>\n",
       "      <td>en</td>\n",
       "      <td>Thriller</td>\n",
       "      <td>https://image.tmdb.org/t/p/original/okNgwtxIWz...</td>\n",
       "    </tr>\n",
       "    <tr>\n",
       "      <th>8</th>\n",
       "      <td>2022-02-17</td>\n",
       "      <td>Fistful of Vengeance</td>\n",
       "      <td>A revenge mission becomes a fight to save the ...</td>\n",
       "      <td>1594.013</td>\n",
       "      <td>114</td>\n",
       "      <td>5.3</td>\n",
       "      <td>en</td>\n",
       "      <td>Action, Crime, Fantasy</td>\n",
       "      <td>https://image.tmdb.org/t/p/original/3cccEF9QZg...</td>\n",
       "    </tr>\n",
       "    <tr>\n",
       "      <th>9</th>\n",
       "      <td>2021-11-03</td>\n",
       "      <td>Eternals</td>\n",
       "      <td>The Eternals are a team of ancient aliens who ...</td>\n",
       "      <td>1537.406</td>\n",
       "      <td>4726</td>\n",
       "      <td>7.2</td>\n",
       "      <td>en</td>\n",
       "      <td>Science Fiction</td>\n",
       "      <td>https://image.tmdb.org/t/p/original/zByhtBvX99...</td>\n",
       "    </tr>\n",
       "  </tbody>\n",
       "</table>\n",
       "</div>"
      ],
      "text/plain": [
       "  Release_Date                    Title  \\\n",
       "0   2021-12-15  Spider-Man: No Way Home   \n",
       "1   2022-03-01               The Batman   \n",
       "2   2022-02-25                  No Exit   \n",
       "3   2021-11-24                  Encanto   \n",
       "4   2021-12-22           The King's Man   \n",
       "5   2022-01-07             The Commando   \n",
       "6   2022-01-12                   Scream   \n",
       "7   2022-02-10                     Kimi   \n",
       "8   2022-02-17     Fistful of Vengeance   \n",
       "9   2021-11-03                 Eternals   \n",
       "\n",
       "                                            Overview  Popularity  Vote_Count  \\\n",
       "0  Peter Parker is unmasked and no longer able to...    5083.954        8940   \n",
       "1  In his second year of fighting crime, Batman u...    3827.658        1151   \n",
       "2  Stranded at a rest stop in the mountains durin...    2618.087         122   \n",
       "3  The tale of an extraordinary family, the Madri...    2402.201        5076   \n",
       "4  As a collection of history's worst tyrants and...    1895.511        1793   \n",
       "5  An elite DEA agent returns home after a failed...    1750.484          33   \n",
       "6  Twenty-five years after a streak of brutal mur...    1675.161         821   \n",
       "7  A tech worker with agoraphobia discovers recor...    1601.782         206   \n",
       "8  A revenge mission becomes a fight to save the ...    1594.013         114   \n",
       "9  The Eternals are a team of ancient aliens who ...    1537.406        4726   \n",
       "\n",
       "   Vote_Average Original_Language                               Genre  \\\n",
       "0           8.3                en  Action, Adventure, Science Fiction   \n",
       "1           8.1                en            Crime, Mystery, Thriller   \n",
       "2           6.3                en                            Thriller   \n",
       "3           7.7                en  Animation, Comedy, Family, Fantasy   \n",
       "4           7.0                en    Action, Adventure, Thriller, War   \n",
       "5           6.6                en             Action, Crime, Thriller   \n",
       "6           6.8                en           Horror, Mystery, Thriller   \n",
       "7           6.3                en                            Thriller   \n",
       "8           5.3                en              Action, Crime, Fantasy   \n",
       "9           7.2                en                     Science Fiction   \n",
       "\n",
       "                                          Poster_Url  \n",
       "0  https://image.tmdb.org/t/p/original/1g0dhYtq4i...  \n",
       "1  https://image.tmdb.org/t/p/original/74xTEgt7R3...  \n",
       "2  https://image.tmdb.org/t/p/original/vDHsLnOWKl...  \n",
       "3  https://image.tmdb.org/t/p/original/4j0PNHkMr5...  \n",
       "4  https://image.tmdb.org/t/p/original/aq4Pwv5Xeu...  \n",
       "5  https://image.tmdb.org/t/p/original/pSh8MyYu5C...  \n",
       "6  https://image.tmdb.org/t/p/original/kZNHR1upJK...  \n",
       "7  https://image.tmdb.org/t/p/original/okNgwtxIWz...  \n",
       "8  https://image.tmdb.org/t/p/original/3cccEF9QZg...  \n",
       "9  https://image.tmdb.org/t/p/original/zByhtBvX99...  "
      ]
     },
     "execution_count": 22,
     "metadata": {},
     "output_type": "execute_result"
    }
   ],
   "source": [
    "df.head(10)"
   ]
  },
  {
   "cell_type": "markdown",
   "metadata": {},
   "source": [
    "# 1-What is the most popular type of movie?"
   ]
  },
  {
   "cell_type": "code",
   "execution_count": 23,
   "metadata": {},
   "outputs": [
    {
     "data": {
      "text/plain": [
       "[Action, Adventure, Science Fiction, Crime, Mystery, Thriller, Thriller, Animation, Comedy, Family, Fantasy, Action, Adventure, Thriller, War, ..., Fantasy, Music, Crime, Drama, Romance, Thriller, Mystery, Comedy, TV Movie, Romance, Science Fiction, Fantasy, Family, Music, War, Drama, Science Fiction]\n",
       "Length: 2337\n",
       "Categories (2337, object): [Action, Adventure, Science Fiction, Crime, Mystery, Thriller, Thriller, Animation, Comedy, Family, Fantasy, ..., Crime, Drama, Romance, Thriller, Mystery, Comedy, TV Movie, Romance, Science Fiction, Fantasy, Family, Music, War, Drama, Science Fiction]"
      ]
     },
     "execution_count": 23,
     "metadata": {},
     "output_type": "execute_result"
    }
   ],
   "source": [
    "df['Genre'].unique()"
   ]
  },
  {
   "cell_type": "code",
   "execution_count": 24,
   "metadata": {},
   "outputs": [
    {
     "data": {
      "text/plain": [
       "Text(0, 0.5, 'Count')"
      ]
     },
     "execution_count": 24,
     "metadata": {},
     "output_type": "execute_result"
    },
    {
     "data": {
      "image/png": "[encoded data removed]",
      "text/plain": [
       "<Figure size 1080x720 with 1 Axes>"
      ]
     },
     "metadata": {},
     "output_type": "display_data"
    }
   ],
   "source": [
    "df_gen=df['Genre'].value_counts()\n",
    "df_gen.head(10).plot(kind='bar',figsize=(15,10))\n",
    "plt.xlabel('Type of Genre')\n",
    "plt.ylabel('Count')\n",
    "#Drama is the most popular type for movies"
   ]
  },
  {
   "cell_type": "markdown",
   "metadata": {},
   "source": [
    "### Drama is the most popular type for movies"
   ]
  },
  {
   "cell_type": "markdown",
   "metadata": {},
   "source": [
    "# 2-What kind of movies have the highest rating?"
   ]
  },
  {
   "cell_type": "code",
   "execution_count": 25,
   "metadata": {},
   "outputs": [
    {
     "data": {
      "text/plain": [
       "31077"
      ]
     },
     "execution_count": 25,
     "metadata": {},
     "output_type": "execute_result"
    }
   ],
   "source": [
    "df['Vote_Count'].max()"
   ]
  },
  {
   "cell_type": "code",
   "execution_count": 26,
   "metadata": {},
   "outputs": [
    {
     "data": {
      "text/html": [
       "<div>\n",
       "<style scoped>\n",
       "    .dataframe tbody tr th:only-of-type {\n",
       "        vertical-align: middle;\n",
       "    }\n",
       "\n",
       "    .dataframe tbody tr th {\n",
       "        vertical-align: top;\n",
       "    }\n",
       "\n",
       "    .dataframe thead th {\n",
       "        text-align: right;\n",
       "    }\n",
       "</style>\n",
       "<table border=\"1\" class=\"dataframe\">\n",
       "  <thead>\n",
       "    <tr style=\"text-align: right;\">\n",
       "      <th></th>\n",
       "      <th>Release_Date</th>\n",
       "      <th>Title</th>\n",
       "      <th>Overview</th>\n",
       "      <th>Popularity</th>\n",
       "      <th>Vote_Count</th>\n",
       "      <th>Vote_Average</th>\n",
       "      <th>Original_Language</th>\n",
       "      <th>Genre</th>\n",
       "      <th>Poster_Url</th>\n",
       "    </tr>\n",
       "  </thead>\n",
       "  <tbody>\n",
       "    <tr>\n",
       "      <th>380</th>\n",
       "      <td>2010-07-15</td>\n",
       "      <td>Inception</td>\n",
       "      <td>Cobb, a skilled thief who commits corporate es...</td>\n",
       "      <td>127.131</td>\n",
       "      <td>31077</td>\n",
       "      <td>8.4</td>\n",
       "      <td>en</td>\n",
       "      <td>Action, Science Fiction, Adventure</td>\n",
       "      <td>https://image.tmdb.org/t/p/original/edv5CZvWj0...</td>\n",
       "    </tr>\n",
       "  </tbody>\n",
       "</table>\n",
       "</div>"
      ],
      "text/plain": [
       "    Release_Date      Title  \\\n",
       "380   2010-07-15  Inception   \n",
       "\n",
       "                                              Overview  Popularity  \\\n",
       "380  Cobb, a skilled thief who commits corporate es...     127.131   \n",
       "\n",
       "     Vote_Count  Vote_Average Original_Language  \\\n",
       "380       31077           8.4                en   \n",
       "\n",
       "                                  Genre  \\\n",
       "380  Action, Science Fiction, Adventure   \n",
       "\n",
       "                                            Poster_Url  \n",
       "380  https://image.tmdb.org/t/p/original/edv5CZvWj0...  "
      ]
     },
     "execution_count": 26,
     "metadata": {},
     "output_type": "execute_result"
    }
   ],
   "source": [
    "df[df['Vote_Count']==31077]"
   ]
  },
  {
   "cell_type": "code",
   "execution_count": 27,
   "metadata": {},
   "outputs": [],
   "source": [
    "df_vot=df.sort_values('Vote_Count',ascending=False)\n",
    "#Types of moves that have high rate"
   ]
  },
  {
   "cell_type": "code",
   "execution_count": 28,
   "metadata": {},
   "outputs": [
    {
     "data": {
      "text/plain": [
       "(array([0, 1, 2, 3, 4, 5, 6, 7, 8, 9]),\n",
       " <a list of 10 Text major ticklabel objects>)"
      ]
     },
     "execution_count": 28,
     "metadata": {},
     "output_type": "execute_result"
    },
    {
     "data": {
      "image/png": "[encoded data removed]",
      "text/plain": [
       "<Figure size 360x360 with 1 Axes>"
      ]
     },
     "metadata": {},
     "output_type": "display_data"
    }
   ],
   "source": [
    "sns.catplot(x='Title',y='Vote_Count',data=df_vot.head(10),kind='bar')\n",
    "plt.xticks(rotation=90)\n",
    "#inception is a high rating"
   ]
  },
  {
   "cell_type": "markdown",
   "metadata": {},
   "source": [
    "### inception is a high rating"
   ]
  },
  {
   "cell_type": "markdown",
   "metadata": {},
   "source": [
    "# 3-What is the most watched movie?"
   ]
  },
  {
   "cell_type": "code",
   "execution_count": 29,
   "metadata": {},
   "outputs": [
    {
     "data": {
      "text/plain": [
       "(array([0, 1, 2, 3, 4, 5, 6, 7, 8, 9]),\n",
       " <a list of 10 Text major ticklabel objects>)"
      ]
     },
     "execution_count": 29,
     "metadata": {},
     "output_type": "execute_result"
    },
    {
     "data": {
      "image/png": "[encoded data removed]",
      "text/plain": [
       "<Figure size 1080x360 with 1 Axes>"
      ]
     },
     "metadata": {},
     "output_type": "display_data"
    }
   ],
   "source": [
    "df_pop=df.groupby('Title')['Popularity'].max().reset_index().sort_values(by='Popularity',ascending=False)\n",
    "sns.catplot(x =\"Title\", y =\"Popularity\",data=df_pop.head(10),kind='bar',height=5,aspect=3)\n",
    "plt.xticks(rotation=90)\n",
    "#Spider-Man: No Way Home is the most watched movie"
   ]
  },
  {
   "cell_type": "markdown",
   "metadata": {},
   "source": [
    "### Spider-Man: No Way Home is the most watched movie"
   ]
  },
  {
   "cell_type": "markdown",
   "metadata": {},
   "source": [
    "# 4-What is the year that many films have been produced?"
   ]
  },
  {
   "cell_type": "code",
   "execution_count": 30,
   "metadata": {},
   "outputs": [
    {
     "data": {
      "text/plain": [
       "Text(0, 0.5, 'Count')"
      ]
     },
     "execution_count": 30,
     "metadata": {},
     "output_type": "execute_result"
    },
    {
     "data": {
      "image/png": "[encoded data removed]",
      "text/plain": [
       "<Figure size 1080x720 with 1 Axes>"
      ]
     },
     "metadata": {},
     "output_type": "display_data"
    }
   ],
   "source": [
    "df_years=df['Release_Date'].dt.year.value_counts()[:10]\n",
    "df_years.plot(kind='line',figsize=(15,10))\n",
    "plt.xlabel('genre')\n",
    "plt.ylabel('Count')\n",
    "#2021  is the year that many films have been produced"
   ]
  },
  {
   "cell_type": "markdown",
   "metadata": {},
   "source": [
    "### 2021  is the year that many films have been produced"
   ]
  },
  {
   "cell_type": "markdown",
   "metadata": {},
   "source": [
    "# What is the most 10 popular genre of English films?"
   ]
  },
  {
   "cell_type": "code",
   "execution_count": 31,
   "metadata": {},
   "outputs": [
    {
     "data": {
      "text/plain": [
       "Text(0, 0.5, 'Count')"
      ]
     },
     "execution_count": 31,
     "metadata": {},
     "output_type": "execute_result"
    },
    {
     "data": {
      "image/png": "[encoded data removed]",
      "text/plain": [
       "<Figure size 1080x720 with 1 Axes>"
      ]
     },
     "metadata": {},
     "output_type": "display_data"
    }
   ],
   "source": [
    "df_english=df[df['Original_Language']=='en']['Genre'].value_counts()[:10]\n",
    "df_english.plot(kind='bar',figsize=(15,10))\n",
    "plt.xlabel('genre')\n",
    "plt.ylabel('Count')\n",
    "#darama and comody are the most popular genre in english movies"
   ]
  },
  {
   "cell_type": "markdown",
   "metadata": {},
   "source": [
    "### darama and comody are the most popular genre in english movies"
   ]
  },
  {
   "cell_type": "markdown",
   "metadata": {},
   "source": [
    "# What is the most 10 popular genre of France films?"
   ]
  },
  {
   "cell_type": "code",
   "execution_count": 32,
   "metadata": {
    "scrolled": true
   },
   "outputs": [],
   "source": [
    "df_france=df[df['Original_Language']=='fr']['Genre'].value_counts()[:10]"
   ]
  },
  {
   "cell_type": "code",
   "execution_count": 33,
   "metadata": {},
   "outputs": [
    {
     "data": {
      "text/plain": [
       "Text(0, 0.5, 'Count')"
      ]
     },
     "execution_count": 33,
     "metadata": {},
     "output_type": "execute_result"
    },
    {
     "data": {
      "image/png": "[encoded data removed]",
      "text/plain": [
       "<Figure size 1080x720 with 1 Axes>"
      ]
     },
     "metadata": {},
     "output_type": "display_data"
    }
   ],
   "source": [
    "df_france.plot(kind='bar',figsize=(15,10))\n",
    "plt.xlabel('genre')\n",
    "plt.ylabel('Count')\n",
    "#comody is the most popular genre in english movies"
   ]
  },
  {
   "cell_type": "markdown",
   "metadata": {},
   "source": [
    "### comody is the most popular genre in english movies"
   ]
  },
  {
   "cell_type": "markdown",
   "metadata": {},
   "source": [
    "# What country releases the most movies?"
   ]
  },
  {
   "cell_type": "code",
   "execution_count": 34,
   "metadata": {},
   "outputs": [],
   "source": [
    "top_10=df['Original_Language'].value_counts().nlargest(10)"
   ]
  },
  {
   "cell_type": "code",
   "execution_count": 35,
   "metadata": {
    "scrolled": false
   },
   "outputs": [
    {
     "data": {
      "text/plain": [
       "Text(0, 0.5, 'Count')"
      ]
     },
     "execution_count": 35,
     "metadata": {},
     "output_type": "execute_result"
    },
    {
     "data": {
      "image/png": "[encoded data removed]",
      "text/plain": [
       "<Figure size 1080x720 with 1 Axes>"
      ]
     },
     "metadata": {},
     "output_type": "display_data"
    }
   ],
   "source": [
    "top_10.plot(kind='bar',figsize=(15,10))\n",
    "plt.xlabel('Language')\n",
    "plt.ylabel('Count')\n",
    "#English 'Original_Language' releases the most movies"
   ]
  },
  {
   "cell_type": "code",
   "execution_count": 43,
   "metadata": {},
   "outputs": [
    {
     "data": {
      "application/vnd.plotly.v1+json": {
       "config": {
        "plotlyServerURL": "https://plot.ly"
       },
       "data": [
        {
         "branchvalues": "total",
         "customdata": [
          [
           null
          ],
          [
           null
          ],
          [
           null
          ],
          [
           null
          ],
          [
           null
          ],
          [
           null
          ],
          [
           null
          ],
          [
           null
          ],
          [
           null
          ],
          [
           null
          ],
          [
           null
          ],
          [
           null
          ],
          [
           null
          ],
          [
           null
          ],
          [
           null
          ],
          [
           null
          ],
          [
           null
          ],
          [
           null
          ],
          [
           null
          ],
          [
           null
          ],
          [
           null
          ],
          [
           null
          ],
          [
           null
          ],
          [
           null
          ],
          [
           null
          ],
          [
           null
          ],
          [
           null
          ],
          [
           null
          ],
          [
           null
          ],
          [
           null
          ],
          [
           null
          ],
          [
           null
          ],
          [
           null
          ],
          [
           null
          ],
          [
           null
          ],
          [
           null
          ],
          [
           null
          ],
          [
           null
          ],
          [
           null
          ],
          [
           null
          ],
          [
           null
          ],
          [
           null
          ],
          [
           null
          ],
          [
           null
          ],
          [
           null
          ],
          [
           null
          ],
          [
           null
          ],
          [
           null
          ],
          [
           null
          ],
          [
           null
          ],
          [
           null
          ],
          [
           null
          ],
          [
           null
          ],
          [
           null
          ],
          [
           null
          ],
          [
           null
          ],
          [
           null
          ],
          [
           null
          ],
          [
           null
          ],
          [
           null
          ],
          [
           null
          ],
          [
           null
          ],
          [
           null
          ],
          [
           null
          ],
          [
           null
          ],
          [
           null
          ],
          [
           null
          ],
          [
           null
          ],
          [
           null
          ],
          [
           null
          ],
          [
           null
          ],
          [
           null
          ],
          [
           null
          ],
          [
           null
          ],
          [
           null
          ],
          [
           null
          ],
          [
           null
          ],
          [
           null
          ],
          [
           null
          ],
          [
           null
          ],
          [
           13.359000000000002
          ],
          [
           13.359000000000002
          ],
          [
           13.357000000000001
          ],
          [
           null
          ],
          [
           13.357000000000001
          ],
          [
           13.355
          ],
          [
           13.354000000000001
          ],
          [
           13.354000000000001
          ],
          [
           13.357999999999999
          ],
          [
           null
          ],
          [
           null
          ],
          [
           null
          ],
          [
           null
          ],
          [
           null
          ],
          [
           null
          ],
          [
           null
          ],
          [
           null
          ],
          [
           null
          ],
          [
           null
          ],
          [
           13.356
          ],
          [
           null
          ],
          [
           null
          ],
          [
           null
          ],
          [
           null
          ],
          [
           null
          ],
          [
           null
          ],
          [
           null
          ],
          [
           null
          ],
          [
           null
          ],
          [
           null
          ],
          [
           null
          ],
          [
           null
          ],
          [
           null
          ],
          [
           null
          ],
          [
           null
          ],
          [
           null
          ],
          [
           null
          ],
          [
           null
          ],
          [
           null
          ],
          [
           null
          ],
          [
           null
          ],
          [
           null
          ],
          [
           null
          ],
          [
           null
          ],
          [
           null
          ],
          [
           null
          ],
          [
           null
          ],
          [
           null
          ],
          [
           null
          ],
          [
           null
          ],
          [
           null
          ],
          [
           null
          ],
          [
           null
          ],
          [
           null
          ],
          [
           null
          ],
          [
           null
          ],
          [
           null
          ],
          [
           null
          ],
          [
           null
          ],
          [
           null
          ],
          [
           null
          ],
          [
           null
          ],
          [
           null
          ],
          [
           null
          ],
          [
           null
          ],
          [
           null
          ],
          [
           null
          ],
          [
           null
          ],
          [
           null
          ],
          [
           null
          ],
          [
           null
          ],
          [
           null
          ],
          [
           null
          ],
          [
           null
          ],
          [
           null
          ],
          [
           null
          ],
          [
           null
          ],
          [
           null
          ],
          [
           null
          ],
          [
           null
          ],
          [
           null
          ],
          [
           null
          ],
          [
           null
          ],
          [
           null
          ],
          [
           null
          ],
          [
           null
          ],
          [
           null
          ],
          [
           null
          ],
          [
           null
          ],
          [
           null
          ],
          [
           null
          ],
          [
           null
          ],
          [
           null
          ],
          [
           null
          ],
          [
           null
          ],
          [
           null
          ],
          [
           null
          ],
          [
           null
          ],
          [
           null
          ],
          [
           null
          ],
          [
           null
          ],
          [
           null
          ],
          [
           null
          ],
          [
           null
          ],
          [
           null
          ],
          [
           null
          ],
          [
           null
          ],
          [
           null
          ],
          [
           null
          ],
          [
           null
          ],
          [
           null
          ],
          [
           null
          ],
          [
           null
          ],
          [
           null
          ],
          [
           null
          ],
          [
           null
          ],
          [
           null
          ],
          [
           null
          ],
          [
           null
          ],
          [
           null
          ],
          [
           null
          ],
          [
           null
          ],
          [
           null
          ],
          [
           null
          ],
          [
           null
          ],
          [
           null
          ],
          [
           null
          ],
          [
           null
          ],
          [
           null
          ],
          [
           null
          ],
          [
           null
          ],
          [
           null
          ],
          [
           null
          ],
          [
           13.36
          ],
          [
           null
          ],
          [
           null
          ],
          [
           null
          ],
          [
           null
          ],
          [
           null
          ],
          [
           null
          ],
          [
           null
          ],
          [
           null
          ],
          [
           null
          ],
          [
           null
          ],
          [
           null
          ],
          [
           null
          ],
          [
           null
          ],
          [
           null
          ],
          [
           null
          ],
          [
           null
          ],
          [
           null
          ],
          [
           null
          ],
          [
           null
          ],
          [
           null
          ],
          [
           null
          ],
          [
           null
          ],
          [
           null
          ],
          [
           null
          ],
          [
           null
          ],
          [
           null
          ],
          [
           null
          ],
          [
           null
          ],
          [
           null
          ],
          [
           null
          ],
          [
           null
          ],
          [
           null
          ],
          [
           null
          ],
          [
           null
          ],
          [
           null
          ],
          [
           null
          ],
          [
           null
          ],
          [
           null
          ],
          [
           null
          ],
          [
           null
          ],
          [
           null
          ],
          [
           null
          ],
          [
           null
          ],
          [
           null
          ],
          [
           null
          ],
          [
           null
          ],
          [
           null
          ],
          [
           null
          ],
          [
           null
          ],
          [
           null
          ],
          [
           null
          ],
          [
           null
          ],
          [
           null
          ],
          [
           null
          ],
          [
           null
          ],
          [
           null
          ],
          [
           null
          ],
          [
           null
          ],
          [
           null
          ],
          [
           null
          ],
          [
           null
          ],
          [
           null
          ],
          [
           null
          ],
          [
           null
          ],
          [
           null
          ],
          [
           null
          ],
          [
           null
          ],
          [
           null
          ],
          [
           null
          ],
          [
           null
          ],
          [
           null
          ],
          [
           null
          ],
          [
           null
          ],
          [
           null
          ],
          [
           null
          ],
          [
           null
          ],
          [
           null
          ],
          [
           null
          ],
          [
           null
          ],
          [
           null
          ],
          [
           null
          ],
          [
           null
          ],
          [
           null
          ],
          [
           null
          ],
          [
           null
          ],
          [
           null
          ],
          [
           null
          ],
          [
           null
          ],
          [
           null
          ],
          [
           null
          ],
          [
           null
          ],
          [
           null
          ],
          [
           null
          ],
          [
           null
          ],
          [
           null
          ],
          [
           null
          ],
          [
           null
          ],
          [
           null
          ],
          [
           null
          ],
          [
           null
          ],
          [
           null
          ],
          [
           null
          ],
          [
           null
          ],
          [
           null
          ],
          [
           null
          ],
          [
           null
          ],
          [
           null
          ],
          [
           null
          ],
          [
           null
          ],
          [
           null
          ],
          [
           null
          ],
          [
           null
          ],
          [
           null
          ],
          [
           null
          ],
          [
           null
          ],
          [
           null
          ],
          [
           null
          ],
          [
           null
          ],
          [
           null
          ],
          [
           null
          ],
          [
           null
          ],
          [
           null
          ],
          [
           null
          ],
          [
           null
          ],
          [
           null
          ],
          [
           null
          ],
          [
           null
          ],
          [
           null
          ],
          [
           null
          ],
          [
           null
          ],
          [
           null
          ],
          [
           null
          ],
          [
           null
          ],
          [
           null
          ],
          [
           null
          ],
          [
           null
          ],
          [
           null
          ],
          [
           null
          ],
          [
           null
          ],
          [
           null
          ],
          [
           null
          ],
          [
           null
          ],
          [
           null
          ],
          [
           null
          ],
          [
           null
          ],
          [
           null
          ],
          [
           null
          ],
          [
           null
          ],
          [
           null
          ],
          [
           null
          ],
          [
           null
          ],
          [
           null
          ],
          [
           null
          ],
          [
           null
          ],
          [
           null
          ],
          [
           null
          ],
          [
           null
          ],
          [
           null
          ],
          [
           null
          ],
          [
           null
          ],
          [
           null
          ],
          [
           null
          ],
          [
           null
          ],
          [
           null
          ],
          [
           null
          ],
          [
           null
          ],
          [
           null
          ],
          [
           null
          ],
          [
           null
          ],
          [
           null
          ],
          [
           null
          ],
          [
           null
          ],
          [
           null
          ],
          [
           null
          ],
          [
           null
          ],
          [
           null
          ],
          [
           null
          ],
          [
           null
          ],
          [
           null
          ],
          [
           null
          ],
          [
           null
          ],
          [
           null
          ],
          [
           null
          ],
          [
           null
          ],
          [
           null
          ],
          [
           null
          ],
          [
           null
          ],
          [
           null
          ],
          [
           null
          ],
          [
           null
          ],
          [
           null
          ],
          [
           null
          ],
          [
           null
          ],
          [
           null
          ],
          [
           null
          ],
          [
           null
          ],
          [
           null
          ],
          [
           null
          ],
          [
           null
          ],
          [
           null
          ],
          [
           null
          ],
          [
           null
          ],
          [
           null
          ],
          [
           null
          ],
          [
           null
          ],
          [
           null
          ],
          [
           null
          ],
          [
           null
          ],
          [
           null
          ],
          [
           null
          ],
          [
           null
          ],
          [
           null
          ],
          [
           null
          ],
          [
           null
          ],
          [
           null
          ],
          [
           null
          ],
          [
           13.359000000000002
          ],
          [
           13.359000000000002
          ],
          [
           13.357000000000001
          ],
          [
           13.36
          ],
          [
           13.357000000000001
          ],
          [
           13.355
          ],
          [
           13.354000000000001
          ],
          [
           13.354000000000001
          ],
          [
           13.357999999999999
          ],
          [
           13.356
          ]
         ],
         "domain": {
          "x": [
           0,
           1
          ],
          "y": [
           0,
           1
          ]
         },
         "hovertemplate": "labels=%{label}<br>Popularity_sum=%{value}<br>parent=%{parent}<br>id=%{id}<br>Popularity=%{color}<extra></extra>",
         "ids": [
          "All Is Lost/ar",
          "Amateur Porn Star Killer 2/ar",
          "Badlands/ar",
          "I'm in Love With My Little Sister/ar",
          "The Little Prince/ar",
          "The Offering/ar",
          "The United States vs. Billie Holiday/ar",
          "Threads/ar",
          "Unlawful Entry/ar",
          "Violent Delights/ar",
          "All Is Lost/bn",
          "Amateur Porn Star Killer 2/bn",
          "Badlands/bn",
          "I'm in Love With My Little Sister/bn",
          "The Little Prince/bn",
          "The Offering/bn",
          "The United States vs. Billie Holiday/bn",
          "Threads/bn",
          "Unlawful Entry/bn",
          "Violent Delights/bn",
          "All Is Lost/ca",
          "Amateur Porn Star Killer 2/ca",
          "Badlands/ca",
          "I'm in Love With My Little Sister/ca",
          "The Little Prince/ca",
          "The Offering/ca",
          "The United States vs. Billie Holiday/ca",
          "Threads/ca",
          "Unlawful Entry/ca",
          "Violent Delights/ca",
          "All Is Lost/cn",
          "Amateur Porn Star Killer 2/cn",
          "Badlands/cn",
          "I'm in Love With My Little Sister/cn",
          "The Little Prince/cn",
          "The Offering/cn",
          "The United States vs. Billie Holiday/cn",
          "Threads/cn",
          "Unlawful Entry/cn",
          "Violent Delights/cn",
          "All Is Lost/cs",
          "Amateur Porn Star Killer 2/cs",
          "Badlands/cs",
          "I'm in Love With My Little Sister/cs",
          "The Little Prince/cs",
          "The Offering/cs",
          "The United States vs. Billie Holiday/cs",
          "Threads/cs",
          "Unlawful Entry/cs",
          "Violent Delights/cs",
          "All Is Lost/da",
          "Amateur Porn Star Killer 2/da",
          "Badlands/da",
          "I'm in Love With My Little Sister/da",
          "The Little Prince/da",
          "The Offering/da",
          "The United States vs. Billie Holiday/da",
          "Threads/da",
          "Unlawful Entry/da",
          "Violent Delights/da",
          "All Is Lost/de",
          "Amateur Porn Star Killer 2/de",
          "Badlands/de",
          "I'm in Love With My Little Sister/de",
          "The Little Prince/de",
          "The Offering/de",
          "The United States vs. Billie Holiday/de",
          "Threads/de",
          "Unlawful Entry/de",
          "Violent Delights/de",
          "All Is Lost/el",
          "Amateur Porn Star Killer 2/el",
          "Badlands/el",
          "I'm in Love With My Little Sister/el",
          "The Little Prince/el",
          "The Offering/el",
          "The United States vs. Billie Holiday/el",
          "Threads/el",
          "Unlawful Entry/el",
          "Violent Delights/el",
          "All Is Lost/en",
          "Amateur Porn Star Killer 2/en",
          "Badlands/en",
          "I'm in Love With My Little Sister/en",
          "The Little Prince/en",
          "The Offering/en",
          "The United States vs. Billie Holiday/en",
          "Threads/en",
          "Unlawful Entry/en",
          "Violent Delights/en",
          "All Is Lost/es",
          "Amateur Porn Star Killer 2/es",
          "Badlands/es",
          "I'm in Love With My Little Sister/es",
          "The Little Prince/es",
          "The Offering/es",
          "The United States vs. Billie Holiday/es",
          "Threads/es",
          "Unlawful Entry/es",
          "Violent Delights/es",
          "All Is Lost/et",
          "Amateur Porn Star Killer 2/et",
          "Badlands/et",
          "I'm in Love With My Little Sister/et",
          "The Little Prince/et",
          "The Offering/et",
          "The United States vs. Billie Holiday/et",
          "Threads/et",
          "Unlawful Entry/et",
          "Violent Delights/et",
          "All Is Lost/eu",
          "Amateur Porn Star Killer 2/eu",
          "Badlands/eu",
          "I'm in Love With My Little Sister/eu",
          "The Little Prince/eu",
          "The Offering/eu",
          "The United States vs. Billie Holiday/eu",
          "Threads/eu",
          "Unlawful Entry/eu",
          "Violent Delights/eu",
          "All Is Lost/fa",
          "Amateur Porn Star Killer 2/fa",
          "Badlands/fa",
          "I'm in Love With My Little Sister/fa",
          "The Little Prince/fa",
          "The Offering/fa",
          "The United States vs. Billie Holiday/fa",
          "Threads/fa",
          "Unlawful Entry/fa",
          "Violent Delights/fa",
          "All Is Lost/fi",
          "Amateur Porn Star Killer 2/fi",
          "Badlands/fi",
          "I'm in Love With My Little Sister/fi",
          "The Little Prince/fi",
          "The Offering/fi",
          "The United States vs. Billie Holiday/fi",
          "Threads/fi",
          "Unlawful Entry/fi",
          "Violent Delights/fi",
          "All Is Lost/fr",
          "Amateur Porn Star Killer 2/fr",
          "Badlands/fr",
          "I'm in Love With My Little Sister/fr",
          "The Little Prince/fr",
          "The Offering/fr",
          "The United States vs. Billie Holiday/fr",
          "Threads/fr",
          "Unlawful Entry/fr",
          "Violent Delights/fr",
          "All Is Lost/he",
          "Amateur Porn Star Killer 2/he",
          "Badlands/he",
          "I'm in Love With My Little Sister/he",
          "The Little Prince/he",
          "The Offering/he",
          "The United States vs. Billie Holiday/he",
          "Threads/he",
          "Unlawful Entry/he",
          "Violent Delights/he",
          "All Is Lost/hi",
          "Amateur Porn Star Killer 2/hi",
          "Badlands/hi",
          "I'm in Love With My Little Sister/hi",
          "The Little Prince/hi",
          "The Offering/hi",
          "The United States vs. Billie Holiday/hi",
          "Threads/hi",
          "Unlawful Entry/hi",
          "Violent Delights/hi",
          "All Is Lost/hu",
          "Amateur Porn Star Killer 2/hu",
          "Badlands/hu",
          "I'm in Love With My Little Sister/hu",
          "The Little Prince/hu",
          "The Offering/hu",
          "The United States vs. Billie Holiday/hu",
          "Threads/hu",
          "Unlawful Entry/hu",
          "Violent Delights/hu",
          "All Is Lost/id",
          "Amateur Porn Star Killer 2/id",
          "Badlands/id",
          "I'm in Love With My Little Sister/id",
          "The Little Prince/id",
          "The Offering/id",
          "The United States vs. Billie Holiday/id",
          "Threads/id",
          "Unlawful Entry/id",
          "Violent Delights/id",
          "All Is Lost/is",
          "Amateur Porn Star Killer 2/is",
          "Badlands/is",
          "I'm in Love With My Little Sister/is",
          "The Little Prince/is",
          "The Offering/is",
          "The United States vs. Billie Holiday/is",
          "Threads/is",
          "Unlawful Entry/is",
          "Violent Delights/is",
          "All Is Lost/it",
          "Amateur Porn Star Killer 2/it",
          "Badlands/it",
          "I'm in Love With My Little Sister/it",
          "The Little Prince/it",
          "The Offering/it",
          "The United States vs. Billie Holiday/it",
          "Threads/it",
          "Unlawful Entry/it",
          "Violent Delights/it",
          "All Is Lost/ja",
          "Amateur Porn Star Killer 2/ja",
          "Badlands/ja",
          "I'm in Love With My Little Sister/ja",
          "The Little Prince/ja",
          "The Offering/ja",
          "The United States vs. Billie Holiday/ja",
          "Threads/ja",
          "Unlawful Entry/ja",
          "Violent Delights/ja",
          "All Is Lost/ko",
          "Amateur Porn Star Killer 2/ko",
          "Badlands/ko",
          "I'm in Love With My Little Sister/ko",
          "The Little Prince/ko",
          "The Offering/ko",
          "The United States vs. Billie Holiday/ko",
          "Threads/ko",
          "Unlawful Entry/ko",
          "Violent Delights/ko",
          "All Is Lost/la",
          "Amateur Porn Star Killer 2/la",
          "Badlands/la",
          "I'm in Love With My Little Sister/la",
          "The Little Prince/la",
          "The Offering/la",
          "The United States vs. Billie Holiday/la",
          "Threads/la",
          "Unlawful Entry/la",
          "Violent Delights/la",
          "All Is Lost/lv",
          "Amateur Porn Star Killer 2/lv",
          "Badlands/lv",
          "I'm in Love With My Little Sister/lv",
          "The Little Prince/lv",
          "The Offering/lv",
          "The United States vs. Billie Holiday/lv",
          "Threads/lv",
          "Unlawful Entry/lv",
          "Violent Delights/lv",
          "All Is Lost/ml",
          "Amateur Porn Star Killer 2/ml",
          "Badlands/ml",
          "I'm in Love With My Little Sister/ml",
          "The Little Prince/ml",
          "The Offering/ml",
          "The United States vs. Billie Holiday/ml",
          "Threads/ml",
          "Unlawful Entry/ml",
          "Violent Delights/ml",
          "All Is Lost/ms",
          "Amateur Porn Star Killer 2/ms",
          "Badlands/ms",
          "I'm in Love With My Little Sister/ms",
          "The Little Prince/ms",
          "The Offering/ms",
          "The United States vs. Billie Holiday/ms",
          "Threads/ms",
          "Unlawful Entry/ms",
          "Violent Delights/ms",
          "All Is Lost/nb",
          "Amateur Porn Star Killer 2/nb",
          "Badlands/nb",
          "I'm in Love With My Little Sister/nb",
          "The Little Prince/nb",
          "The Offering/nb",
          "The United States vs. Billie Holiday/nb",
          "Threads/nb",
          "Unlawful Entry/nb",
          "Violent Delights/nb",
          "All Is Lost/nl",
          "Amateur Porn Star Killer 2/nl",
          "Badlands/nl",
          "I'm in Love With My Little Sister/nl",
          "The Little Prince/nl",
          "The Offering/nl",
          "The United States vs. Billie Holiday/nl",
          "Threads/nl",
          "Unlawful Entry/nl",
          "Violent Delights/nl",
          "All Is Lost/no",
          "Amateur Porn Star Killer 2/no",
          "Badlands/no",
          "I'm in Love With My Little Sister/no",
          "The Little Prince/no",
          "The Offering/no",
          "The United States vs. Billie Holiday/no",
          "Threads/no",
          "Unlawful Entry/no",
          "Violent Delights/no",
          "All Is Lost/pl",
          "Amateur Porn Star Killer 2/pl",
          "Badlands/pl",
          "I'm in Love With My Little Sister/pl",
          "The Little Prince/pl",
          "The Offering/pl",
          "The United States vs. Billie Holiday/pl",
          "Threads/pl",
          "Unlawful Entry/pl",
          "Violent Delights/pl",
          "All Is Lost/pt",
          "Amateur Porn Star Killer 2/pt",
          "Badlands/pt",
          "I'm in Love With My Little Sister/pt",
          "The Little Prince/pt",
          "The Offering/pt",
          "The United States vs. Billie Holiday/pt",
          "Threads/pt",
          "Unlawful Entry/pt",
          "Violent Delights/pt",
          "All Is Lost/ro",
          "Amateur Porn Star Killer 2/ro",
          "Badlands/ro",
          "I'm in Love With My Little Sister/ro",
          "The Little Prince/ro",
          "The Offering/ro",
          "The United States vs. Billie Holiday/ro",
          "Threads/ro",
          "Unlawful Entry/ro",
          "Violent Delights/ro",
          "All Is Lost/ru",
          "Amateur Porn Star Killer 2/ru",
          "Badlands/ru",
          "I'm in Love With My Little Sister/ru",
          "The Little Prince/ru",
          "The Offering/ru",
          "The United States vs. Billie Holiday/ru",
          "Threads/ru",
          "Unlawful Entry/ru",
          "Violent Delights/ru",
          "All Is Lost/sr",
          "Amateur Porn Star Killer 2/sr",
          "Badlands/sr",
          "I'm in Love With My Little Sister/sr",
          "The Little Prince/sr",
          "The Offering/sr",
          "The United States vs. Billie Holiday/sr",
          "Threads/sr",
          "Unlawful Entry/sr",
          "Violent Delights/sr",
          "All Is Lost/sv",
          "Amateur Porn Star Killer 2/sv",
          "Badlands/sv",
          "I'm in Love With My Little Sister/sv",
          "The Little Prince/sv",
          "The Offering/sv",
          "The United States vs. Billie Holiday/sv",
          "Threads/sv",
          "Unlawful Entry/sv",
          "Violent Delights/sv",
          "All Is Lost/ta",
          "Amateur Porn Star Killer 2/ta",
          "Badlands/ta",
          "I'm in Love With My Little Sister/ta",
          "The Little Prince/ta",
          "The Offering/ta",
          "The United States vs. Billie Holiday/ta",
          "Threads/ta",
          "Unlawful Entry/ta",
          "Violent Delights/ta",
          "All Is Lost/te",
          "Amateur Porn Star Killer 2/te",
          "Badlands/te",
          "I'm in Love With My Little Sister/te",
          "The Little Prince/te",
          "The Offering/te",
          "The United States vs. Billie Holiday/te",
          "Threads/te",
          "Unlawful Entry/te",
          "Violent Delights/te",
          "All Is Lost/th",
          "Amateur Porn Star Killer 2/th",
          "Badlands/th",
          "I'm in Love With My Little Sister/th",
          "The Little Prince/th",
          "The Offering/th",
          "The United States vs. Billie Holiday/th",
          "Threads/th",
          "Unlawful Entry/th",
          "Violent Delights/th",
          "All Is Lost/tl",
          "Amateur Porn Star Killer 2/tl",
          "Badlands/tl",
          "I'm in Love With My Little Sister/tl",
          "The Little Prince/tl",
          "The Offering/tl",
          "The United States vs. Billie Holiday/tl",
          "Threads/tl",
          "Unlawful Entry/tl",
          "Violent Delights/tl",
          "All Is Lost/tr",
          "Amateur Porn Star Killer 2/tr",
          "Badlands/tr",
          "I'm in Love With My Little Sister/tr",
          "The Little Prince/tr",
          "The Offering/tr",
          "The United States vs. Billie Holiday/tr",
          "Threads/tr",
          "Unlawful Entry/tr",
          "Violent Delights/tr",
          "All Is Lost/uk",
          "Amateur Porn Star Killer 2/uk",
          "Badlands/uk",
          "I'm in Love With My Little Sister/uk",
          "The Little Prince/uk",
          "The Offering/uk",
          "The United States vs. Billie Holiday/uk",
          "Threads/uk",
          "Unlawful Entry/uk",
          "Violent Delights/uk",
          "All Is Lost/zh",
          "Amateur Porn Star Killer 2/zh",
          "Badlands/zh",
          "I'm in Love With My Little Sister/zh",
          "The Little Prince/zh",
          "The Offering/zh",
          "The United States vs. Billie Holiday/zh",
          "Threads/zh",
          "Unlawful Entry/zh",
          "Violent Delights/zh",
          "All Is Lost",
          "Amateur Porn Star Killer 2",
          "Badlands",
          "I'm in Love With My Little Sister",
          "The Little Prince",
          "The Offering",
          "The United States vs. Billie Holiday",
          "Threads",
          "Unlawful Entry",
          "Violent Delights"
         ],
         "labels": [
          "ar",
          "ar",
          "ar",
          "ar",
          "ar",
          "ar",
          "ar",
          "ar",
          "ar",
          "ar",
          "bn",
          "bn",
          "bn",
          "bn",
          "bn",
          "bn",
          "bn",
          "bn",
          "bn",
          "bn",
          "ca",
          "ca",
          "ca",
          "ca",
          "ca",
          "ca",
          "ca",
          "ca",
          "ca",
          "ca",
          "cn",
          "cn",
          "cn",
          "cn",
          "cn",
          "cn",
          "cn",
          "cn",
          "cn",
          "cn",
          "cs",
          "cs",
          "cs",
          "cs",
          "cs",
          "cs",
          "cs",
          "cs",
          "cs",
          "cs",
          "da",
          "da",
          "da",
          "da",
          "da",
          "da",
          "da",
          "da",
          "da",
          "da",
          "de",
          "de",
          "de",
          "de",
          "de",
          "de",
          "de",
          "de",
          "de",
          "de",
          "el",
          "el",
          "el",
          "el",
          "el",
          "el",
          "el",
          "el",
          "el",
          "el",
          "en",
          "en",
          "en",
          "en",
          "en",
          "en",
          "en",
          "en",
          "en",
          "en",
          "es",
          "es",
          "es",
          "es",
          "es",
          "es",
          "es",
          "es",
          "es",
          "es",
          "et",
          "et",
          "et",
          "et",
          "et",
          "et",
          "et",
          "et",
          "et",
          "et",
          "eu",
          "eu",
          "eu",
          "eu",
          "eu",
          "eu",
          "eu",
          "eu",
          "eu",
          "eu",
          "fa",
          "fa",
          "fa",
          "fa",
          "fa",
          "fa",
          "fa",
          "fa",
          "fa",
          "fa",
          "fi",
          "fi",
          "fi",
          "fi",
          "fi",
          "fi",
          "fi",
          "fi",
          "fi",
          "fi",
          "fr",
          "fr",
          "fr",
          "fr",
          "fr",
          "fr",
          "fr",
          "fr",
          "fr",
          "fr",
          "he",
          "he",
          "he",
          "he",
          "he",
          "he",
          "he",
          "he",
          "he",
          "he",
          "hi",
          "hi",
          "hi",
          "hi",
          "hi",
          "hi",
          "hi",
          "hi",
          "hi",
          "hi",
          "hu",
          "hu",
          "hu",
          "hu",
          "hu",
          "hu",
          "hu",
          "hu",
          "hu",
          "hu",
          "id",
          "id",
          "id",
          "id",
          "id",
          "id",
          "id",
          "id",
          "id",
          "id",
          "is",
          "is",
          "is",
          "is",
          "is",
          "is",
          "is",
          "is",
          "is",
          "is",
          "it",
          "it",
          "it",
          "it",
          "it",
          "it",
          "it",
          "it",
          "it",
          "it",
          "ja",
          "ja",
          "ja",
          "ja",
          "ja",
          "ja",
          "ja",
          "ja",
          "ja",
          "ja",
          "ko",
          "ko",
          "ko",
          "ko",
          "ko",
          "ko",
          "ko",
          "ko",
          "ko",
          "ko",
          "la",
          "la",
          "la",
          "la",
          "la",
          "la",
          "la",
          "la",
          "la",
          "la",
          "lv",
          "lv",
          "lv",
          "lv",
          "lv",
          "lv",
          "lv",
          "lv",
          "lv",
          "lv",
          "ml",
          "ml",
          "ml",
          "ml",
          "ml",
          "ml",
          "ml",
          "ml",
          "ml",
          "ml",
          "ms",
          "ms",
          "ms",
          "ms",
          "ms",
          "ms",
          "ms",
          "ms",
          "ms",
          "ms",
          "nb",
          "nb",
          "nb",
          "nb",
          "nb",
          "nb",
          "nb",
          "nb",
          "nb",
          "nb",
          "nl",
          "nl",
          "nl",
          "nl",
          "nl",
          "nl",
          "nl",
          "nl",
          "nl",
          "nl",
          "no",
          "no",
          "no",
          "no",
          "no",
          "no",
          "no",
          "no",
          "no",
          "no",
          "pl",
          "pl",
          "pl",
          "pl",
          "pl",
          "pl",
          "pl",
          "pl",
          "pl",
          "pl",
          "pt",
          "pt",
          "pt",
          "pt",
          "pt",
          "pt",
          "pt",
          "pt",
          "pt",
          "pt",
          "ro",
          "ro",
          "ro",
          "ro",
          "ro",
          "ro",
          "ro",
          "ro",
          "ro",
          "ro",
          "ru",
          "ru",
          "ru",
          "ru",
          "ru",
          "ru",
          "ru",
          "ru",
          "ru",
          "ru",
          "sr",
          "sr",
          "sr",
          "sr",
          "sr",
          "sr",
          "sr",
          "sr",
          "sr",
          "sr",
          "sv",
          "sv",
          "sv",
          "sv",
          "sv",
          "sv",
          "sv",
          "sv",
          "sv",
          "sv",
          "ta",
          "ta",
          "ta",
          "ta",
          "ta",
          "ta",
          "ta",
          "ta",
          "ta",
          "ta",
          "te",
          "te",
          "te",
          "te",
          "te",
          "te",
          "te",
          "te",
          "te",
          "te",
          "th",
          "th",
          "th",
          "th",
          "th",
          "th",
          "th",
          "th",
          "th",
          "th",
          "tl",
          "tl",
          "tl",
          "tl",
          "tl",
          "tl",
          "tl",
          "tl",
          "tl",
          "tl",
          "tr",
          "tr",
          "tr",
          "tr",
          "tr",
          "tr",
          "tr",
          "tr",
          "tr",
          "tr",
          "uk",
          "uk",
          "uk",
          "uk",
          "uk",
          "uk",
          "uk",
          "uk",
          "uk",
          "uk",
          "zh",
          "zh",
          "zh",
          "zh",
          "zh",
          "zh",
          "zh",
          "zh",
          "zh",
          "zh",
          "All Is Lost",
          "Amateur Porn Star Killer 2",
          "Badlands",
          "I'm in Love With My Little Sister",
          "The Little Prince",
          "The Offering",
          "The United States vs. Billie Holiday",
          "Threads",
          "Unlawful Entry",
          "Violent Delights"
         ],
         "marker": {
          "coloraxis": "coloraxis",
          "colors": [
           null,
           null,
           null,
           null,
           null,
           null,
           null,
           null,
           null,
           null,
           null,
           null,
           null,
           null,
           null,
           null,
           null,
           null,
           null,
           null,
           null,
           null,
           null,
           null,
           null,
           null,
           null,
           null,
           null,
           null,
           null,
           null,
           null,
           null,
           null,
           null,
           null,
           null,
           null,
           null,
           null,
           null,
           null,
           null,
           null,
           null,
           null,
           null,
           null,
           null,
           null,
           null,
           null,
           null,
           null,
           null,
           null,
           null,
           null,
           null,
           null,
           null,
           null,
           null,
           null,
           null,
           null,
           null,
           null,
           null,
           null,
           null,
           null,
           null,
           null,
           null,
           null,
           null,
           null,
           null,
           13.359000000000002,
           13.359000000000002,
           13.357000000000001,
           null,
           13.357000000000001,
           13.355,
           13.354000000000001,
           13.354000000000001,
           13.357999999999999,
           null,
           null,
           null,
           null,
           null,
           null,
           null,
           null,
           null,
           null,
           13.356,
           null,
           null,
           null,
           null,
           null,
           null,
           null,
           null,
           null,
           null,
           null,
           null,
           null,
           null,
           null,
           null,
           null,
           null,
           null,
           null,
           null,
           null,
           null,
           null,
           null,
           null,
           null,
           null,
           null,
           null,
           null,
           null,
           null,
           null,
           null,
           null,
           null,
           null,
           null,
           null,
           null,
           null,
           null,
           null,
           null,
           null,
           null,
           null,
           null,
           null,
           null,
           null,
           null,
           null,
           null,
           null,
           null,
           null,
           null,
           null,
           null,
           null,
           null,
           null,
           null,
           null,
           null,
           null,
           null,
           null,
           null,
           null,
           null,
           null,
           null,
           null,
           null,
           null,
           null,
           null,
           null,
           null,
           null,
           null,
           null,
           null,
           null,
           null,
           null,
           null,
           null,
           null,
           null,
           null,
           null,
           null,
           null,
           null,
           null,
           null,
           null,
           null,
           null,
           null,
           null,
           null,
           null,
           null,
           null,
           null,
           null,
           null,
           null,
           13.36,
           null,
           null,
           null,
           null,
           null,
           null,
           null,
           null,
           null,
           null,
           null,
           null,
           null,
           null,
           null,
           null,
           null,
           null,
           null,
           null,
           null,
           null,
           null,
           null,
           null,
           null,
           null,
           null,
           null,
           null,
           null,
           null,
           null,
           null,
           null,
           null,
           null,
           null,
           null,
           null,
           null,
           null,
           null,
           null,
           null,
           null,
           null,
           null,
           null,
           null,
           null,
           null,
           null,
           null,
           null,
           null,
           null,
           null,
           null,
           null,
           null,
           null,
           null,
           null,
           null,
           null,
           null,
           null,
           null,
           null,
           null,
           null,
           null,
           null,
           null,
           null,
           null,
           null,
           null,
           null,
           null,
           null,
           null,
           null,
           null,
           null,
           null,
           null,
           null,
           null,
           null,
           null,
           null,
           null,
           null,
           null,
           null,
           null,
           null,
           null,
           null,
           null,
           null,
           null,
           null,
           null,
           null,
           null,
           null,
           null,
           null,
           null,
           null,
           null,
           null,
           null,
           null,
           null,
           null,
           null,
           null,
           null,
           null,
           null,
           null,
           null,
           null,
           null,
           null,
           null,
           null,
           null,
           null,
           null,
           null,
           null,
           null,
           null,
           null,
           null,
           null,
           null,
           null,
           null,
           null,
           null,
           null,
           null,
           null,
           null,
           null,
           null,
           null,
           null,
           null,
           null,
           null,
           null,
           null,
           null,
           null,
           null,
           null,
           null,
           null,
           null,
           null,
           null,
           null,
           null,
           null,
           null,
           null,
           null,
           null,
           null,
           null,
           null,
           null,
           null,
           null,
           null,
           null,
           null,
           null,
           null,
           null,
           null,
           null,
           null,
           null,
           null,
           null,
           null,
           null,
           null,
           null,
           null,
           null,
           null,
           null,
           null,
           null,
           null,
           null,
           null,
           null,
           null,
           null,
           null,
           null,
           null,
           null,
           null,
           null,
           null,
           13.359000000000002,
           13.359000000000002,
           13.357000000000001,
           13.36,
           13.357000000000001,
           13.355,
           13.354000000000001,
           13.354000000000001,
           13.357999999999999,
           13.356
          ]
         },
         "name": "",
         "parents": [
          "All Is Lost",
          "Amateur Porn Star Killer 2",
          "Badlands",
          "I'm in Love With My Little Sister",
          "The Little Prince",
          "The Offering",
          "The United States vs. Billie Holiday",
          "Threads",
          "Unlawful Entry",
          "Violent Delights",
          "All Is Lost",
          "Amateur Porn Star Killer 2",
          "Badlands",
          "I'm in Love With My Little Sister",
          "The Little Prince",
          "The Offering",
          "The United States vs. Billie Holiday",
          "Threads",
          "Unlawful Entry",
          "Violent Delights",
          "All Is Lost",
          "Amateur Porn Star Killer 2",
          "Badlands",
          "I'm in Love With My Little Sister",
          "The Little Prince",
          "The Offering",
          "The United States vs. Billie Holiday",
          "Threads",
          "Unlawful Entry",
          "Violent Delights",
          "All Is Lost",
          "Amateur Porn Star Killer 2",
          "Badlands",
          "I'm in Love With My Little Sister",
          "The Little Prince",
          "The Offering",
          "The United States vs. Billie Holiday",
          "Threads",
          "Unlawful Entry",
          "Violent Delights",
          "All Is Lost",
          "Amateur Porn Star Killer 2",
          "Badlands",
          "I'm in Love With My Little Sister",
          "The Little Prince",
          "The Offering",
          "The United States vs. Billie Holiday",
          "Threads",
          "Unlawful Entry",
          "Violent Delights",
          "All Is Lost",
          "Amateur Porn Star Killer 2",
          "Badlands",
          "I'm in Love With My Little Sister",
          "The Little Prince",
          "The Offering",
          "The United States vs. Billie Holiday",
          "Threads",
          "Unlawful Entry",
          "Violent Delights",
          "All Is Lost",
          "Amateur Porn Star Killer 2",
          "Badlands",
          "I'm in Love With My Little Sister",
          "The Little Prince",
          "The Offering",
          "The United States vs. Billie Holiday",
          "Threads",
          "Unlawful Entry",
          "Violent Delights",
          "All Is Lost",
          "Amateur Porn Star Killer 2",
          "Badlands",
          "I'm in Love With My Little Sister",
          "The Little Prince",
          "The Offering",
          "The United States vs. Billie Holiday",
          "Threads",
          "Unlawful Entry",
          "Violent Delights",
          "All Is Lost",
          "Amateur Porn Star Killer 2",
          "Badlands",
          "I'm in Love With My Little Sister",
          "The Little Prince",
          "The Offering",
          "The United States vs. Billie Holiday",
          "Threads",
          "Unlawful Entry",
          "Violent Delights",
          "All Is Lost",
          "Amateur Porn Star Killer 2",
          "Badlands",
          "I'm in Love With My Little Sister",
          "The Little Prince",
          "The Offering",
          "The United States vs. Billie Holiday",
          "Threads",
          "Unlawful Entry",
          "Violent Delights",
          "All Is Lost",
          "Amateur Porn Star Killer 2",
          "Badlands",
          "I'm in Love With My Little Sister",
          "The Little Prince",
          "The Offering",
          "The United States vs. Billie Holiday",
          "Threads",
          "Unlawful Entry",
          "Violent Delights",
          "All Is Lost",
          "Amateur Porn Star Killer 2",
          "Badlands",
          "I'm in Love With My Little Sister",
          "The Little Prince",
          "The Offering",
          "The United States vs. Billie Holiday",
          "Threads",
          "Unlawful Entry",
          "Violent Delights",
          "All Is Lost",
          "Amateur Porn Star Killer 2",
          "Badlands",
          "I'm in Love With My Little Sister",
          "The Little Prince",
          "The Offering",
          "The United States vs. Billie Holiday",
          "Threads",
          "Unlawful Entry",
          "Violent Delights",
          "All Is Lost",
          "Amateur Porn Star Killer 2",
          "Badlands",
          "I'm in Love With My Little Sister",
          "The Little Prince",
          "The Offering",
          "The United States vs. Billie Holiday",
          "Threads",
          "Unlawful Entry",
          "Violent Delights",
          "All Is Lost",
          "Amateur Porn Star Killer 2",
          "Badlands",
          "I'm in Love With My Little Sister",
          "The Little Prince",
          "The Offering",
          "The United States vs. Billie Holiday",
          "Threads",
          "Unlawful Entry",
          "Violent Delights",
          "All Is Lost",
          "Amateur Porn Star Killer 2",
          "Badlands",
          "I'm in Love With My Little Sister",
          "The Little Prince",
          "The Offering",
          "The United States vs. Billie Holiday",
          "Threads",
          "Unlawful Entry",
          "Violent Delights",
          "All Is Lost",
          "Amateur Porn Star Killer 2",
          "Badlands",
          "I'm in Love With My Little Sister",
          "The Little Prince",
          "The Offering",
          "The United States vs. Billie Holiday",
          "Threads",
          "Unlawful Entry",
          "Violent Delights",
          "All Is Lost",
          "Amateur Porn Star Killer 2",
          "Badlands",
          "I'm in Love With My Little Sister",
          "The Little Prince",
          "The Offering",
          "The United States vs. Billie Holiday",
          "Threads",
          "Unlawful Entry",
          "Violent Delights",
          "All Is Lost",
          "Amateur Porn Star Killer 2",
          "Badlands",
          "I'm in Love With My Little Sister",
          "The Little Prince",
          "The Offering",
          "The United States vs. Billie Holiday",
          "Threads",
          "Unlawful Entry",
          "Violent Delights",
          "All Is Lost",
          "Amateur Porn Star Killer 2",
          "Badlands",
          "I'm in Love With My Little Sister",
          "The Little Prince",
          "The Offering",
          "The United States vs. Billie Holiday",
          "Threads",
          "Unlawful Entry",
          "Violent Delights",
          "All Is Lost",
          "Amateur Porn Star Killer 2",
          "Badlands",
          "I'm in Love With My Little Sister",
          "The Little Prince",
          "The Offering",
          "The United States vs. Billie Holiday",
          "Threads",
          "Unlawful Entry",
          "Violent Delights",
          "All Is Lost",
          "Amateur Porn Star Killer 2",
          "Badlands",
          "I'm in Love With My Little Sister",
          "The Little Prince",
          "The Offering",
          "The United States vs. Billie Holiday",
          "Threads",
          "Unlawful Entry",
          "Violent Delights",
          "All Is Lost",
          "Amateur Porn Star Killer 2",
          "Badlands",
          "I'm in Love With My Little Sister",
          "The Little Prince",
          "The Offering",
          "The United States vs. Billie Holiday",
          "Threads",
          "Unlawful Entry",
          "Violent Delights",
          "All Is Lost",
          "Amateur Porn Star Killer 2",
          "Badlands",
          "I'm in Love With My Little Sister",
          "The Little Prince",
          "The Offering",
          "The United States vs. Billie Holiday",
          "Threads",
          "Unlawful Entry",
          "Violent Delights",
          "All Is Lost",
          "Amateur Porn Star Killer 2",
          "Badlands",
          "I'm in Love With My Little Sister",
          "The Little Prince",
          "The Offering",
          "The United States vs. Billie Holiday",
          "Threads",
          "Unlawful Entry",
          "Violent Delights",
          "All Is Lost",
          "Amateur Porn Star Killer 2",
          "Badlands",
          "I'm in Love With My Little Sister",
          "The Little Prince",
          "The Offering",
          "The United States vs. Billie Holiday",
          "Threads",
          "Unlawful Entry",
          "Violent Delights",
          "All Is Lost",
          "Amateur Porn Star Killer 2",
          "Badlands",
          "I'm in Love With My Little Sister",
          "The Little Prince",
          "The Offering",
          "The United States vs. Billie Holiday",
          "Threads",
          "Unlawful Entry",
          "Violent Delights",
          "All Is Lost",
          "Amateur Porn Star Killer 2",
          "Badlands",
          "I'm in Love With My Little Sister",
          "The Little Prince",
          "The Offering",
          "The United States vs. Billie Holiday",
          "Threads",
          "Unlawful Entry",
          "Violent Delights",
          "All Is Lost",
          "Amateur Porn Star Killer 2",
          "Badlands",
          "I'm in Love With My Little Sister",
          "The Little Prince",
          "The Offering",
          "The United States vs. Billie Holiday",
          "Threads",
          "Unlawful Entry",
          "Violent Delights",
          "All Is Lost",
          "Amateur Porn Star Killer 2",
          "Badlands",
          "I'm in Love With My Little Sister",
          "The Little Prince",
          "The Offering",
          "The United States vs. Billie Holiday",
          "Threads",
          "Unlawful Entry",
          "Violent Delights",
          "All Is Lost",
          "Amateur Porn Star Killer 2",
          "Badlands",
          "I'm in Love With My Little Sister",
          "The Little Prince",
          "The Offering",
          "The United States vs. Billie Holiday",
          "Threads",
          "Unlawful Entry",
          "Violent Delights",
          "All Is Lost",
          "Amateur Porn Star Killer 2",
          "Badlands",
          "I'm in Love With My Little Sister",
          "The Little Prince",
          "The Offering",
          "The United States vs. Billie Holiday",
          "Threads",
          "Unlawful Entry",
          "Violent Delights",
          "All Is Lost",
          "Amateur Porn Star Killer 2",
          "Badlands",
          "I'm in Love With My Little Sister",
          "The Little Prince",
          "The Offering",
          "The United States vs. Billie Holiday",
          "Threads",
          "Unlawful Entry",
          "Violent Delights",
          "All Is Lost",
          "Amateur Porn Star Killer 2",
          "Badlands",
          "I'm in Love With My Little Sister",
          "The Little Prince",
          "The Offering",
          "The United States vs. Billie Holiday",
          "Threads",
          "Unlawful Entry",
          "Violent Delights",
          "All Is Lost",
          "Amateur Porn Star Killer 2",
          "Badlands",
          "I'm in Love With My Little Sister",
          "The Little Prince",
          "The Offering",
          "The United States vs. Billie Holiday",
          "Threads",
          "Unlawful Entry",
          "Violent Delights",
          "All Is Lost",
          "Amateur Porn Star Killer 2",
          "Badlands",
          "I'm in Love With My Little Sister",
          "The Little Prince",
          "The Offering",
          "The United States vs. Billie Holiday",
          "Threads",
          "Unlawful Entry",
          "Violent Delights",
          "All Is Lost",
          "Amateur Porn Star Killer 2",
          "Badlands",
          "I'm in Love With My Little Sister",
          "The Little Prince",
          "The Offering",
          "The United States vs. Billie Holiday",
          "Threads",
          "Unlawful Entry",
          "Violent Delights",
          "All Is Lost",
          "Amateur Porn Star Killer 2",
          "Badlands",
          "I'm in Love With My Little Sister",
          "The Little Prince",
          "The Offering",
          "The United States vs. Billie Holiday",
          "Threads",
          "Unlawful Entry",
          "Violent Delights",
          "All Is Lost",
          "Amateur Porn Star Killer 2",
          "Badlands",
          "I'm in Love With My Little Sister",
          "The Little Prince",
          "The Offering",
          "The United States vs. Billie Holiday",
          "Threads",
          "Unlawful Entry",
          "Violent Delights",
          "All Is Lost",
          "Amateur Porn Star Killer 2",
          "Badlands",
          "I'm in Love With My Little Sister",
          "The Little Prince",
          "The Offering",
          "The United States vs. Billie Holiday",
          "Threads",
          "Unlawful Entry",
          "Violent Delights",
          "All Is Lost",
          "Amateur Porn Star Killer 2",
          "Badlands",
          "I'm in Love With My Little Sister",
          "The Little Prince",
          "The Offering",
          "The United States vs. Billie Holiday",
          "Threads",
          "Unlawful Entry",
          "Violent Delights",
          "All Is Lost",
          "Amateur Porn Star Killer 2",
          "Badlands",
          "I'm in Love With My Little Sister",
          "The Little Prince",
          "The Offering",
          "The United States vs. Billie Holiday",
          "Threads",
          "Unlawful Entry",
          "Violent Delights",
          "All Is Lost",
          "Amateur Porn Star Killer 2",
          "Badlands",
          "I'm in Love With My Little Sister",
          "The Little Prince",
          "The Offering",
          "The United States vs. Billie Holiday",
          "Threads",
          "Unlawful Entry",
          "Violent Delights",
          "",
          "",
          "",
          "",
          "",
          "",
          "",
          "",
          "",
          ""
         ],
         "type": "sunburst",
         "values": [
          null,
          null,
          null,
          null,
          null,
          null,
          null,
          null,
          null,
          null,
          null,
          null,
          null,
          null,
          null,
          null,
          null,
          null,
          null,
          null,
          null,
          null,
          null,
          null,
          null,
          null,
          null,
          null,
          null,
          null,
          null,
          null,
          null,
          null,
          null,
          null,
          null,
          null,
          null,
          null,
          null,
          null,
          null,
          null,
          null,
          null,
          null,
          null,
          null,
          null,
          null,
          null,
          null,
          null,
          null,
          null,
          null,
          null,
          null,
          null,
          null,
          null,
          null,
          null,
          null,
          null,
          null,
          null,
          null,
          null,
          null,
          null,
          null,
          null,
          null,
          null,
          null,
          null,
          null,
          null,
          13.359000000000002,
          13.359000000000002,
          13.357000000000001,
          null,
          13.357000000000001,
          13.355,
          13.354000000000001,
          13.354000000000001,
          13.357999999999999,
          null,
          null,
          null,
          null,
          null,
          null,
          null,
          null,
          null,
          null,
          13.356,
          null,
          null,
          null,
          null,
          null,
          null,
          null,
          null,
          null,
          null,
          null,
          null,
          null,
          null,
          null,
          null,
          null,
          null,
          null,
          null,
          null,
          null,
          null,
          null,
          null,
          null,
          null,
          null,
          null,
          null,
          null,
          null,
          null,
          null,
          null,
          null,
          null,
          null,
          null,
          null,
          null,
          null,
          null,
          null,
          null,
          null,
          null,
          null,
          null,
          null,
          null,
          null,
          null,
          null,
          null,
          null,
          null,
          null,
          null,
          null,
          null,
          null,
          null,
          null,
          null,
          null,
          null,
          null,
          null,
          null,
          null,
          null,
          null,
          null,
          null,
          null,
          null,
          null,
          null,
          null,
          null,
          null,
          null,
          null,
          null,
          null,
          null,
          null,
          null,
          null,
          null,
          null,
          null,
          null,
          null,
          null,
          null,
          null,
          null,
          null,
          null,
          null,
          null,
          null,
          null,
          null,
          null,
          null,
          null,
          null,
          null,
          null,
          null,
          13.36,
          null,
          null,
          null,
          null,
          null,
          null,
          null,
          null,
          null,
          null,
          null,
          null,
          null,
          null,
          null,
          null,
          null,
          null,
          null,
          null,
          null,
          null,
          null,
          null,
          null,
          null,
          null,
          null,
          null,
          null,
          null,
          null,
          null,
          null,
          null,
          null,
          null,
          null,
          null,
          null,
          null,
          null,
          null,
          null,
          null,
          null,
          null,
          null,
          null,
          null,
          null,
          null,
          null,
          null,
          null,
          null,
          null,
          null,
          null,
          null,
          null,
          null,
          null,
          null,
          null,
          null,
          null,
          null,
          null,
          null,
          null,
          null,
          null,
          null,
          null,
          null,
          null,
          null,
          null,
          null,
          null,
          null,
          null,
          null,
          null,
          null,
          null,
          null,
          null,
          null,
          null,
          null,
          null,
          null,
          null,
          null,
          null,
          null,
          null,
          null,
          null,
          null,
          null,
          null,
          null,
          null,
          null,
          null,
          null,
          null,
          null,
          null,
          null,
          null,
          null,
          null,
          null,
          null,
          null,
          null,
          null,
          null,
          null,
          null,
          null,
          null,
          null,
          null,
          null,
          null,
          null,
          null,
          null,
          null,
          null,
          null,
          null,
          null,
          null,
          null,
          null,
          null,
          null,
          null,
          null,
          null,
          null,
          null,
          null,
          null,
          null,
          null,
          null,
          null,
          null,
          null,
          null,
          null,
          null,
          null,
          null,
          null,
          null,
          null,
          null,
          null,
          null,
          null,
          null,
          null,
          null,
          null,
          null,
          null,
          null,
          null,
          null,
          null,
          null,
          null,
          null,
          null,
          null,
          null,
          null,
          null,
          null,
          null,
          null,
          null,
          null,
          null,
          null,
          null,
          null,
          null,
          null,
          null,
          null,
          null,
          null,
          null,
          null,
          null,
          null,
          null,
          null,
          null,
          null,
          null,
          null,
          null,
          null,
          null,
          null,
          null,
          13.359000000000002,
          13.359000000000002,
          13.357000000000001,
          13.36,
          13.357000000000001,
          13.355,
          13.354000000000001,
          13.354000000000001,
          13.357999999999999,
          13.356
         ]
        }
       ],
       "layout": {
        "coloraxis": {
         "colorbar": {
          "title": {
           "text": "Popularity"
          }
         },
         "colorscale": [
          [
           0,
           "#0d0887"
          ],
          [
           0.1111111111111111,
           "#46039f"
          ],
          [
           0.2222222222222222,
           "#7201a8"
          ],
          [
           0.3333333333333333,
           "#9c179e"
          ],
          [
           0.4444444444444444,
           "#bd3786"
          ],
          [
           0.5555555555555556,
           "#d8576b"
          ],
          [
           0.6666666666666666,
           "#ed7953"
          ],
          [
           0.7777777777777778,
           "#fb9f3a"
          ],
          [
           0.8888888888888888,
           "#fdca26"
          ],
          [
           1,
           "#f0f921"
          ]
         ]
        },
        "legend": {
         "tracegroupgap": 0
        },
        "margin": {
         "t": 60
        },
        "template": {
         "data": {
          "bar": [
           {
            "error_x": {
             "color": "#2a3f5f"
            },
            "error_y": {
             "color": "#2a3f5f"
            },
            "marker": {
             "line": {
              "color": "#E5ECF6",
              "width": 0.5
             },
             "pattern": {
              "fillmode": "overlay",
              "size": 10,
              "solidity": 0.2
             }
            },
            "type": "bar"
           }
          ],
          "barpolar": [
           {
            "marker": {
             "line": {
              "color": "#E5ECF6",
              "width": 0.5
             },
             "pattern": {
              "fillmode": "overlay",
              "size": 10,
              "solidity": 0.2
             }
            },
            "type": "barpolar"
           }
          ],
          "carpet": [
           {
            "aaxis": {
             "endlinecolor": "#2a3f5f",
             "gridcolor": "white",
             "linecolor": "white",
             "minorgridcolor": "white",
             "startlinecolor": "#2a3f5f"
            },
            "baxis": {
             "endlinecolor": "#2a3f5f",
             "gridcolor": "white",
             "linecolor": "white",
             "minorgridcolor": "white",
             "startlinecolor": "#2a3f5f"
            },
            "type": "carpet"
           }
          ],
          "choropleth": [
           {
            "colorbar": {
             "outlinewidth": 0,
             "ticks": ""
            },
            "type": "choropleth"
           }
          ],
          "contour": [
           {
            "colorbar": {
             "outlinewidth": 0,
             "ticks": ""
            },
            "colorscale": [
             [
              0,
              "#0d0887"
             ],
             [
              0.1111111111111111,
              "#46039f"
             ],
             [
              0.2222222222222222,
              "#7201a8"
             ],
             [
              0.3333333333333333,
              "#9c179e"
             ],
             [
              0.4444444444444444,
              "#bd3786"
             ],
             [
              0.5555555555555556,
              "#d8576b"
             ],
             [
              0.6666666666666666,
              "#ed7953"
             ],
             [
              0.7777777777777778,
              "#fb9f3a"
             ],
             [
              0.8888888888888888,
              "#fdca26"
             ],
             [
              1,
              "#f0f921"
             ]
            ],
            "type": "contour"
           }
          ],
          "contourcarpet": [
           {
            "colorbar": {
             "outlinewidth": 0,
             "ticks": ""
            },
            "type": "contourcarpet"
           }
          ],
          "heatmap": [
           {
            "colorbar": {
             "outlinewidth": 0,
             "ticks": ""
            },
            "colorscale": [
             [
              0,
              "#0d0887"
             ],
             [
              0.1111111111111111,
              "#46039f"
             ],
             [
              0.2222222222222222,
              "#7201a8"
             ],
             [
              0.3333333333333333,
              "#9c179e"
             ],
             [
              0.4444444444444444,
              "#bd3786"
             ],
             [
              0.5555555555555556,
              "#d8576b"
             ],
             [
              0.6666666666666666,
              "#ed7953"
             ],
             [
              0.7777777777777778,
              "#fb9f3a"
             ],
             [
              0.8888888888888888,
              "#fdca26"
             ],
             [
              1,
              "#f0f921"
             ]
            ],
            "type": "heatmap"
           }
          ],
          "heatmapgl": [
           {
            "colorbar": {
             "outlinewidth": 0,
             "ticks": ""
            },
            "colorscale": [
             [
              0,
              "#0d0887"
             ],
             [
              0.1111111111111111,
              "#46039f"
             ],
             [
              0.2222222222222222,
              "#7201a8"
             ],
             [
              0.3333333333333333,
              "#9c179e"
             ],
             [
              0.4444444444444444,
              "#bd3786"
             ],
             [
              0.5555555555555556,
              "#d8576b"
             ],
             [
              0.6666666666666666,
              "#ed7953"
             ],
             [
              0.7777777777777778,
              "#fb9f3a"
             ],
             [
              0.8888888888888888,
              "#fdca26"
             ],
             [
              1,
              "#f0f921"
             ]
            ],
            "type": "heatmapgl"
           }
          ],
          "histogram": [
           {
            "marker": {
             "pattern": {
              "fillmode": "overlay",
              "size": 10,
              "solidity": 0.2
             }
            },
            "type": "histogram"
           }
          ],
          "histogram2d": [
           {
            "colorbar": {
             "outlinewidth": 0,
             "ticks": ""
            },
            "colorscale": [
             [
              0,
              "#0d0887"
             ],
             [
              0.1111111111111111,
              "#46039f"
             ],
             [
              0.2222222222222222,
              "#7201a8"
             ],
             [
              0.3333333333333333,
              "#9c179e"
             ],
             [
              0.4444444444444444,
              "#bd3786"
             ],
             [
              0.5555555555555556,
              "#d8576b"
             ],
             [
              0.6666666666666666,
              "#ed7953"
             ],
             [
              0.7777777777777778,
              "#fb9f3a"
             ],
             [
              0.8888888888888888,
              "#fdca26"
             ],
             [
              1,
              "#f0f921"
             ]
            ],
            "type": "histogram2d"
           }
          ],
          "histogram2dcontour": [
           {
            "colorbar": {
             "outlinewidth": 0,
             "ticks": ""
            },
            "colorscale": [
             [
              0,
              "#0d0887"
             ],
             [
              0.1111111111111111,
              "#46039f"
             ],
             [
              0.2222222222222222,
              "#7201a8"
             ],
             [
              0.3333333333333333,
              "#9c179e"
             ],
             [
              0.4444444444444444,
              "#bd3786"
             ],
             [
              0.5555555555555556,
              "#d8576b"
             ],
             [
              0.6666666666666666,
              "#ed7953"
             ],
             [
              0.7777777777777778,
              "#fb9f3a"
             ],
             [
              0.8888888888888888,
              "#fdca26"
             ],
             [
              1,
              "#f0f921"
             ]
            ],
            "type": "histogram2dcontour"
           }
          ],
          "mesh3d": [
           {
            "colorbar": {
             "outlinewidth": 0,
             "ticks": ""
            },
            "type": "mesh3d"
           }
          ],
          "parcoords": [
           {
            "line": {
             "colorbar": {
              "outlinewidth": 0,
              "ticks": ""
             }
            },
            "type": "parcoords"
           }
          ],
          "pie": [
           {
            "automargin": true,
            "type": "pie"
           }
          ],
          "scatter": [
           {
            "marker": {
             "colorbar": {
              "outlinewidth": 0,
              "ticks": ""
             }
            },
            "type": "scatter"
           }
          ],
          "scatter3d": [
           {
            "line": {
             "colorbar": {
              "outlinewidth": 0,
              "ticks": ""
             }
            },
            "marker": {
             "colorbar": {
              "outlinewidth": 0,
              "ticks": ""
             }
            },
            "type": "scatter3d"
           }
          ],
          "scattercarpet": [
           {
            "marker": {
             "colorbar": {
              "outlinewidth": 0,
              "ticks": ""
             }
            },
            "type": "scattercarpet"
           }
          ],
          "scattergeo": [
           {
            "marker": {
             "colorbar": {
              "outlinewidth": 0,
              "ticks": ""
             }
            },
            "type": "scattergeo"
           }
          ],
          "scattergl": [
           {
            "marker": {
             "colorbar": {
              "outlinewidth": 0,
              "ticks": ""
             }
            },
            "type": "scattergl"
           }
          ],
          "scattermapbox": [
           {
            "marker": {
             "colorbar": {
              "outlinewidth": 0,
              "ticks": ""
             }
            },
            "type": "scattermapbox"
           }
          ],
          "scatterpolar": [
           {
            "marker": {
             "colorbar": {
              "outlinewidth": 0,
              "ticks": ""
             }
            },
            "type": "scatterpolar"
           }
          ],
          "scatterpolargl": [
           {
            "marker": {
             "colorbar": {
              "outlinewidth": 0,
              "ticks": ""
             }
            },
            "type": "scatterpolargl"
           }
          ],
          "scatterternary": [
           {
            "marker": {
             "colorbar": {
              "outlinewidth": 0,
              "ticks": ""
             }
            },
            "type": "scatterternary"
           }
          ],
          "surface": [
           {
            "colorbar": {
             "outlinewidth": 0,
             "ticks": ""
            },
            "colorscale": [
             [
              0,
              "#0d0887"
             ],
             [
              0.1111111111111111,
              "#46039f"
             ],
             [
              0.2222222222222222,
              "#7201a8"
             ],
             [
              0.3333333333333333,
              "#9c179e"
             ],
             [
              0.4444444444444444,
              "#bd3786"
             ],
             [
              0.5555555555555556,
              "#d8576b"
             ],
             [
              0.6666666666666666,
              "#ed7953"
             ],
             [
              0.7777777777777778,
              "#fb9f3a"
             ],
             [
              0.8888888888888888,
              "#fdca26"
             ],
             [
              1,
              "#f0f921"
             ]
            ],
            "type": "surface"
           }
          ],
          "table": [
           {
            "cells": {
             "fill": {
              "color": "#EBF0F8"
             },
             "line": {
              "color": "white"
             }
            },
            "header": {
             "fill": {
              "color": "#C8D4E3"
             },
             "line": {
              "color": "white"
             }
            },
            "type": "table"
           }
          ]
         },
         "layout": {
          "annotationdefaults": {
           "arrowcolor": "#2a3f5f",
           "arrowhead": 0,
           "arrowwidth": 1
          },
          "autotypenumbers": "strict",
          "coloraxis": {
           "colorbar": {
            "outlinewidth": 0,
            "ticks": ""
           }
          },
          "colorscale": {
           "diverging": [
            [
             0,
             "#8e0152"
            ],
            [
             0.1,
             "#c51b7d"
            ],
            [
             0.2,
             "#de77ae"
            ],
            [
             0.3,
             "#f1b6da"
            ],
            [
             0.4,
             "#fde0ef"
            ],
            [
             0.5,
             "#f7f7f7"
            ],
            [
             0.6,
             "#e6f5d0"
            ],
            [
             0.7,
             "#b8e186"
            ],
            [
             0.8,
             "#7fbc41"
            ],
            [
             0.9,
             "#4d9221"
            ],
            [
             1,
             "#276419"
            ]
           ],
           "sequential": [
            [
             0,
             "#0d0887"
            ],
            [
             0.1111111111111111,
             "#46039f"
            ],
            [
             0.2222222222222222,
             "#7201a8"
            ],
            [
             0.3333333333333333,
             "#9c179e"
            ],
            [
             0.4444444444444444,
             "#bd3786"
            ],
            [
             0.5555555555555556,
             "#d8576b"
            ],
            [
             0.6666666666666666,
             "#ed7953"
            ],
            [
             0.7777777777777778,
             "#fb9f3a"
            ],
            [
             0.8888888888888888,
             "#fdca26"
            ],
            [
             1,
             "#f0f921"
            ]
           ],
           "sequentialminus": [
            [
             0,
             "#0d0887"
            ],
            [
             0.1111111111111111,
             "#46039f"
            ],
            [
             0.2222222222222222,
             "#7201a8"
            ],
            [
             0.3333333333333333,
             "#9c179e"
            ],
            [
             0.4444444444444444,
             "#bd3786"
            ],
            [
             0.5555555555555556,
             "#d8576b"
            ],
            [
             0.6666666666666666,
             "#ed7953"
            ],
            [
             0.7777777777777778,
             "#fb9f3a"
            ],
            [
             0.8888888888888888,
             "#fdca26"
            ],
            [
             1,
             "#f0f921"
            ]
           ]
          },
          "colorway": [
           "#636efa",
           "#EF553B",
           "#00cc96",
           "#ab63fa",
           "#FFA15A",
           "#19d3f3",
           "#FF6692",
           "#B6E880",
           "#FF97FF",
           "#FECB52"
          ],
          "font": {
           "color": "#2a3f5f"
          },
          "geo": {
           "bgcolor": "white",
           "lakecolor": "white",
           "landcolor": "#E5ECF6",
           "showlakes": true,
           "showland": true,
           "subunitcolor": "white"
          },
          "hoverlabel": {
           "align": "left"
          },
          "hovermode": "closest",
          "mapbox": {
           "style": "light"
          },
          "paper_bgcolor": "white",
          "plot_bgcolor": "#E5ECF6",
          "polar": {
           "angularaxis": {
            "gridcolor": "white",
            "linecolor": "white",
            "ticks": ""
           },
           "bgcolor": "#E5ECF6",
           "radialaxis": {
            "gridcolor": "white",
            "linecolor": "white",
            "ticks": ""
           }
          },
          "scene": {
           "xaxis": {
            "backgroundcolor": "#E5ECF6",
            "gridcolor": "white",
            "gridwidth": 2,
            "linecolor": "white",
            "showbackground": true,
            "ticks": "",
            "zerolinecolor": "white"
           },
           "yaxis": {
            "backgroundcolor": "#E5ECF6",
            "gridcolor": "white",
            "gridwidth": 2,
            "linecolor": "white",
            "showbackground": true,
            "ticks": "",
            "zerolinecolor": "white"
           },
           "zaxis": {
            "backgroundcolor": "#E5ECF6",
            "gridcolor": "white",
            "gridwidth": 2,
            "linecolor": "white",
            "showbackground": true,
            "ticks": "",
            "zerolinecolor": "white"
           }
          },
          "shapedefaults": {
           "line": {
            "color": "#2a3f5f"
           }
          },
          "ternary": {
           "aaxis": {
            "gridcolor": "white",
            "linecolor": "white",
            "ticks": ""
           },
           "baxis": {
            "gridcolor": "white",
            "linecolor": "white",
            "ticks": ""
           },
           "bgcolor": "#E5ECF6",
           "caxis": {
            "gridcolor": "white",
            "linecolor": "white",
            "ticks": ""
           }
          },
          "title": {
           "x": 0.05
          },
          "xaxis": {
           "automargin": true,
           "gridcolor": "white",
           "linecolor": "white",
           "ticks": "",
           "title": {
            "standoff": 15
           },
           "zerolinecolor": "white",
           "zerolinewidth": 2
          },
          "yaxis": {
           "automargin": true,
           "gridcolor": "white",
           "linecolor": "white",
           "ticks": "",
           "title": {
            "standoff": 15
           },
           "zerolinecolor": "white",
           "zerolinewidth": 2
          }
         }
        }
       }
      },
      "text/html": [
       "<div>                            <div id=\"d2e99183-8ab5-4cf6-8e52-4a6a5cdb577a\" class=\"plotly-graph-div\" style=\"height:525px; width:100%;\"></div>            <script type=\"text/javascript\">                require([\"plotly\"], function(Plotly) {                    window.PLOTLYENV=window.PLOTLYENV || {};                                    if (document.getElementById(\"d2e99183-8ab5-4cf6-8e52-4a6a5cdb577a\")) {                    Plotly.newPlot(                        \"d2e99183-8ab5-4cf6-8e52-4a6a5cdb577a\",                        [{\"branchvalues\":\"total\",\"customdata\":[[null],[null],[null],[null],[null],[null],[null],[null],[null],[null],[null],[null],[null],[null],[null],[null],[null],[null],[null],[null],[null],[null],[null],[null],[null],[null],[null],[null],[null],[null],[null],[null],[null],[null],[null],[null],[null],[null],[null],[null],[null],[null],[null],[null],[null],[null],[null],[null],[null],[null],[null],[null],[null],[null],[null],[null],[null],[null],[null],[null],[null],[null],[null],[null],[null],[null],[null],[null],[null],[null],[null],[null],[null],[null],[null],[null],[null],[null],[null],[null],[13.359000000000002],[13.359000000000002],[13.357000000000001],[null],[13.357000000000001],[13.355],[13.354000000000001],[13.354000000000001],[13.357999999999999],[null],[null],[null],[null],[null],[null],[null],[null],[null],[null],[13.356],[null],[null],[null],[null],[null],[null],[null],[null],[null],[null],[null],[null],[null],[null],[null],[null],[null],[null],[null],[null],[null],[null],[null],[null],[null],[null],[null],[null],[null],[null],[null],[null],[null],[null],[null],[null],[null],[null],[null],[null],[null],[null],[null],[null],[null],[null],[null],[null],[null],[null],[null],[null],[null],[null],[null],[null],[null],[null],[null],[null],[null],[null],[null],[null],[null],[null],[null],[null],[null],[null],[null],[null],[null],[null],[null],[null],[null],[null],[null],[null],[null],[null],[null],[null],[null],[null],[null],[null],[null],[null],[null],[null],[null],[null],[null],[null],[null],[null],[null],[null],[null],[null],[null],[null],[null],[null],[null],[null],[null],[null],[null],[null],[null],[13.36],[null],[null],[null],[null],[null],[null],[null],[null],[null],[null],[null],[null],[null],[null],[null],[null],[null],[null],[null],[null],[null],[null],[null],[null],[null],[null],[null],[null],[null],[null],[null],[null],[null],[null],[null],[null],[null],[null],[null],[null],[null],[null],[null],[null],[null],[null],[null],[null],[null],[null],[null],[null],[null],[null],[null],[null],[null],[null],[null],[null],[null],[null],[null],[null],[null],[null],[null],[null],[null],[null],[null],[null],[null],[null],[null],[null],[null],[null],[null],[null],[null],[null],[null],[null],[null],[null],[null],[null],[null],[null],[null],[null],[null],[null],[null],[null],[null],[null],[null],[null],[null],[null],[null],[null],[null],[null],[null],[null],[null],[null],[null],[null],[null],[null],[null],[null],[null],[null],[null],[null],[null],[null],[null],[null],[null],[null],[null],[null],[null],[null],[null],[null],[null],[null],[null],[null],[null],[null],[null],[null],[null],[null],[null],[null],[null],[null],[null],[null],[null],[null],[null],[null],[null],[null],[null],[null],[null],[null],[null],[null],[null],[null],[null],[null],[null],[null],[null],[null],[null],[null],[null],[null],[null],[null],[null],[null],[null],[null],[null],[null],[null],[null],[null],[null],[null],[null],[null],[null],[null],[null],[null],[null],[null],[null],[null],[null],[null],[null],[null],[null],[null],[null],[null],[null],[null],[null],[null],[null],[null],[null],[null],[null],[null],[null],[null],[null],[13.359000000000002],[13.359000000000002],[13.357000000000001],[13.36],[13.357000000000001],[13.355],[13.354000000000001],[13.354000000000001],[13.357999999999999],[13.356]],\"domain\":{\"x\":[0.0,1.0],\"y\":[0.0,1.0]},\"hovertemplate\":\"labels=%{label}<br>Popularity_sum=%{value}<br>parent=%{parent}<br>id=%{id}<br>Popularity=%{color}<extra></extra>\",\"ids\":[\"All Is Lost/ar\",\"Amateur Porn Star Killer 2/ar\",\"Badlands/ar\",\"I'm in Love With My Little Sister/ar\",\"The Little Prince/ar\",\"The Offering/ar\",\"The United States vs. Billie Holiday/ar\",\"Threads/ar\",\"Unlawful Entry/ar\",\"Violent Delights/ar\",\"All Is Lost/bn\",\"Amateur Porn Star Killer 2/bn\",\"Badlands/bn\",\"I'm in Love With My Little Sister/bn\",\"The Little Prince/bn\",\"The Offering/bn\",\"The United States vs. Billie Holiday/bn\",\"Threads/bn\",\"Unlawful Entry/bn\",\"Violent Delights/bn\",\"All Is Lost/ca\",\"Amateur Porn Star Killer 2/ca\",\"Badlands/ca\",\"I'm in Love With My Little Sister/ca\",\"The Little Prince/ca\",\"The Offering/ca\",\"The United States vs. Billie Holiday/ca\",\"Threads/ca\",\"Unlawful Entry/ca\",\"Violent Delights/ca\",\"All Is Lost/cn\",\"Amateur Porn Star Killer 2/cn\",\"Badlands/cn\",\"I'm in Love With My Little Sister/cn\",\"The Little Prince/cn\",\"The Offering/cn\",\"The United States vs. Billie Holiday/cn\",\"Threads/cn\",\"Unlawful Entry/cn\",\"Violent Delights/cn\",\"All Is Lost/cs\",\"Amateur Porn Star Killer 2/cs\",\"Badlands/cs\",\"I'm in Love With My Little Sister/cs\",\"The Little Prince/cs\",\"The Offering/cs\",\"The United States vs. Billie Holiday/cs\",\"Threads/cs\",\"Unlawful Entry/cs\",\"Violent Delights/cs\",\"All Is Lost/da\",\"Amateur Porn Star Killer 2/da\",\"Badlands/da\",\"I'm in Love With My Little Sister/da\",\"The Little Prince/da\",\"The Offering/da\",\"The United States vs. Billie Holiday/da\",\"Threads/da\",\"Unlawful Entry/da\",\"Violent Delights/da\",\"All Is Lost/de\",\"Amateur Porn Star Killer 2/de\",\"Badlands/de\",\"I'm in Love With My Little Sister/de\",\"The Little Prince/de\",\"The Offering/de\",\"The United States vs. Billie Holiday/de\",\"Threads/de\",\"Unlawful Entry/de\",\"Violent Delights/de\",\"All Is Lost/el\",\"Amateur Porn Star Killer 2/el\",\"Badlands/el\",\"I'm in Love With My Little Sister/el\",\"The Little Prince/el\",\"The Offering/el\",\"The United States vs. Billie Holiday/el\",\"Threads/el\",\"Unlawful Entry/el\",\"Violent Delights/el\",\"All Is Lost/en\",\"Amateur Porn Star Killer 2/en\",\"Badlands/en\",\"I'm in Love With My Little Sister/en\",\"The Little Prince/en\",\"The Offering/en\",\"The United States vs. Billie Holiday/en\",\"Threads/en\",\"Unlawful Entry/en\",\"Violent Delights/en\",\"All Is Lost/es\",\"Amateur Porn Star Killer 2/es\",\"Badlands/es\",\"I'm in Love With My Little Sister/es\",\"The Little Prince/es\",\"The Offering/es\",\"The United States vs. Billie Holiday/es\",\"Threads/es\",\"Unlawful Entry/es\",\"Violent Delights/es\",\"All Is Lost/et\",\"Amateur Porn Star Killer 2/et\",\"Badlands/et\",\"I'm in Love With My Little Sister/et\",\"The Little Prince/et\",\"The Offering/et\",\"The United States vs. Billie Holiday/et\",\"Threads/et\",\"Unlawful Entry/et\",\"Violent Delights/et\",\"All Is Lost/eu\",\"Amateur Porn Star Killer 2/eu\",\"Badlands/eu\",\"I'm in Love With My Little Sister/eu\",\"The Little Prince/eu\",\"The Offering/eu\",\"The United States vs. Billie Holiday/eu\",\"Threads/eu\",\"Unlawful Entry/eu\",\"Violent Delights/eu\",\"All Is Lost/fa\",\"Amateur Porn Star Killer 2/fa\",\"Badlands/fa\",\"I'm in Love With My Little Sister/fa\",\"The Little Prince/fa\",\"The Offering/fa\",\"The United States vs. Billie Holiday/fa\",\"Threads/fa\",\"Unlawful Entry/fa\",\"Violent Delights/fa\",\"All Is Lost/fi\",\"Amateur Porn Star Killer 2/fi\",\"Badlands/fi\",\"I'm in Love With My Little Sister/fi\",\"The Little Prince/fi\",\"The Offering/fi\",\"The United States vs. Billie Holiday/fi\",\"Threads/fi\",\"Unlawful Entry/fi\",\"Violent Delights/fi\",\"All Is Lost/fr\",\"Amateur Porn Star Killer 2/fr\",\"Badlands/fr\",\"I'm in Love With My Little Sister/fr\",\"The Little Prince/fr\",\"The Offering/fr\",\"The United States vs. Billie Holiday/fr\",\"Threads/fr\",\"Unlawful Entry/fr\",\"Violent Delights/fr\",\"All Is Lost/he\",\"Amateur Porn Star Killer 2/he\",\"Badlands/he\",\"I'm in Love With My Little Sister/he\",\"The Little Prince/he\",\"The Offering/he\",\"The United States vs. Billie Holiday/he\",\"Threads/he\",\"Unlawful Entry/he\",\"Violent Delights/he\",\"All Is Lost/hi\",\"Amateur Porn Star Killer 2/hi\",\"Badlands/hi\",\"I'm in Love With My Little Sister/hi\",\"The Little Prince/hi\",\"The Offering/hi\",\"The United States vs. Billie Holiday/hi\",\"Threads/hi\",\"Unlawful Entry/hi\",\"Violent Delights/hi\",\"All Is Lost/hu\",\"Amateur Porn Star Killer 2/hu\",\"Badlands/hu\",\"I'm in Love With My Little Sister/hu\",\"The Little Prince/hu\",\"The Offering/hu\",\"The United States vs. Billie Holiday/hu\",\"Threads/hu\",\"Unlawful Entry/hu\",\"Violent Delights/hu\",\"All Is Lost/id\",\"Amateur Porn Star Killer 2/id\",\"Badlands/id\",\"I'm in Love With My Little Sister/id\",\"The Little Prince/id\",\"The Offering/id\",\"The United States vs. Billie Holiday/id\",\"Threads/id\",\"Unlawful Entry/id\",\"Violent Delights/id\",\"All Is Lost/is\",\"Amateur Porn Star Killer 2/is\",\"Badlands/is\",\"I'm in Love With My Little Sister/is\",\"The Little Prince/is\",\"The Offering/is\",\"The United States vs. Billie Holiday/is\",\"Threads/is\",\"Unlawful Entry/is\",\"Violent Delights/is\",\"All Is Lost/it\",\"Amateur Porn Star Killer 2/it\",\"Badlands/it\",\"I'm in Love With My Little Sister/it\",\"The Little Prince/it\",\"The Offering/it\",\"The United States vs. Billie Holiday/it\",\"Threads/it\",\"Unlawful Entry/it\",\"Violent Delights/it\",\"All Is Lost/ja\",\"Amateur Porn Star Killer 2/ja\",\"Badlands/ja\",\"I'm in Love With My Little Sister/ja\",\"The Little Prince/ja\",\"The Offering/ja\",\"The United States vs. Billie Holiday/ja\",\"Threads/ja\",\"Unlawful Entry/ja\",\"Violent Delights/ja\",\"All Is Lost/ko\",\"Amateur Porn Star Killer 2/ko\",\"Badlands/ko\",\"I'm in Love With My Little Sister/ko\",\"The Little Prince/ko\",\"The Offering/ko\",\"The United States vs. Billie Holiday/ko\",\"Threads/ko\",\"Unlawful Entry/ko\",\"Violent Delights/ko\",\"All Is Lost/la\",\"Amateur Porn Star Killer 2/la\",\"Badlands/la\",\"I'm in Love With My Little Sister/la\",\"The Little Prince/la\",\"The Offering/la\",\"The United States vs. Billie Holiday/la\",\"Threads/la\",\"Unlawful Entry/la\",\"Violent Delights/la\",\"All Is Lost/lv\",\"Amateur Porn Star Killer 2/lv\",\"Badlands/lv\",\"I'm in Love With My Little Sister/lv\",\"The Little Prince/lv\",\"The Offering/lv\",\"The United States vs. Billie Holiday/lv\",\"Threads/lv\",\"Unlawful Entry/lv\",\"Violent Delights/lv\",\"All Is Lost/ml\",\"Amateur Porn Star Killer 2/ml\",\"Badlands/ml\",\"I'm in Love With My Little Sister/ml\",\"The Little Prince/ml\",\"The Offering/ml\",\"The United States vs. Billie Holiday/ml\",\"Threads/ml\",\"Unlawful Entry/ml\",\"Violent Delights/ml\",\"All Is Lost/ms\",\"Amateur Porn Star Killer 2/ms\",\"Badlands/ms\",\"I'm in Love With My Little Sister/ms\",\"The Little Prince/ms\",\"The Offering/ms\",\"The United States vs. Billie Holiday/ms\",\"Threads/ms\",\"Unlawful Entry/ms\",\"Violent Delights/ms\",\"All Is Lost/nb\",\"Amateur Porn Star Killer 2/nb\",\"Badlands/nb\",\"I'm in Love With My Little Sister/nb\",\"The Little Prince/nb\",\"The Offering/nb\",\"The United States vs. Billie Holiday/nb\",\"Threads/nb\",\"Unlawful Entry/nb\",\"Violent Delights/nb\",\"All Is Lost/nl\",\"Amateur Porn Star Killer 2/nl\",\"Badlands/nl\",\"I'm in Love With My Little Sister/nl\",\"The Little Prince/nl\",\"The Offering/nl\",\"The United States vs. Billie Holiday/nl\",\"Threads/nl\",\"Unlawful Entry/nl\",\"Violent Delights/nl\",\"All Is Lost/no\",\"Amateur Porn Star Killer 2/no\",\"Badlands/no\",\"I'm in Love With My Little Sister/no\",\"The Little Prince/no\",\"The Offering/no\",\"The United States vs. Billie Holiday/no\",\"Threads/no\",\"Unlawful Entry/no\",\"Violent Delights/no\",\"All Is Lost/pl\",\"Amateur Porn Star Killer 2/pl\",\"Badlands/pl\",\"I'm in Love With My Little Sister/pl\",\"The Little Prince/pl\",\"The Offering/pl\",\"The United States vs. Billie Holiday/pl\",\"Threads/pl\",\"Unlawful Entry/pl\",\"Violent Delights/pl\",\"All Is Lost/pt\",\"Amateur Porn Star Killer 2/pt\",\"Badlands/pt\",\"I'm in Love With My Little Sister/pt\",\"The Little Prince/pt\",\"The Offering/pt\",\"The United States vs. Billie Holiday/pt\",\"Threads/pt\",\"Unlawful Entry/pt\",\"Violent Delights/pt\",\"All Is Lost/ro\",\"Amateur Porn Star Killer 2/ro\",\"Badlands/ro\",\"I'm in Love With My Little Sister/ro\",\"The Little Prince/ro\",\"The Offering/ro\",\"The United States vs. Billie Holiday/ro\",\"Threads/ro\",\"Unlawful Entry/ro\",\"Violent Delights/ro\",\"All Is Lost/ru\",\"Amateur Porn Star Killer 2/ru\",\"Badlands/ru\",\"I'm in Love With My Little Sister/ru\",\"The Little Prince/ru\",\"The Offering/ru\",\"The United States vs. Billie Holiday/ru\",\"Threads/ru\",\"Unlawful Entry/ru\",\"Violent Delights/ru\",\"All Is Lost/sr\",\"Amateur Porn Star Killer 2/sr\",\"Badlands/sr\",\"I'm in Love With My Little Sister/sr\",\"The Little Prince/sr\",\"The Offering/sr\",\"The United States vs. Billie Holiday/sr\",\"Threads/sr\",\"Unlawful Entry/sr\",\"Violent Delights/sr\",\"All Is Lost/sv\",\"Amateur Porn Star Killer 2/sv\",\"Badlands/sv\",\"I'm in Love With My Little Sister/sv\",\"The Little Prince/sv\",\"The Offering/sv\",\"The United States vs. Billie Holiday/sv\",\"Threads/sv\",\"Unlawful Entry/sv\",\"Violent Delights/sv\",\"All Is Lost/ta\",\"Amateur Porn Star Killer 2/ta\",\"Badlands/ta\",\"I'm in Love With My Little Sister/ta\",\"The Little Prince/ta\",\"The Offering/ta\",\"The United States vs. Billie Holiday/ta\",\"Threads/ta\",\"Unlawful Entry/ta\",\"Violent Delights/ta\",\"All Is Lost/te\",\"Amateur Porn Star Killer 2/te\",\"Badlands/te\",\"I'm in Love With My Little Sister/te\",\"The Little Prince/te\",\"The Offering/te\",\"The United States vs. Billie Holiday/te\",\"Threads/te\",\"Unlawful Entry/te\",\"Violent Delights/te\",\"All Is Lost/th\",\"Amateur Porn Star Killer 2/th\",\"Badlands/th\",\"I'm in Love With My Little Sister/th\",\"The Little Prince/th\",\"The Offering/th\",\"The United States vs. Billie Holiday/th\",\"Threads/th\",\"Unlawful Entry/th\",\"Violent Delights/th\",\"All Is Lost/tl\",\"Amateur Porn Star Killer 2/tl\",\"Badlands/tl\",\"I'm in Love With My Little Sister/tl\",\"The Little Prince/tl\",\"The Offering/tl\",\"The United States vs. Billie Holiday/tl\",\"Threads/tl\",\"Unlawful Entry/tl\",\"Violent Delights/tl\",\"All Is Lost/tr\",\"Amateur Porn Star Killer 2/tr\",\"Badlands/tr\",\"I'm in Love With My Little Sister/tr\",\"The Little Prince/tr\",\"The Offering/tr\",\"The United States vs. Billie Holiday/tr\",\"Threads/tr\",\"Unlawful Entry/tr\",\"Violent Delights/tr\",\"All Is Lost/uk\",\"Amateur Porn Star Killer 2/uk\",\"Badlands/uk\",\"I'm in Love With My Little Sister/uk\",\"The Little Prince/uk\",\"The Offering/uk\",\"The United States vs. Billie Holiday/uk\",\"Threads/uk\",\"Unlawful Entry/uk\",\"Violent Delights/uk\",\"All Is Lost/zh\",\"Amateur Porn Star Killer 2/zh\",\"Badlands/zh\",\"I'm in Love With My Little Sister/zh\",\"The Little Prince/zh\",\"The Offering/zh\",\"The United States vs. Billie Holiday/zh\",\"Threads/zh\",\"Unlawful Entry/zh\",\"Violent Delights/zh\",\"All Is Lost\",\"Amateur Porn Star Killer 2\",\"Badlands\",\"I'm in Love With My Little Sister\",\"The Little Prince\",\"The Offering\",\"The United States vs. Billie Holiday\",\"Threads\",\"Unlawful Entry\",\"Violent Delights\"],\"labels\":[\"ar\",\"ar\",\"ar\",\"ar\",\"ar\",\"ar\",\"ar\",\"ar\",\"ar\",\"ar\",\"bn\",\"bn\",\"bn\",\"bn\",\"bn\",\"bn\",\"bn\",\"bn\",\"bn\",\"bn\",\"ca\",\"ca\",\"ca\",\"ca\",\"ca\",\"ca\",\"ca\",\"ca\",\"ca\",\"ca\",\"cn\",\"cn\",\"cn\",\"cn\",\"cn\",\"cn\",\"cn\",\"cn\",\"cn\",\"cn\",\"cs\",\"cs\",\"cs\",\"cs\",\"cs\",\"cs\",\"cs\",\"cs\",\"cs\",\"cs\",\"da\",\"da\",\"da\",\"da\",\"da\",\"da\",\"da\",\"da\",\"da\",\"da\",\"de\",\"de\",\"de\",\"de\",\"de\",\"de\",\"de\",\"de\",\"de\",\"de\",\"el\",\"el\",\"el\",\"el\",\"el\",\"el\",\"el\",\"el\",\"el\",\"el\",\"en\",\"en\",\"en\",\"en\",\"en\",\"en\",\"en\",\"en\",\"en\",\"en\",\"es\",\"es\",\"es\",\"es\",\"es\",\"es\",\"es\",\"es\",\"es\",\"es\",\"et\",\"et\",\"et\",\"et\",\"et\",\"et\",\"et\",\"et\",\"et\",\"et\",\"eu\",\"eu\",\"eu\",\"eu\",\"eu\",\"eu\",\"eu\",\"eu\",\"eu\",\"eu\",\"fa\",\"fa\",\"fa\",\"fa\",\"fa\",\"fa\",\"fa\",\"fa\",\"fa\",\"fa\",\"fi\",\"fi\",\"fi\",\"fi\",\"fi\",\"fi\",\"fi\",\"fi\",\"fi\",\"fi\",\"fr\",\"fr\",\"fr\",\"fr\",\"fr\",\"fr\",\"fr\",\"fr\",\"fr\",\"fr\",\"he\",\"he\",\"he\",\"he\",\"he\",\"he\",\"he\",\"he\",\"he\",\"he\",\"hi\",\"hi\",\"hi\",\"hi\",\"hi\",\"hi\",\"hi\",\"hi\",\"hi\",\"hi\",\"hu\",\"hu\",\"hu\",\"hu\",\"hu\",\"hu\",\"hu\",\"hu\",\"hu\",\"hu\",\"id\",\"id\",\"id\",\"id\",\"id\",\"id\",\"id\",\"id\",\"id\",\"id\",\"is\",\"is\",\"is\",\"is\",\"is\",\"is\",\"is\",\"is\",\"is\",\"is\",\"it\",\"it\",\"it\",\"it\",\"it\",\"it\",\"it\",\"it\",\"it\",\"it\",\"ja\",\"ja\",\"ja\",\"ja\",\"ja\",\"ja\",\"ja\",\"ja\",\"ja\",\"ja\",\"ko\",\"ko\",\"ko\",\"ko\",\"ko\",\"ko\",\"ko\",\"ko\",\"ko\",\"ko\",\"la\",\"la\",\"la\",\"la\",\"la\",\"la\",\"la\",\"la\",\"la\",\"la\",\"lv\",\"lv\",\"lv\",\"lv\",\"lv\",\"lv\",\"lv\",\"lv\",\"lv\",\"lv\",\"ml\",\"ml\",\"ml\",\"ml\",\"ml\",\"ml\",\"ml\",\"ml\",\"ml\",\"ml\",\"ms\",\"ms\",\"ms\",\"ms\",\"ms\",\"ms\",\"ms\",\"ms\",\"ms\",\"ms\",\"nb\",\"nb\",\"nb\",\"nb\",\"nb\",\"nb\",\"nb\",\"nb\",\"nb\",\"nb\",\"nl\",\"nl\",\"nl\",\"nl\",\"nl\",\"nl\",\"nl\",\"nl\",\"nl\",\"nl\",\"no\",\"no\",\"no\",\"no\",\"no\",\"no\",\"no\",\"no\",\"no\",\"no\",\"pl\",\"pl\",\"pl\",\"pl\",\"pl\",\"pl\",\"pl\",\"pl\",\"pl\",\"pl\",\"pt\",\"pt\",\"pt\",\"pt\",\"pt\",\"pt\",\"pt\",\"pt\",\"pt\",\"pt\",\"ro\",\"ro\",\"ro\",\"ro\",\"ro\",\"ro\",\"ro\",\"ro\",\"ro\",\"ro\",\"ru\",\"ru\",\"ru\",\"ru\",\"ru\",\"ru\",\"ru\",\"ru\",\"ru\",\"ru\",\"sr\",\"sr\",\"sr\",\"sr\",\"sr\",\"sr\",\"sr\",\"sr\",\"sr\",\"sr\",\"sv\",\"sv\",\"sv\",\"sv\",\"sv\",\"sv\",\"sv\",\"sv\",\"sv\",\"sv\",\"ta\",\"ta\",\"ta\",\"ta\",\"ta\",\"ta\",\"ta\",\"ta\",\"ta\",\"ta\",\"te\",\"te\",\"te\",\"te\",\"te\",\"te\",\"te\",\"te\",\"te\",\"te\",\"th\",\"th\",\"th\",\"th\",\"th\",\"th\",\"th\",\"th\",\"th\",\"th\",\"tl\",\"tl\",\"tl\",\"tl\",\"tl\",\"tl\",\"tl\",\"tl\",\"tl\",\"tl\",\"tr\",\"tr\",\"tr\",\"tr\",\"tr\",\"tr\",\"tr\",\"tr\",\"tr\",\"tr\",\"uk\",\"uk\",\"uk\",\"uk\",\"uk\",\"uk\",\"uk\",\"uk\",\"uk\",\"uk\",\"zh\",\"zh\",\"zh\",\"zh\",\"zh\",\"zh\",\"zh\",\"zh\",\"zh\",\"zh\",\"All Is Lost\",\"Amateur Porn Star Killer 2\",\"Badlands\",\"I'm in Love With My Little Sister\",\"The Little Prince\",\"The Offering\",\"The United States vs. Billie Holiday\",\"Threads\",\"Unlawful Entry\",\"Violent Delights\"],\"marker\":{\"coloraxis\":\"coloraxis\",\"colors\":[null,null,null,null,null,null,null,null,null,null,null,null,null,null,null,null,null,null,null,null,null,null,null,null,null,null,null,null,null,null,null,null,null,null,null,null,null,null,null,null,null,null,null,null,null,null,null,null,null,null,null,null,null,null,null,null,null,null,null,null,null,null,null,null,null,null,null,null,null,null,null,null,null,null,null,null,null,null,null,null,13.359000000000002,13.359000000000002,13.357000000000001,null,13.357000000000001,13.355,13.354000000000001,13.354000000000001,13.357999999999999,null,null,null,null,null,null,null,null,null,null,13.356,null,null,null,null,null,null,null,null,null,null,null,null,null,null,null,null,null,null,null,null,null,null,null,null,null,null,null,null,null,null,null,null,null,null,null,null,null,null,null,null,null,null,null,null,null,null,null,null,null,null,null,null,null,null,null,null,null,null,null,null,null,null,null,null,null,null,null,null,null,null,null,null,null,null,null,null,null,null,null,null,null,null,null,null,null,null,null,null,null,null,null,null,null,null,null,null,null,null,null,null,null,null,null,null,null,null,null,null,null,null,null,null,null,13.36,null,null,null,null,null,null,null,null,null,null,null,null,null,null,null,null,null,null,null,null,null,null,null,null,null,null,null,null,null,null,null,null,null,null,null,null,null,null,null,null,null,null,null,null,null,null,null,null,null,null,null,null,null,null,null,null,null,null,null,null,null,null,null,null,null,null,null,null,null,null,null,null,null,null,null,null,null,null,null,null,null,null,null,null,null,null,null,null,null,null,null,null,null,null,null,null,null,null,null,null,null,null,null,null,null,null,null,null,null,null,null,null,null,null,null,null,null,null,null,null,null,null,null,null,null,null,null,null,null,null,null,null,null,null,null,null,null,null,null,null,null,null,null,null,null,null,null,null,null,null,null,null,null,null,null,null,null,null,null,null,null,null,null,null,null,null,null,null,null,null,null,null,null,null,null,null,null,null,null,null,null,null,null,null,null,null,null,null,null,null,null,null,null,null,null,null,null,null,null,null,null,null,null,null,null,null,null,null,null,null,null,null,null,null,null,null,13.359000000000002,13.359000000000002,13.357000000000001,13.36,13.357000000000001,13.355,13.354000000000001,13.354000000000001,13.357999999999999,13.356]},\"name\":\"\",\"parents\":[\"All Is Lost\",\"Amateur Porn Star Killer 2\",\"Badlands\",\"I'm in Love With My Little Sister\",\"The Little Prince\",\"The Offering\",\"The United States vs. Billie Holiday\",\"Threads\",\"Unlawful Entry\",\"Violent Delights\",\"All Is Lost\",\"Amateur Porn Star Killer 2\",\"Badlands\",\"I'm in Love With My Little Sister\",\"The Little Prince\",\"The Offering\",\"The United States vs. Billie Holiday\",\"Threads\",\"Unlawful Entry\",\"Violent Delights\",\"All Is Lost\",\"Amateur Porn Star Killer 2\",\"Badlands\",\"I'm in Love With My Little Sister\",\"The Little Prince\",\"The Offering\",\"The United States vs. Billie Holiday\",\"Threads\",\"Unlawful Entry\",\"Violent Delights\",\"All Is Lost\",\"Amateur Porn Star Killer 2\",\"Badlands\",\"I'm in Love With My Little Sister\",\"The Little Prince\",\"The Offering\",\"The United States vs. Billie Holiday\",\"Threads\",\"Unlawful Entry\",\"Violent Delights\",\"All Is Lost\",\"Amateur Porn Star Killer 2\",\"Badlands\",\"I'm in Love With My Little Sister\",\"The Little Prince\",\"The Offering\",\"The United States vs. Billie Holiday\",\"Threads\",\"Unlawful Entry\",\"Violent Delights\",\"All Is Lost\",\"Amateur Porn Star Killer 2\",\"Badlands\",\"I'm in Love With My Little Sister\",\"The Little Prince\",\"The Offering\",\"The United States vs. Billie Holiday\",\"Threads\",\"Unlawful Entry\",\"Violent Delights\",\"All Is Lost\",\"Amateur Porn Star Killer 2\",\"Badlands\",\"I'm in Love With My Little Sister\",\"The Little Prince\",\"The Offering\",\"The United States vs. Billie Holiday\",\"Threads\",\"Unlawful Entry\",\"Violent Delights\",\"All Is Lost\",\"Amateur Porn Star Killer 2\",\"Badlands\",\"I'm in Love With My Little Sister\",\"The Little Prince\",\"The Offering\",\"The United States vs. Billie Holiday\",\"Threads\",\"Unlawful Entry\",\"Violent Delights\",\"All Is Lost\",\"Amateur Porn Star Killer 2\",\"Badlands\",\"I'm in Love With My Little Sister\",\"The Little Prince\",\"The Offering\",\"The United States vs. Billie Holiday\",\"Threads\",\"Unlawful Entry\",\"Violent Delights\",\"All Is Lost\",\"Amateur Porn Star Killer 2\",\"Badlands\",\"I'm in Love With My Little Sister\",\"The Little Prince\",\"The Offering\",\"The United States vs. Billie Holiday\",\"Threads\",\"Unlawful Entry\",\"Violent Delights\",\"All Is Lost\",\"Amateur Porn Star Killer 2\",\"Badlands\",\"I'm in Love With My Little Sister\",\"The Little Prince\",\"The Offering\",\"The United States vs. Billie Holiday\",\"Threads\",\"Unlawful Entry\",\"Violent Delights\",\"All Is Lost\",\"Amateur Porn Star Killer 2\",\"Badlands\",\"I'm in Love With My Little Sister\",\"The Little Prince\",\"The Offering\",\"The United States vs. Billie Holiday\",\"Threads\",\"Unlawful Entry\",\"Violent Delights\",\"All Is Lost\",\"Amateur Porn Star Killer 2\",\"Badlands\",\"I'm in Love With My Little Sister\",\"The Little Prince\",\"The Offering\",\"The United States vs. Billie Holiday\",\"Threads\",\"Unlawful Entry\",\"Violent Delights\",\"All Is Lost\",\"Amateur Porn Star Killer 2\",\"Badlands\",\"I'm in Love With My Little Sister\",\"The Little Prince\",\"The Offering\",\"The United States vs. Billie Holiday\",\"Threads\",\"Unlawful Entry\",\"Violent Delights\",\"All Is Lost\",\"Amateur Porn Star Killer 2\",\"Badlands\",\"I'm in Love With My Little Sister\",\"The Little Prince\",\"The Offering\",\"The United States vs. Billie Holiday\",\"Threads\",\"Unlawful Entry\",\"Violent Delights\",\"All Is Lost\",\"Amateur Porn Star Killer 2\",\"Badlands\",\"I'm in Love With My Little Sister\",\"The Little Prince\",\"The Offering\",\"The United States vs. Billie Holiday\",\"Threads\",\"Unlawful Entry\",\"Violent Delights\",\"All Is Lost\",\"Amateur Porn Star Killer 2\",\"Badlands\",\"I'm in Love With My Little Sister\",\"The Little Prince\",\"The Offering\",\"The United States vs. Billie Holiday\",\"Threads\",\"Unlawful Entry\",\"Violent Delights\",\"All Is Lost\",\"Amateur Porn Star Killer 2\",\"Badlands\",\"I'm in Love With My Little Sister\",\"The Little Prince\",\"The Offering\",\"The United States vs. Billie Holiday\",\"Threads\",\"Unlawful Entry\",\"Violent Delights\",\"All Is Lost\",\"Amateur Porn Star Killer 2\",\"Badlands\",\"I'm in Love With My Little Sister\",\"The Little Prince\",\"The Offering\",\"The United States vs. Billie Holiday\",\"Threads\",\"Unlawful Entry\",\"Violent Delights\",\"All Is Lost\",\"Amateur Porn Star Killer 2\",\"Badlands\",\"I'm in Love With My Little Sister\",\"The Little Prince\",\"The Offering\",\"The United States vs. Billie Holiday\",\"Threads\",\"Unlawful Entry\",\"Violent Delights\",\"All Is Lost\",\"Amateur Porn Star Killer 2\",\"Badlands\",\"I'm in Love With My Little Sister\",\"The Little Prince\",\"The Offering\",\"The United States vs. Billie Holiday\",\"Threads\",\"Unlawful Entry\",\"Violent Delights\",\"All Is Lost\",\"Amateur Porn Star Killer 2\",\"Badlands\",\"I'm in Love With My Little Sister\",\"The Little Prince\",\"The Offering\",\"The United States vs. Billie Holiday\",\"Threads\",\"Unlawful Entry\",\"Violent Delights\",\"All Is Lost\",\"Amateur Porn Star Killer 2\",\"Badlands\",\"I'm in Love With My Little Sister\",\"The Little Prince\",\"The Offering\",\"The United States vs. Billie Holiday\",\"Threads\",\"Unlawful Entry\",\"Violent Delights\",\"All Is Lost\",\"Amateur Porn Star Killer 2\",\"Badlands\",\"I'm in Love With My Little Sister\",\"The Little Prince\",\"The Offering\",\"The United States vs. Billie Holiday\",\"Threads\",\"Unlawful Entry\",\"Violent Delights\",\"All Is Lost\",\"Amateur Porn Star Killer 2\",\"Badlands\",\"I'm in Love With My Little Sister\",\"The Little Prince\",\"The Offering\",\"The United States vs. Billie Holiday\",\"Threads\",\"Unlawful Entry\",\"Violent Delights\",\"All Is Lost\",\"Amateur Porn Star Killer 2\",\"Badlands\",\"I'm in Love With My Little Sister\",\"The Little Prince\",\"The Offering\",\"The United States vs. Billie Holiday\",\"Threads\",\"Unlawful Entry\",\"Violent Delights\",\"All Is Lost\",\"Amateur Porn Star Killer 2\",\"Badlands\",\"I'm in Love With My Little Sister\",\"The Little Prince\",\"The Offering\",\"The United States vs. Billie Holiday\",\"Threads\",\"Unlawful Entry\",\"Violent Delights\",\"All Is Lost\",\"Amateur Porn Star Killer 2\",\"Badlands\",\"I'm in Love With My Little Sister\",\"The Little Prince\",\"The Offering\",\"The United States vs. Billie Holiday\",\"Threads\",\"Unlawful Entry\",\"Violent Delights\",\"All Is Lost\",\"Amateur Porn Star Killer 2\",\"Badlands\",\"I'm in Love With My Little Sister\",\"The Little Prince\",\"The Offering\",\"The United States vs. Billie Holiday\",\"Threads\",\"Unlawful Entry\",\"Violent Delights\",\"All Is Lost\",\"Amateur Porn Star Killer 2\",\"Badlands\",\"I'm in Love With My Little Sister\",\"The Little Prince\",\"The Offering\",\"The United States vs. Billie Holiday\",\"Threads\",\"Unlawful Entry\",\"Violent Delights\",\"All Is Lost\",\"Amateur Porn Star Killer 2\",\"Badlands\",\"I'm in Love With My Little Sister\",\"The Little Prince\",\"The Offering\",\"The United States vs. Billie Holiday\",\"Threads\",\"Unlawful Entry\",\"Violent Delights\",\"All Is Lost\",\"Amateur Porn Star Killer 2\",\"Badlands\",\"I'm in Love With My Little Sister\",\"The Little Prince\",\"The Offering\",\"The United States vs. Billie Holiday\",\"Threads\",\"Unlawful Entry\",\"Violent Delights\",\"All Is Lost\",\"Amateur Porn Star Killer 2\",\"Badlands\",\"I'm in Love With My Little Sister\",\"The Little Prince\",\"The Offering\",\"The United States vs. Billie Holiday\",\"Threads\",\"Unlawful Entry\",\"Violent Delights\",\"All Is Lost\",\"Amateur Porn Star Killer 2\",\"Badlands\",\"I'm in Love With My Little Sister\",\"The Little Prince\",\"The Offering\",\"The United States vs. Billie Holiday\",\"Threads\",\"Unlawful Entry\",\"Violent Delights\",\"All Is Lost\",\"Amateur Porn Star Killer 2\",\"Badlands\",\"I'm in Love With My Little Sister\",\"The Little Prince\",\"The Offering\",\"The United States vs. Billie Holiday\",\"Threads\",\"Unlawful Entry\",\"Violent Delights\",\"All Is Lost\",\"Amateur Porn Star Killer 2\",\"Badlands\",\"I'm in Love With My Little Sister\",\"The Little Prince\",\"The Offering\",\"The United States vs. Billie Holiday\",\"Threads\",\"Unlawful Entry\",\"Violent Delights\",\"All Is Lost\",\"Amateur Porn Star Killer 2\",\"Badlands\",\"I'm in Love With My Little Sister\",\"The Little Prince\",\"The Offering\",\"The United States vs. Billie Holiday\",\"Threads\",\"Unlawful Entry\",\"Violent Delights\",\"All Is Lost\",\"Amateur Porn Star Killer 2\",\"Badlands\",\"I'm in Love With My Little Sister\",\"The Little Prince\",\"The Offering\",\"The United States vs. Billie Holiday\",\"Threads\",\"Unlawful Entry\",\"Violent Delights\",\"All Is Lost\",\"Amateur Porn Star Killer 2\",\"Badlands\",\"I'm in Love With My Little Sister\",\"The Little Prince\",\"The Offering\",\"The United States vs. Billie Holiday\",\"Threads\",\"Unlawful Entry\",\"Violent Delights\",\"All Is Lost\",\"Amateur Porn Star Killer 2\",\"Badlands\",\"I'm in Love With My Little Sister\",\"The Little Prince\",\"The Offering\",\"The United States vs. Billie Holiday\",\"Threads\",\"Unlawful Entry\",\"Violent Delights\",\"All Is Lost\",\"Amateur Porn Star Killer 2\",\"Badlands\",\"I'm in Love With My Little Sister\",\"The Little Prince\",\"The Offering\",\"The United States vs. Billie Holiday\",\"Threads\",\"Unlawful Entry\",\"Violent Delights\",\"All Is Lost\",\"Amateur Porn Star Killer 2\",\"Badlands\",\"I'm in Love With My Little Sister\",\"The Little Prince\",\"The Offering\",\"The United States vs. Billie Holiday\",\"Threads\",\"Unlawful Entry\",\"Violent Delights\",\"All Is Lost\",\"Amateur Porn Star Killer 2\",\"Badlands\",\"I'm in Love With My Little Sister\",\"The Little Prince\",\"The Offering\",\"The United States vs. Billie Holiday\",\"Threads\",\"Unlawful Entry\",\"Violent Delights\",\"\",\"\",\"\",\"\",\"\",\"\",\"\",\"\",\"\",\"\"],\"values\":[null,null,null,null,null,null,null,null,null,null,null,null,null,null,null,null,null,null,null,null,null,null,null,null,null,null,null,null,null,null,null,null,null,null,null,null,null,null,null,null,null,null,null,null,null,null,null,null,null,null,null,null,null,null,null,null,null,null,null,null,null,null,null,null,null,null,null,null,null,null,null,null,null,null,null,null,null,null,null,null,13.359000000000002,13.359000000000002,13.357000000000001,null,13.357000000000001,13.355,13.354000000000001,13.354000000000001,13.357999999999999,null,null,null,null,null,null,null,null,null,null,13.356,null,null,null,null,null,null,null,null,null,null,null,null,null,null,null,null,null,null,null,null,null,null,null,null,null,null,null,null,null,null,null,null,null,null,null,null,null,null,null,null,null,null,null,null,null,null,null,null,null,null,null,null,null,null,null,null,null,null,null,null,null,null,null,null,null,null,null,null,null,null,null,null,null,null,null,null,null,null,null,null,null,null,null,null,null,null,null,null,null,null,null,null,null,null,null,null,null,null,null,null,null,null,null,null,null,null,null,null,null,null,null,null,null,13.36,null,null,null,null,null,null,null,null,null,null,null,null,null,null,null,null,null,null,null,null,null,null,null,null,null,null,null,null,null,null,null,null,null,null,null,null,null,null,null,null,null,null,null,null,null,null,null,null,null,null,null,null,null,null,null,null,null,null,null,null,null,null,null,null,null,null,null,null,null,null,null,null,null,null,null,null,null,null,null,null,null,null,null,null,null,null,null,null,null,null,null,null,null,null,null,null,null,null,null,null,null,null,null,null,null,null,null,null,null,null,null,null,null,null,null,null,null,null,null,null,null,null,null,null,null,null,null,null,null,null,null,null,null,null,null,null,null,null,null,null,null,null,null,null,null,null,null,null,null,null,null,null,null,null,null,null,null,null,null,null,null,null,null,null,null,null,null,null,null,null,null,null,null,null,null,null,null,null,null,null,null,null,null,null,null,null,null,null,null,null,null,null,null,null,null,null,null,null,null,null,null,null,null,null,null,null,null,null,null,null,null,null,null,null,null,null,13.359000000000002,13.359000000000002,13.357000000000001,13.36,13.357000000000001,13.355,13.354000000000001,13.354000000000001,13.357999999999999,13.356],\"type\":\"sunburst\"}],                        {\"template\":{\"data\":{\"bar\":[{\"error_x\":{\"color\":\"#2a3f5f\"},\"error_y\":{\"color\":\"#2a3f5f\"},\"marker\":{\"line\":{\"color\":\"#E5ECF6\",\"width\":0.5},\"pattern\":{\"fillmode\":\"overlay\",\"size\":10,\"solidity\":0.2}},\"type\":\"bar\"}],\"barpolar\":[{\"marker\":{\"line\":{\"color\":\"#E5ECF6\",\"width\":0.5},\"pattern\":{\"fillmode\":\"overlay\",\"size\":10,\"solidity\":0.2}},\"type\":\"barpolar\"}],\"carpet\":[{\"aaxis\":{\"endlinecolor\":\"#2a3f5f\",\"gridcolor\":\"white\",\"linecolor\":\"white\",\"minorgridcolor\":\"white\",\"startlinecolor\":\"#2a3f5f\"},\"baxis\":{\"endlinecolor\":\"#2a3f5f\",\"gridcolor\":\"white\",\"linecolor\":\"white\",\"minorgridcolor\":\"white\",\"startlinecolor\":\"#2a3f5f\"},\"type\":\"carpet\"}],\"choropleth\":[{\"colorbar\":{\"outlinewidth\":0,\"ticks\":\"\"},\"type\":\"choropleth\"}],\"contour\":[{\"colorbar\":{\"outlinewidth\":0,\"ticks\":\"\"},\"colorscale\":[[0.0,\"#0d0887\"],[0.1111111111111111,\"#46039f\"],[0.2222222222222222,\"#7201a8\"],[0.3333333333333333,\"#9c179e\"],[0.4444444444444444,\"#bd3786\"],[0.5555555555555556,\"#d8576b\"],[0.6666666666666666,\"#ed7953\"],[0.7777777777777778,\"#fb9f3a\"],[0.8888888888888888,\"#fdca26\"],[1.0,\"#f0f921\"]],\"type\":\"contour\"}],\"contourcarpet\":[{\"colorbar\":{\"outlinewidth\":0,\"ticks\":\"\"},\"type\":\"contourcarpet\"}],\"heatmap\":[{\"colorbar\":{\"outlinewidth\":0,\"ticks\":\"\"},\"colorscale\":[[0.0,\"#0d0887\"],[0.1111111111111111,\"#46039f\"],[0.2222222222222222,\"#7201a8\"],[0.3333333333333333,\"#9c179e\"],[0.4444444444444444,\"#bd3786\"],[0.5555555555555556,\"#d8576b\"],[0.6666666666666666,\"#ed7953\"],[0.7777777777777778,\"#fb9f3a\"],[0.8888888888888888,\"#fdca26\"],[1.0,\"#f0f921\"]],\"type\":\"heatmap\"}],\"heatmapgl\":[{\"colorbar\":{\"outlinewidth\":0,\"ticks\":\"\"},\"colorscale\":[[0.0,\"#0d0887\"],[0.1111111111111111,\"#46039f\"],[0.2222222222222222,\"#7201a8\"],[0.3333333333333333,\"#9c179e\"],[0.4444444444444444,\"#bd3786\"],[0.5555555555555556,\"#d8576b\"],[0.6666666666666666,\"#ed7953\"],[0.7777777777777778,\"#fb9f3a\"],[0.8888888888888888,\"#fdca26\"],[1.0,\"#f0f921\"]],\"type\":\"heatmapgl\"}],\"histogram\":[{\"marker\":{\"pattern\":{\"fillmode\":\"overlay\",\"size\":10,\"solidity\":0.2}},\"type\":\"histogram\"}],\"histogram2d\":[{\"colorbar\":{\"outlinewidth\":0,\"ticks\":\"\"},\"colorscale\":[[0.0,\"#0d0887\"],[0.1111111111111111,\"#46039f\"],[0.2222222222222222,\"#7201a8\"],[0.3333333333333333,\"#9c179e\"],[0.4444444444444444,\"#bd3786\"],[0.5555555555555556,\"#d8576b\"],[0.6666666666666666,\"#ed7953\"],[0.7777777777777778,\"#fb9f3a\"],[0.8888888888888888,\"#fdca26\"],[1.0,\"#f0f921\"]],\"type\":\"histogram2d\"}],\"histogram2dcontour\":[{\"colorbar\":{\"outlinewidth\":0,\"ticks\":\"\"},\"colorscale\":[[0.0,\"#0d0887\"],[0.1111111111111111,\"#46039f\"],[0.2222222222222222,\"#7201a8\"],[0.3333333333333333,\"#9c179e\"],[0.4444444444444444,\"#bd3786\"],[0.5555555555555556,\"#d8576b\"],[0.6666666666666666,\"#ed7953\"],[0.7777777777777778,\"#fb9f3a\"],[0.8888888888888888,\"#fdca26\"],[1.0,\"#f0f921\"]],\"type\":\"histogram2dcontour\"}],\"mesh3d\":[{\"colorbar\":{\"outlinewidth\":0,\"ticks\":\"\"},\"type\":\"mesh3d\"}],\"parcoords\":[{\"line\":{\"colorbar\":{\"outlinewidth\":0,\"ticks\":\"\"}},\"type\":\"parcoords\"}],\"pie\":[{\"automargin\":true,\"type\":\"pie\"}],\"scatter\":[{\"marker\":{\"colorbar\":{\"outlinewidth\":0,\"ticks\":\"\"}},\"type\":\"scatter\"}],\"scatter3d\":[{\"line\":{\"colorbar\":{\"outlinewidth\":0,\"ticks\":\"\"}},\"marker\":{\"colorbar\":{\"outlinewidth\":0,\"ticks\":\"\"}},\"type\":\"scatter3d\"}],\"scattercarpet\":[{\"marker\":{\"colorbar\":{\"outlinewidth\":0,\"ticks\":\"\"}},\"type\":\"scattercarpet\"}],\"scattergeo\":[{\"marker\":{\"colorbar\":{\"outlinewidth\":0,\"ticks\":\"\"}},\"type\":\"scattergeo\"}],\"scattergl\":[{\"marker\":{\"colorbar\":{\"outlinewidth\":0,\"ticks\":\"\"}},\"type\":\"scattergl\"}],\"scattermapbox\":[{\"marker\":{\"colorbar\":{\"outlinewidth\":0,\"ticks\":\"\"}},\"type\":\"scattermapbox\"}],\"scatterpolar\":[{\"marker\":{\"colorbar\":{\"outlinewidth\":0,\"ticks\":\"\"}},\"type\":\"scatterpolar\"}],\"scatterpolargl\":[{\"marker\":{\"colorbar\":{\"outlinewidth\":0,\"ticks\":\"\"}},\"type\":\"scatterpolargl\"}],\"scatterternary\":[{\"marker\":{\"colorbar\":{\"outlinewidth\":0,\"ticks\":\"\"}},\"type\":\"scatterternary\"}],\"surface\":[{\"colorbar\":{\"outlinewidth\":0,\"ticks\":\"\"},\"colorscale\":[[0.0,\"#0d0887\"],[0.1111111111111111,\"#46039f\"],[0.2222222222222222,\"#7201a8\"],[0.3333333333333333,\"#9c179e\"],[0.4444444444444444,\"#bd3786\"],[0.5555555555555556,\"#d8576b\"],[0.6666666666666666,\"#ed7953\"],[0.7777777777777778,\"#fb9f3a\"],[0.8888888888888888,\"#fdca26\"],[1.0,\"#f0f921\"]],\"type\":\"surface\"}],\"table\":[{\"cells\":{\"fill\":{\"color\":\"#EBF0F8\"},\"line\":{\"color\":\"white\"}},\"header\":{\"fill\":{\"color\":\"#C8D4E3\"},\"line\":{\"color\":\"white\"}},\"type\":\"table\"}]},\"layout\":{\"annotationdefaults\":{\"arrowcolor\":\"#2a3f5f\",\"arrowhead\":0,\"arrowwidth\":1},\"autotypenumbers\":\"strict\",\"coloraxis\":{\"colorbar\":{\"outlinewidth\":0,\"ticks\":\"\"}},\"colorscale\":{\"diverging\":[[0,\"#8e0152\"],[0.1,\"#c51b7d\"],[0.2,\"#de77ae\"],[0.3,\"#f1b6da\"],[0.4,\"#fde0ef\"],[0.5,\"#f7f7f7\"],[0.6,\"#e6f5d0\"],[0.7,\"#b8e186\"],[0.8,\"#7fbc41\"],[0.9,\"#4d9221\"],[1,\"#276419\"]],\"sequential\":[[0.0,\"#0d0887\"],[0.1111111111111111,\"#46039f\"],[0.2222222222222222,\"#7201a8\"],[0.3333333333333333,\"#9c179e\"],[0.4444444444444444,\"#bd3786\"],[0.5555555555555556,\"#d8576b\"],[0.6666666666666666,\"#ed7953\"],[0.7777777777777778,\"#fb9f3a\"],[0.8888888888888888,\"#fdca26\"],[1.0,\"#f0f921\"]],\"sequentialminus\":[[0.0,\"#0d0887\"],[0.1111111111111111,\"#46039f\"],[0.2222222222222222,\"#7201a8\"],[0.3333333333333333,\"#9c179e\"],[0.4444444444444444,\"#bd3786\"],[0.5555555555555556,\"#d8576b\"],[0.6666666666666666,\"#ed7953\"],[0.7777777777777778,\"#fb9f3a\"],[0.8888888888888888,\"#fdca26\"],[1.0,\"#f0f921\"]]},\"colorway\":[\"#636efa\",\"#EF553B\",\"#00cc96\",\"#ab63fa\",\"#FFA15A\",\"#19d3f3\",\"#FF6692\",\"#B6E880\",\"#FF97FF\",\"#FECB52\"],\"font\":{\"color\":\"#2a3f5f\"},\"geo\":{\"bgcolor\":\"white\",\"lakecolor\":\"white\",\"landcolor\":\"#E5ECF6\",\"showlakes\":true,\"showland\":true,\"subunitcolor\":\"white\"},\"hoverlabel\":{\"align\":\"left\"},\"hovermode\":\"closest\",\"mapbox\":{\"style\":\"light\"},\"paper_bgcolor\":\"white\",\"plot_bgcolor\":\"#E5ECF6\",\"polar\":{\"angularaxis\":{\"gridcolor\":\"white\",\"linecolor\":\"white\",\"ticks\":\"\"},\"bgcolor\":\"#E5ECF6\",\"radialaxis\":{\"gridcolor\":\"white\",\"linecolor\":\"white\",\"ticks\":\"\"}},\"scene\":{\"xaxis\":{\"backgroundcolor\":\"#E5ECF6\",\"gridcolor\":\"white\",\"gridwidth\":2,\"linecolor\":\"white\",\"showbackground\":true,\"ticks\":\"\",\"zerolinecolor\":\"white\"},\"yaxis\":{\"backgroundcolor\":\"#E5ECF6\",\"gridcolor\":\"white\",\"gridwidth\":2,\"linecolor\":\"white\",\"showbackground\":true,\"ticks\":\"\",\"zerolinecolor\":\"white\"},\"zaxis\":{\"backgroundcolor\":\"#E5ECF6\",\"gridcolor\":\"white\",\"gridwidth\":2,\"linecolor\":\"white\",\"showbackground\":true,\"ticks\":\"\",\"zerolinecolor\":\"white\"}},\"shapedefaults\":{\"line\":{\"color\":\"#2a3f5f\"}},\"ternary\":{\"aaxis\":{\"gridcolor\":\"white\",\"linecolor\":\"white\",\"ticks\":\"\"},\"baxis\":{\"gridcolor\":\"white\",\"linecolor\":\"white\",\"ticks\":\"\"},\"bgcolor\":\"#E5ECF6\",\"caxis\":{\"gridcolor\":\"white\",\"linecolor\":\"white\",\"ticks\":\"\"}},\"title\":{\"x\":0.05},\"xaxis\":{\"automargin\":true,\"gridcolor\":\"white\",\"linecolor\":\"white\",\"ticks\":\"\",\"title\":{\"standoff\":15},\"zerolinecolor\":\"white\",\"zerolinewidth\":2},\"yaxis\":{\"automargin\":true,\"gridcolor\":\"white\",\"linecolor\":\"white\",\"ticks\":\"\",\"title\":{\"standoff\":15},\"zerolinecolor\":\"white\",\"zerolinewidth\":2}}},\"coloraxis\":{\"colorbar\":{\"title\":{\"text\":\"Popularity\"}},\"colorscale\":[[0.0,\"#0d0887\"],[0.1111111111111111,\"#46039f\"],[0.2222222222222222,\"#7201a8\"],[0.3333333333333333,\"#9c179e\"],[0.4444444444444444,\"#bd3786\"],[0.5555555555555556,\"#d8576b\"],[0.6666666666666666,\"#ed7953\"],[0.7777777777777778,\"#fb9f3a\"],[0.8888888888888888,\"#fdca26\"],[1.0,\"#f0f921\"]]},\"legend\":{\"tracegroupgap\":0},\"margin\":{\"t\":60}},                        {\"responsive\": true}                    ).then(function(){\n",
       "                            \n",
       "var gd = document.getElementById('d2e99183-8ab5-4cf6-8e52-4a6a5cdb577a');\n",
       "var x = new MutationObserver(function (mutations, observer) {{\n",
       "        var display = window.getComputedStyle(gd).display;\n",
       "        if (!display || display === 'none') {{\n",
       "            console.log([gd, 'removed!']);\n",
       "            Plotly.purge(gd);\n",
       "            observer.disconnect();\n",
       "        }}\n",
       "}});\n",
       "\n",
       "// Listen for the removal of the full notebook cells\n",
       "var notebookContainer = gd.closest('#notebook-container');\n",
       "if (notebookContainer) {{\n",
       "    x.observe(notebookContainer, {childList: true});\n",
       "}}\n",
       "\n",
       "// Listen for the clearing of the current output cell\n",
       "var outputEl = gd.closest('.output');\n",
       "if (outputEl) {{\n",
       "    x.observe(outputEl, {childList: true});\n",
       "}}\n",
       "\n",
       "                        })                };                });            </script>        </div>"
      ]
     },
     "metadata": {},
     "output_type": "display_data"
    }
   ],
   "source": [
    "dff=df.sort_values(\"Popularity\")\n",
    "top_rated=dff[0:10]\n",
    "fig =px.sunburst(\n",
    "    top_rated,\n",
    "    path=['Title','Original_Language'],\n",
    "    values='Popularity',\n",
    "    color='Popularity')\n",
    "fig.show()"
   ]
  },
  {
   "cell_type": "markdown",
   "metadata": {},
   "source": [
    "### English 'Original_Language' releases the most movies"
   ]
  },
  {
   "cell_type": "markdown",
   "metadata": {},
   "source": [
    "# What is the name of the most popular movie for each language?"
   ]
  },
  {
   "cell_type": "code",
   "execution_count": 36,
   "metadata": {},
   "outputs": [
    {
     "name": "stderr",
     "output_type": "stream",
     "text": [
      "<ipython-input-36-5cf2700602b1>:1: FutureWarning: Indexing with multiple keys (implicitly converted to a tuple of keys) will be deprecated, use a list instead.\n",
      "  df_max=df.groupby('Original_Language')['Popularity','Title'].max().reset_index().sort_values(by='Popularity',ascending=False)\n"
     ]
    },
    {
     "data": {
      "text/plain": [
       "([0, 1, 2, 3, 4, 5, 6, 7, 8, 9], <a list of 10 Text major ticklabel objects>)"
      ]
     },
     "execution_count": 36,
     "metadata": {},
     "output_type": "execute_result"
    },
    {
     "data": {
      "image/png": "[encoded data removed]",
      "text/plain": [
       "<Figure size 1212.73x360 with 1 Axes>"
      ]
     },
     "metadata": {},
     "output_type": "display_data"
    }
   ],
   "source": [
    "df_max=df.groupby('Original_Language')['Popularity','Title'].max().reset_index().sort_values(by='Popularity',ascending=False)\n",
    "sns.relplot(x =\"Title\", y =\"Popularity\",hue='Original_Language',data=df_max.head(10),kind='scatter',height=5,aspect=3)\n",
    "plt.xticks(rotation=90)"
   ]
  },
  {
   "cell_type": "markdown",
   "metadata": {},
   "source": [
    "###  the name of the most popular movie for each language"
   ]
  },
  {
   "cell_type": "code",
   "execution_count": 37,
   "metadata": {},
   "outputs": [
    {
     "data": {
      "text/plain": [
       "Alice in Wonderland     4\n",
       "Beauty and the Beast    4\n",
       "Inferno                 3\n",
       "Black Christmas         3\n",
       "Godzilla                3\n",
       "                       ..\n",
       "Attack on Titan         1\n",
       "Next Gen                1\n",
       "The Glimmer Man         1\n",
       "The Call of Sex         1\n",
       "Runaway Train           1\n",
       "Name: Title, Length: 9512, dtype: int64"
      ]
     },
     "execution_count": 37,
     "metadata": {},
     "output_type": "execute_result"
    }
   ],
   "source": [
    "df['Title'].value_counts()#why first Release was for Beauty and the Beast 1945 and second 1991 ? war ?"
   ]
  },
  {
   "cell_type": "code",
   "execution_count": 38,
   "metadata": {},
   "outputs": [
    {
     "data": {
      "text/html": [
       "<div>\n",
       "<style scoped>\n",
       "    .dataframe tbody tr th:only-of-type {\n",
       "        vertical-align: middle;\n",
       "    }\n",
       "\n",
       "    .dataframe tbody tr th {\n",
       "        vertical-align: top;\n",
       "    }\n",
       "\n",
       "    .dataframe thead th {\n",
       "        text-align: right;\n",
       "    }\n",
       "</style>\n",
       "<table border=\"1\" class=\"dataframe\">\n",
       "  <thead>\n",
       "    <tr style=\"text-align: right;\">\n",
       "      <th></th>\n",
       "      <th>Release_Date</th>\n",
       "      <th>Title</th>\n",
       "      <th>Overview</th>\n",
       "      <th>Popularity</th>\n",
       "      <th>Vote_Count</th>\n",
       "      <th>Vote_Average</th>\n",
       "      <th>Original_Language</th>\n",
       "      <th>Genre</th>\n",
       "      <th>Poster_Url</th>\n",
       "    </tr>\n",
       "  </thead>\n",
       "  <tbody>\n",
       "    <tr>\n",
       "      <th>0</th>\n",
       "      <td>2021-12-15</td>\n",
       "      <td>Spider-Man: No Way Home</td>\n",
       "      <td>Peter Parker is unmasked and no longer able to...</td>\n",
       "      <td>5083.954</td>\n",
       "      <td>8940</td>\n",
       "      <td>8.3</td>\n",
       "      <td>en</td>\n",
       "      <td>Action, Adventure, Science Fiction</td>\n",
       "      <td>https://image.tmdb.org/t/p/original/1g0dhYtq4i...</td>\n",
       "    </tr>\n",
       "    <tr>\n",
       "      <th>1</th>\n",
       "      <td>2022-03-01</td>\n",
       "      <td>The Batman</td>\n",
       "      <td>In his second year of fighting crime, Batman u...</td>\n",
       "      <td>3827.658</td>\n",
       "      <td>1151</td>\n",
       "      <td>8.1</td>\n",
       "      <td>en</td>\n",
       "      <td>Crime, Mystery, Thriller</td>\n",
       "      <td>https://image.tmdb.org/t/p/original/74xTEgt7R3...</td>\n",
       "    </tr>\n",
       "    <tr>\n",
       "      <th>2</th>\n",
       "      <td>2022-02-25</td>\n",
       "      <td>No Exit</td>\n",
       "      <td>Stranded at a rest stop in the mountains durin...</td>\n",
       "      <td>2618.087</td>\n",
       "      <td>122</td>\n",
       "      <td>6.3</td>\n",
       "      <td>en</td>\n",
       "      <td>Thriller</td>\n",
       "      <td>https://image.tmdb.org/t/p/original/vDHsLnOWKl...</td>\n",
       "    </tr>\n",
       "    <tr>\n",
       "      <th>3</th>\n",
       "      <td>2021-11-24</td>\n",
       "      <td>Encanto</td>\n",
       "      <td>The tale of an extraordinary family, the Madri...</td>\n",
       "      <td>2402.201</td>\n",
       "      <td>5076</td>\n",
       "      <td>7.7</td>\n",
       "      <td>en</td>\n",
       "      <td>Animation, Comedy, Family, Fantasy</td>\n",
       "      <td>https://image.tmdb.org/t/p/original/4j0PNHkMr5...</td>\n",
       "    </tr>\n",
       "    <tr>\n",
       "      <th>4</th>\n",
       "      <td>2021-12-22</td>\n",
       "      <td>The King's Man</td>\n",
       "      <td>As a collection of history's worst tyrants and...</td>\n",
       "      <td>1895.511</td>\n",
       "      <td>1793</td>\n",
       "      <td>7.0</td>\n",
       "      <td>en</td>\n",
       "      <td>Action, Adventure, Thriller, War</td>\n",
       "      <td>https://image.tmdb.org/t/p/original/aq4Pwv5Xeu...</td>\n",
       "    </tr>\n",
       "    <tr>\n",
       "      <th>...</th>\n",
       "      <td>...</td>\n",
       "      <td>...</td>\n",
       "      <td>...</td>\n",
       "      <td>...</td>\n",
       "      <td>...</td>\n",
       "      <td>...</td>\n",
       "      <td>...</td>\n",
       "      <td>...</td>\n",
       "      <td>...</td>\n",
       "    </tr>\n",
       "    <tr>\n",
       "      <th>9832</th>\n",
       "      <td>1973-10-15</td>\n",
       "      <td>Badlands</td>\n",
       "      <td>A dramatization of the Starkweather-Fugate kil...</td>\n",
       "      <td>13.357</td>\n",
       "      <td>896</td>\n",
       "      <td>7.6</td>\n",
       "      <td>en</td>\n",
       "      <td>Drama, Crime</td>\n",
       "      <td>https://image.tmdb.org/t/p/original/z81rBzHNgi...</td>\n",
       "    </tr>\n",
       "    <tr>\n",
       "      <th>9833</th>\n",
       "      <td>2020-10-01</td>\n",
       "      <td>Violent Delights</td>\n",
       "      <td>A female vampire falls in love with a man she ...</td>\n",
       "      <td>13.356</td>\n",
       "      <td>8</td>\n",
       "      <td>3.5</td>\n",
       "      <td>es</td>\n",
       "      <td>Horror</td>\n",
       "      <td>https://image.tmdb.org/t/p/original/4b6HY7rud6...</td>\n",
       "    </tr>\n",
       "    <tr>\n",
       "      <th>9834</th>\n",
       "      <td>2016-05-06</td>\n",
       "      <td>The Offering</td>\n",
       "      <td>When young and successful reporter Jamie finds...</td>\n",
       "      <td>13.355</td>\n",
       "      <td>94</td>\n",
       "      <td>5.0</td>\n",
       "      <td>en</td>\n",
       "      <td>Mystery, Thriller, Horror</td>\n",
       "      <td>https://image.tmdb.org/t/p/original/h4uMM1wOhz...</td>\n",
       "    </tr>\n",
       "    <tr>\n",
       "      <th>9835</th>\n",
       "      <td>2021-03-31</td>\n",
       "      <td>The United States vs. Billie Holiday</td>\n",
       "      <td>Billie Holiday spent much of her career being ...</td>\n",
       "      <td>13.354</td>\n",
       "      <td>152</td>\n",
       "      <td>6.7</td>\n",
       "      <td>en</td>\n",
       "      <td>Music, Drama, History</td>\n",
       "      <td>https://image.tmdb.org/t/p/original/vEzkxuE2sJ...</td>\n",
       "    </tr>\n",
       "    <tr>\n",
       "      <th>9836</th>\n",
       "      <td>1984-09-23</td>\n",
       "      <td>Threads</td>\n",
       "      <td>Documentary style account of a nuclear holocau...</td>\n",
       "      <td>13.354</td>\n",
       "      <td>186</td>\n",
       "      <td>7.8</td>\n",
       "      <td>en</td>\n",
       "      <td>War, Drama, Science Fiction</td>\n",
       "      <td>https://image.tmdb.org/t/p/original/lBhU4U9Eeh...</td>\n",
       "    </tr>\n",
       "  </tbody>\n",
       "</table>\n",
       "<p>9826 rows × 9 columns</p>\n",
       "</div>"
      ],
      "text/plain": [
       "     Release_Date                                 Title  \\\n",
       "0      2021-12-15               Spider-Man: No Way Home   \n",
       "1      2022-03-01                            The Batman   \n",
       "2      2022-02-25                               No Exit   \n",
       "3      2021-11-24                               Encanto   \n",
       "4      2021-12-22                        The King's Man   \n",
       "...           ...                                   ...   \n",
       "9832   1973-10-15                              Badlands   \n",
       "9833   2020-10-01                      Violent Delights   \n",
       "9834   2016-05-06                          The Offering   \n",
       "9835   2021-03-31  The United States vs. Billie Holiday   \n",
       "9836   1984-09-23                               Threads   \n",
       "\n",
       "                                               Overview  Popularity  \\\n",
       "0     Peter Parker is unmasked and no longer able to...    5083.954   \n",
       "1     In his second year of fighting crime, Batman u...    3827.658   \n",
       "2     Stranded at a rest stop in the mountains durin...    2618.087   \n",
       "3     The tale of an extraordinary family, the Madri...    2402.201   \n",
       "4     As a collection of history's worst tyrants and...    1895.511   \n",
       "...                                                 ...         ...   \n",
       "9832  A dramatization of the Starkweather-Fugate kil...      13.357   \n",
       "9833  A female vampire falls in love with a man she ...      13.356   \n",
       "9834  When young and successful reporter Jamie finds...      13.355   \n",
       "9835  Billie Holiday spent much of her career being ...      13.354   \n",
       "9836  Documentary style account of a nuclear holocau...      13.354   \n",
       "\n",
       "      Vote_Count  Vote_Average Original_Language  \\\n",
       "0           8940           8.3                en   \n",
       "1           1151           8.1                en   \n",
       "2            122           6.3                en   \n",
       "3           5076           7.7                en   \n",
       "4           1793           7.0                en   \n",
       "...          ...           ...               ...   \n",
       "9832         896           7.6                en   \n",
       "9833           8           3.5                es   \n",
       "9834          94           5.0                en   \n",
       "9835         152           6.7                en   \n",
       "9836         186           7.8                en   \n",
       "\n",
       "                                   Genre  \\\n",
       "0     Action, Adventure, Science Fiction   \n",
       "1               Crime, Mystery, Thriller   \n",
       "2                               Thriller   \n",
       "3     Animation, Comedy, Family, Fantasy   \n",
       "4       Action, Adventure, Thriller, War   \n",
       "...                                  ...   \n",
       "9832                        Drama, Crime   \n",
       "9833                              Horror   \n",
       "9834           Mystery, Thriller, Horror   \n",
       "9835               Music, Drama, History   \n",
       "9836         War, Drama, Science Fiction   \n",
       "\n",
       "                                             Poster_Url  \n",
       "0     https://image.tmdb.org/t/p/original/1g0dhYtq4i...  \n",
       "1     https://image.tmdb.org/t/p/original/74xTEgt7R3...  \n",
       "2     https://image.tmdb.org/t/p/original/vDHsLnOWKl...  \n",
       "3     https://image.tmdb.org/t/p/original/4j0PNHkMr5...  \n",
       "4     https://image.tmdb.org/t/p/original/aq4Pwv5Xeu...  \n",
       "...                                                 ...  \n",
       "9832  https://image.tmdb.org/t/p/original/z81rBzHNgi...  \n",
       "9833  https://image.tmdb.org/t/p/original/4b6HY7rud6...  \n",
       "9834  https://image.tmdb.org/t/p/original/h4uMM1wOhz...  \n",
       "9835  https://image.tmdb.org/t/p/original/vEzkxuE2sJ...  \n",
       "9836  https://image.tmdb.org/t/p/original/lBhU4U9Eeh...  \n",
       "\n",
       "[9826 rows x 9 columns]"
      ]
     },
     "execution_count": 38,
     "metadata": {},
     "output_type": "execute_result"
    }
   ],
   "source": [
    "df"
   ]
  },
  {
   "cell_type": "code",
   "execution_count": 39,
   "metadata": {
    "scrolled": true
   },
   "outputs": [
    {
     "data": {
      "text/plain": [
       "Text(0, 0.5, 'Count')"
      ]
     },
     "execution_count": 39,
     "metadata": {},
     "output_type": "execute_result"
    },
    {
     "data": {
      "image/png": "[encoded data removed]",
      "text/plain": [
       "<Figure size 1080x720 with 1 Axes>"
      ]
     },
     "metadata": {},
     "output_type": "display_data"
    }
   ],
   "source": [
    "df_month=df['Release_Date'].dt.month.value_counts()[:10]\n",
    "df_month.plot(kind='bar',figsize=(15,10))\n",
    "plt.xlabel('month')\n",
    "plt.ylabel('Count')\n",
    "#The month of 10 is the most released"
   ]
  },
  {
   "cell_type": "markdown",
   "metadata": {},
   "source": [
    "### The month of 10 is the most released"
   ]
  },
  {
   "cell_type": "code",
   "execution_count": 44,
   "metadata": {},
   "outputs": [
    {
     "data": {
      "text/plain": [
       "<matplotlib.axes._subplots.AxesSubplot at 0x1f55d1d7190>"
      ]
     },
     "execution_count": 44,
     "metadata": {},
     "output_type": "execute_result"
    },
    {
     "data": {
      "image/png": "[encoded data removed]",
      "text/plain": [
       "<Figure size 864x720 with 2 Axes>"
      ]
     },
     "metadata": {},
     "output_type": "display_data"
    }
   ],
   "source": [
    "plt.figure(figsize=(12,10))\n",
    "cor = df.corr()                       #display co-relation between all featuers\n",
    "sns.heatmap(cor,annot=True)"
   ]
  },
  {
   "cell_type": "code",
   "execution_count": 41,
   "metadata": {},
   "outputs": [
    {
     "data": {
      "text/plain": [
       "<seaborn.axisgrid.PairGrid at 0x1f55d54c9d0>"
      ]
     },
     "execution_count": 41,
     "metadata": {},
     "output_type": "execute_result"
    },
    {
     "data": {
      "image/png": "[encoded data removed]",
      "text/plain": [
       "<Figure size 540x540 with 12 Axes>"
      ]
     },
     "metadata": {},
     "output_type": "display_data"
    }
   ],
   "source": [
    "sns.pairplot(df)"
   ]
  },
  {
   "cell_type": "markdown",
   "metadata": {},
   "source": [
    "# Summary from above two function\n",
    "## from above function we have little relation between vote_count and vote_avg and popularity with vot_count"
   ]
  },
  {
   "cell_type": "code",
   "execution_count": 49,
   "metadata": {},
   "outputs": [
    {
     "data": {
      "text/html": [
       "<div>\n",
       "<style scoped>\n",
       "    .dataframe tbody tr th:only-of-type {\n",
       "        vertical-align: middle;\n",
       "    }\n",
       "\n",
       "    .dataframe tbody tr th {\n",
       "        vertical-align: top;\n",
       "    }\n",
       "\n",
       "    .dataframe thead th {\n",
       "        text-align: right;\n",
       "    }\n",
       "</style>\n",
       "<table border=\"1\" class=\"dataframe\">\n",
       "  <thead>\n",
       "    <tr style=\"text-align: right;\">\n",
       "      <th></th>\n",
       "      <th>Release_Date</th>\n",
       "      <th>Title</th>\n",
       "      <th>Overview</th>\n",
       "      <th>Popularity</th>\n",
       "      <th>Vote_Count</th>\n",
       "      <th>Vote_Average</th>\n",
       "      <th>Original_Language</th>\n",
       "      <th>Genre</th>\n",
       "      <th>Poster_Url</th>\n",
       "    </tr>\n",
       "  </thead>\n",
       "  <tbody>\n",
       "    <tr>\n",
       "      <th>6094</th>\n",
       "      <td>1902-04-17</td>\n",
       "      <td>A Trip to the Moon</td>\n",
       "      <td>Professor Barbenfouillis and five of his colle...</td>\n",
       "      <td>18.356</td>\n",
       "      <td>1284</td>\n",
       "      <td>8.0</td>\n",
       "      <td>fr</td>\n",
       "      <td>Adventure, Fantasy, Science Fiction</td>\n",
       "      <td>https://image.tmdb.org/t/p/original/9o0v5LLFk5...</td>\n",
       "    </tr>\n",
       "    <tr>\n",
       "      <th>6346</th>\n",
       "      <td>1920-02-27</td>\n",
       "      <td>The Cabinet of Dr. Caligari</td>\n",
       "      <td>Francis, a young man, recalls in his memory th...</td>\n",
       "      <td>17.858</td>\n",
       "      <td>1075</td>\n",
       "      <td>8.0</td>\n",
       "      <td>de</td>\n",
       "      <td>Drama, Horror, Thriller, Crime</td>\n",
       "      <td>https://image.tmdb.org/t/p/original/myK9DeIsXW...</td>\n",
       "    </tr>\n",
       "    <tr>\n",
       "      <th>7913</th>\n",
       "      <td>1921-01-01</td>\n",
       "      <td>The Phantom Carriage</td>\n",
       "      <td>It's New Year's Eve. Three drunkards evoke a l...</td>\n",
       "      <td>15.371</td>\n",
       "      <td>213</td>\n",
       "      <td>7.9</td>\n",
       "      <td>sv</td>\n",
       "      <td>Drama, Fantasy, Horror</td>\n",
       "      <td>https://image.tmdb.org/t/p/original/yGNekNFaI4...</td>\n",
       "    </tr>\n",
       "    <tr>\n",
       "      <th>8799</th>\n",
       "      <td>1921-01-21</td>\n",
       "      <td>The Kid</td>\n",
       "      <td>A tramp cares for a boy after he's abandoned a...</td>\n",
       "      <td>14.338</td>\n",
       "      <td>1528</td>\n",
       "      <td>8.2</td>\n",
       "      <td>en</td>\n",
       "      <td>Comedy, Drama</td>\n",
       "      <td>https://image.tmdb.org/t/p/original/drgMcyTsyS...</td>\n",
       "    </tr>\n",
       "    <tr>\n",
       "      <th>3229</th>\n",
       "      <td>1922-02-16</td>\n",
       "      <td>Nosferatu</td>\n",
       "      <td>Vampire Count Orlok is interested in a new res...</td>\n",
       "      <td>28.638</td>\n",
       "      <td>1406</td>\n",
       "      <td>7.7</td>\n",
       "      <td>de</td>\n",
       "      <td>Fantasy, Horror</td>\n",
       "      <td>https://image.tmdb.org/t/p/original/zx24O7VAs6...</td>\n",
       "    </tr>\n",
       "    <tr>\n",
       "      <th>8072</th>\n",
       "      <td>1922-09-18</td>\n",
       "      <td>HÃ¤xan</td>\n",
       "      <td>Grave robbing, torture, possessed nuns, and a ...</td>\n",
       "      <td>15.164</td>\n",
       "      <td>241</td>\n",
       "      <td>7.6</td>\n",
       "      <td>sv</td>\n",
       "      <td>Documentary, Horror, History</td>\n",
       "      <td>https://image.tmdb.org/t/p/original/As8MXPHo1z...</td>\n",
       "    </tr>\n",
       "    <tr>\n",
       "      <th>5944</th>\n",
       "      <td>1925-12-24</td>\n",
       "      <td>Battleship Potemkin</td>\n",
       "      <td>A dramatized account of a great Russian naval ...</td>\n",
       "      <td>18.663</td>\n",
       "      <td>840</td>\n",
       "      <td>7.7</td>\n",
       "      <td>ru</td>\n",
       "      <td>Drama, History</td>\n",
       "      <td>https://image.tmdb.org/t/p/original/tjnaRiHUsx...</td>\n",
       "    </tr>\n",
       "    <tr>\n",
       "      <th>9636</th>\n",
       "      <td>1926-10-13</td>\n",
       "      <td>Faust</td>\n",
       "      <td>God and Satan war over earth; to settle things...</td>\n",
       "      <td>13.514</td>\n",
       "      <td>242</td>\n",
       "      <td>7.9</td>\n",
       "      <td>de</td>\n",
       "      <td>Drama, Fantasy, Horror</td>\n",
       "      <td>https://image.tmdb.org/t/p/original/wyqcaa9Cbj...</td>\n",
       "    </tr>\n",
       "    <tr>\n",
       "      <th>7902</th>\n",
       "      <td>1926-12-25</td>\n",
       "      <td>The General</td>\n",
       "      <td>During Americaâ€™s Civil War, Union spies stea...</td>\n",
       "      <td>15.388</td>\n",
       "      <td>846</td>\n",
       "      <td>8.1</td>\n",
       "      <td>en</td>\n",
       "      <td>Action, Adventure, Comedy, Drama, War</td>\n",
       "      <td>https://image.tmdb.org/t/p/original/dd2cviAare...</td>\n",
       "    </tr>\n",
       "    <tr>\n",
       "      <th>5845</th>\n",
       "      <td>1927-02-06</td>\n",
       "      <td>Metropolis</td>\n",
       "      <td>In a futuristic city sharply divided between t...</td>\n",
       "      <td>18.847</td>\n",
       "      <td>1999</td>\n",
       "      <td>8.2</td>\n",
       "      <td>de</td>\n",
       "      <td>Drama, Science Fiction</td>\n",
       "      <td>https://image.tmdb.org/t/p/original/pxbGZewX32...</td>\n",
       "    </tr>\n",
       "  </tbody>\n",
       "</table>\n",
       "</div>"
      ],
      "text/plain": [
       "     Release_Date                        Title  \\\n",
       "6094   1902-04-17           A Trip to the Moon   \n",
       "6346   1920-02-27  The Cabinet of Dr. Caligari   \n",
       "7913   1921-01-01         The Phantom Carriage   \n",
       "8799   1921-01-21                      The Kid   \n",
       "3229   1922-02-16                    Nosferatu   \n",
       "8072   1922-09-18                       HÃ¤xan   \n",
       "5944   1925-12-24          Battleship Potemkin   \n",
       "9636   1926-10-13                        Faust   \n",
       "7902   1926-12-25                  The General   \n",
       "5845   1927-02-06                   Metropolis   \n",
       "\n",
       "                                               Overview  Popularity  \\\n",
       "6094  Professor Barbenfouillis and five of his colle...      18.356   \n",
       "6346  Francis, a young man, recalls in his memory th...      17.858   \n",
       "7913  It's New Year's Eve. Three drunkards evoke a l...      15.371   \n",
       "8799  A tramp cares for a boy after he's abandoned a...      14.338   \n",
       "3229  Vampire Count Orlok is interested in a new res...      28.638   \n",
       "8072  Grave robbing, torture, possessed nuns, and a ...      15.164   \n",
       "5944  A dramatized account of a great Russian naval ...      18.663   \n",
       "9636  God and Satan war over earth; to settle things...      13.514   \n",
       "7902  During Americaâ€™s Civil War, Union spies stea...      15.388   \n",
       "5845  In a futuristic city sharply divided between t...      18.847   \n",
       "\n",
       "      Vote_Count  Vote_Average Original_Language  \\\n",
       "6094        1284           8.0                fr   \n",
       "6346        1075           8.0                de   \n",
       "7913         213           7.9                sv   \n",
       "8799        1528           8.2                en   \n",
       "3229        1406           7.7                de   \n",
       "8072         241           7.6                sv   \n",
       "5944         840           7.7                ru   \n",
       "9636         242           7.9                de   \n",
       "7902         846           8.1                en   \n",
       "5845        1999           8.2                de   \n",
       "\n",
       "                                      Genre  \\\n",
       "6094    Adventure, Fantasy, Science Fiction   \n",
       "6346         Drama, Horror, Thriller, Crime   \n",
       "7913                 Drama, Fantasy, Horror   \n",
       "8799                          Comedy, Drama   \n",
       "3229                        Fantasy, Horror   \n",
       "8072           Documentary, Horror, History   \n",
       "5944                         Drama, History   \n",
       "9636                 Drama, Fantasy, Horror   \n",
       "7902  Action, Adventure, Comedy, Drama, War   \n",
       "5845                 Drama, Science Fiction   \n",
       "\n",
       "                                             Poster_Url  \n",
       "6094  https://image.tmdb.org/t/p/original/9o0v5LLFk5...  \n",
       "6346  https://image.tmdb.org/t/p/original/myK9DeIsXW...  \n",
       "7913  https://image.tmdb.org/t/p/original/yGNekNFaI4...  \n",
       "8799  https://image.tmdb.org/t/p/original/drgMcyTsyS...  \n",
       "3229  https://image.tmdb.org/t/p/original/zx24O7VAs6...  \n",
       "8072  https://image.tmdb.org/t/p/original/As8MXPHo1z...  \n",
       "5944  https://image.tmdb.org/t/p/original/tjnaRiHUsx...  \n",
       "9636  https://image.tmdb.org/t/p/original/wyqcaa9Cbj...  \n",
       "7902  https://image.tmdb.org/t/p/original/dd2cviAare...  \n",
       "5845  https://image.tmdb.org/t/p/original/pxbGZewX32...  "
      ]
     },
     "execution_count": 49,
     "metadata": {},
     "output_type": "execute_result"
    }
   ],
   "source": [
    "df.sort_values('Release_Date').head(10)"
   ]
  },
  {
   "cell_type": "code",
   "execution_count": null,
   "metadata": {},
   "outputs": [],
   "source": []
  },
  {
   "cell_type": "code",
   "execution_count": null,
   "metadata": {},
   "outputs": [],
   "source": []
  }
 ],
 "metadata": {
  "kernelspec": {
   "display_name": "Python 3",
   "language": "python",
   "name": "python3"
  },
  "language_info": {
   "codemirror_mode": {
    "name": "ipython",
    "version": 3
   },
   "file_extension": ".py",
   "mimetype": "text/x-python",
   "name": "python",
   "nbconvert_exporter": "python",
   "pygments_lexer": "ipython3",
   "version": "3.8.3"
  }
 },
 "nbformat": 4,
 "nbformat_minor": 4
}
